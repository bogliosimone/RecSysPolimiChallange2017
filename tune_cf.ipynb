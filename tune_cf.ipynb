{
 "cells": [
  {
   "cell_type": "code",
   "execution_count": 5,
   "metadata": {},
   "outputs": [
    {
     "name": "stdout",
     "output_type": "stream",
     "text": [
      "Date Reader Challange Polimi 2017\n",
      "Loading data from ./DumpData/DataReaderTrainTestDump\n",
      "Dataset train-test loaded\n"
     ]
    }
   ],
   "source": [
    "from DataReader import DataReaderChallangePolimi2017\n",
    "import implicit\n",
    "from CB_asy import CB_asymmetric_cosine\n",
    "from CF_IB_asy import CF_IB_asymmetric_cosine\n",
    "from CF_UB_asy import CF_UB_asymmetric_cosine\n",
    "from implicit.nearest_neighbours import (BM25Recommender, CosineRecommender,TFIDFRecommender,bm25_weight)\n",
    "from sklearn.preprocessing import normalize\n",
    "import numpy as np\n",
    "import pickle\n",
    "\n",
    "evaluation = True\n",
    "rebuild = False\n",
    "dr = DataReaderChallangePolimi2017(evaluation=evaluation,rebuild=rebuild)\n",
    "\n",
    "urm = dr.getURM_csr()\n",
    "t_p = dr.target_playlists\n",
    "t_t = dr.target_tracks"
   ]
  },
  {
   "cell_type": "code",
   "execution_count": 14,
   "metadata": {},
   "outputs": [
    {
     "name": "stdout",
     "output_type": "stream",
     "text": [
      "0.0640611111111\n"
     ]
    }
   ],
   "source": [
    "#cf user based\n",
    "model = BM25Recommender(K=60)\n",
    "model.fit(urm)\n",
    "s = model.similarity\n",
    "s = normalize(s,axis=0)\n",
    "r_cfub = s.T * urm\n",
    "#r_cfub = normalize(r_cfub, axis=1)\n",
    "if evaluation: print dr.evaluateMAP(r_cfub, verbose = False)\n",
    "r_cfub = dr.reduceRM(r_cfub)"
   ]
  },
  {
   "cell_type": "code",
   "execution_count": 9,
   "metadata": {},
   "outputs": [
    {
     "name": "stdout",
     "output_type": "stream",
     "text": [
      "0.0746020555556\n"
     ]
    }
   ],
   "source": [
    "#cf item based\n",
    "model = BM25Recommender(K=100)\n",
    "model.fit(urm.T)\n",
    "s = model.similarity\n",
    "s.setdiag(0)\n",
    "r_cfib = urm * s.T\n",
    "r_cfib = normalize(r_cfib, axis=0)\n",
    "if evaluation: print dr.evaluateMAP(r_cfib, verbose = False)\n",
    "r_cfib = dr.reduceRM(r_cfib)"
   ]
  },
  {
   "cell_type": "code",
   "execution_count": null,
   "metadata": {
    "collapsed": true
   },
   "outputs": [],
   "source": [
    "0.074602"
   ]
  },
  {
   "cell_type": "code",
   "execution_count": 15,
   "metadata": {
    "scrolled": true
   },
   "outputs": [
    {
     "data": {
      "text/plain": [
       "0.078915055555556293"
      ]
     },
     "execution_count": 15,
     "metadata": {},
     "output_type": "execute_result"
    }
   ],
   "source": [
    "#total cf\n",
    "r_tot = 1.85*r_cfib + r_cfub\n",
    "dr.evaluateMAP(r_tot, verbose = False)"
   ]
  },
  {
   "cell_type": "code",
   "execution_count": null,
   "metadata": {
    "collapsed": true
   },
   "outputs": [],
   "source": []
  },
  {
   "cell_type": "code",
   "execution_count": null,
   "metadata": {
    "collapsed": true
   },
   "outputs": [],
   "source": []
  },
  {
   "cell_type": "code",
   "execution_count": null,
   "metadata": {
    "collapsed": true
   },
   "outputs": [],
   "source": []
  },
  {
   "cell_type": "code",
   "execution_count": null,
   "metadata": {
    "collapsed": true
   },
   "outputs": [],
   "source": [
    "####### tune k "
   ]
  },
  {
   "cell_type": "code",
   "execution_count": 40,
   "metadata": {
    "collapsed": true
   },
   "outputs": [],
   "source": [
    "#cf ub\n",
    "def cf_ub(urm,k):\n",
    "    model = BM25Recommender(K=k)\n",
    "    model.fit(urm)\n",
    "    s = model.similarity\n",
    "    r_cfub = s * urm\n",
    "    r_cfub = normalize(r_cfub, axis=1) \n",
    "    return dr.evaluateMAP(r_cfub, verbose = False)    "
   ]
  },
  {
   "cell_type": "code",
   "execution_count": 94,
   "metadata": {
    "collapsed": true
   },
   "outputs": [],
   "source": [
    "#cf ib\n",
    "def cf_ib(urm,k):\n",
    "    model = BM25Recommender(K=k)\n",
    "    model.fit(urm.T)\n",
    "    s = model.similarity\n",
    "    r_cfib = urm * s.T\n",
    "    r_cfib = normalize(r_cfib, axis=0) \n",
    "    return dr.evaluateMAP(r_cfib, verbose = False)"
   ]
  },
  {
   "cell_type": "code",
   "execution_count": null,
   "metadata": {
    "collapsed": true
   },
   "outputs": [],
   "source": [
    "#tune cf ub\n",
    "urm = dr.getURM_csr()\n",
    "for i in range(25,95,5):\n",
    "    score= cf_ub(urm=urm,k=i)\n",
    "    print (\"k = {:3d} \\t\\tmap = {:1.4f}\").format(i,score)"
   ]
  },
  {
   "cell_type": "code",
   "execution_count": null,
   "metadata": {
    "collapsed": true
   },
   "outputs": [],
   "source": [
    "#tune cf ib\n",
    "urm = dr.getURM_csr()\n",
    "for i in range(70,145,5):\n",
    "    score= cf_ib(urm=urm,k=i)\n",
    "    print (\"k = {:3d} \\t\\tmap = {:1.4f}\").format(i,score)"
   ]
  },
  {
   "cell_type": "code",
   "execution_count": 12,
   "metadata": {},
   "outputs": [
    {
     "name": "stdout",
     "output_type": "stream",
     "text": [
      "k = 1.80 \t\tmap = 0.07880\n",
      "k = 1.85 \t\tmap = 0.07892\n",
      "k = 1.90 \t\tmap = 0.07891\n",
      "k = 1.95 \t\tmap = 0.07882\n",
      "k = 2.00 \t\tmap = 0.07882\n",
      "k = 2.05 \t\tmap = 0.07878\n",
      "k = 2.10 \t\tmap = 0.07875\n",
      "k = 2.15 \t\tmap = 0.07881\n",
      "k = 2.20 \t\tmap = 0.07885\n"
     ]
    }
   ],
   "source": [
    "#tune total\n",
    "for p in np.arange(1.80, 2.2, 0.05):\n",
    "    r_tot = p*r_cfib + r_cfub\n",
    "    score = dr.evaluateMAP(r_tot, verbose = False)\n",
    "    print (\"k = {:1.2f} \\t\\tmap = {:1.5f}\").format(p,score)"
   ]
  },
  {
   "cell_type": "code",
   "execution_count": null,
   "metadata": {
    "collapsed": true
   },
   "outputs": [],
   "source": []
  }
 ],
 "metadata": {
  "kernelspec": {
   "display_name": "Python 2",
   "language": "python",
   "name": "python2"
  },
  "language_info": {
   "codemirror_mode": {
    "name": "ipython",
    "version": 2
   },
   "file_extension": ".py",
   "mimetype": "text/x-python",
   "name": "python",
   "nbconvert_exporter": "python",
   "pygments_lexer": "ipython2",
   "version": "2.7.13"
  }
 },
 "nbformat": 4,
 "nbformat_minor": 2
}
