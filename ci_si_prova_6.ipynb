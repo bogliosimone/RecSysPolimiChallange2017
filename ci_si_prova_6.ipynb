{
 "cells": [
  {
   "cell_type": "code",
   "execution_count": 1,
   "metadata": {},
   "outputs": [
    {
     "name": "stdout",
     "output_type": "stream",
     "text": [
      "Date Reader Challange Polimi 2017\n",
      "Loading data from ./DumpData/DataReaderTrainTestDump\n",
      "Dataset train-test loaded\n"
     ]
    }
   ],
   "source": [
    "from DataReader import DataReaderChallangePolimi2017\n",
    "import implicit\n",
    "from CB_asy import CB_asymmetric_cosine\n",
    "from CF_IB_asy import CF_IB_asymmetric_cosine\n",
    "from CF_UB_asy import CF_UB_asymmetric_cosine\n",
    "from implicit.nearest_neighbours import (BM25Recommender, CosineRecommender,TFIDFRecommender,ItemItemRecommender)\n",
    "from sklearn.preprocessing import normalize\n",
    "import numpy as np\n",
    "import scipy.sparse as sp\n",
    "import pickle\n",
    "\n",
    "evaluation = True\n",
    "rebuild = False\n",
    "dr = DataReaderChallangePolimi2017(evaluation=evaluation,rebuild=rebuild)\n",
    "\n",
    "urm = dr.getURM_csr()\n",
    "t_p = dr.target_playlists\n",
    "t_t = dr.target_tracks\n",
    "if evaluation:\n",
    "    filesslim = \"./DumpData/sim_bpr_10e_100k2.npz\" # or \"./DumpData/sim_bpr_10e_100k.npz\"\n",
    "else:\n",
    "    filesslim = \"./DumpData/sim_bpr_10e_100k_fulltrain.npz\"\n",
    "    "
   ]
  },
  {
   "cell_type": "code",
   "execution_count": 21,
   "metadata": {},
   "outputs": [
    {
     "name": "stdout",
     "output_type": "stream",
     "text": [
      "0.0712471111111\n"
     ]
    }
   ],
   "source": [
    "#track-album\n",
    "icm = dr.getICM_csr(albums=True,artists=False,tags=False)\n",
    "#icm = normalize(icm,axis=0)\n",
    "model = BM25Recommender(K=55)\n",
    "model.fit(icm)\n",
    "s = model.similarity\n",
    "s.setdiag(0)\n",
    "r_al = urm*s.T\n",
    "r_al = normalize(r_al, axis=0)\n",
    "if evaluation: print dr.evaluateMAP(r_al,verbose=False)\n",
    "r_al = dr.reduceRM(r_al)"
   ]
  },
  {
   "cell_type": "code",
   "execution_count": 25,
   "metadata": {},
   "outputs": [
    {
     "name": "stdout",
     "output_type": "stream",
     "text": [
      "0.0702706944444\n"
     ]
    }
   ],
   "source": [
    "#track-artist\n",
    "icm = dr.getICM_csr(albums=False,artists=True,tags=False)\n",
    "icm = normalize(icm,axis=0)\n",
    "model = BM25Recommender(K=55)\n",
    "model.fit(icm)\n",
    "s = model.similarity\n",
    "s.setdiag(0)\n",
    "r_ar = urm*s.T\n",
    "r_ar = normalize(r_ar, axis=0)\n",
    "if evaluation: print dr.evaluateMAP(r_ar,verbose=False)\n",
    "r_ar = dr.reduceRM(r_ar)"
   ]
  },
  {
   "cell_type": "code",
   "execution_count": 24,
   "metadata": {},
   "outputs": [
    {
     "name": "stdout",
     "output_type": "stream",
     "text": [
      "0.0807190277778\n"
     ]
    }
   ],
   "source": [
    "#album and artist\n",
    "icm = dr.getICM_csr(albums=True,artists=True,tags=False)\n",
    "icm = normalize(icm,axis=0)\n",
    "model = BM25Recommender(K=55)\n",
    "model.fit(icm)\n",
    "s = model.similarity\n",
    "s.setdiag(0)\n",
    "r_al_ar = urm*s.T\n",
    "r_al_ar = normalize(r_al_ar, axis=0)\n",
    "if evaluation: print dr.evaluateMAP(r_al_ar,verbose=False)\n",
    "r_al_ar = dr.reduceRM(r_al_ar)"
   ]
  },
  {
   "cell_type": "code",
   "execution_count": 14,
   "metadata": {},
   "outputs": [
    {
     "name": "stdout",
     "output_type": "stream",
     "text": [
      "0.0400636388889\n"
     ]
    }
   ],
   "source": [
    "#tags\n",
    "icm = dr.getICM_csr(albums=False,artists=False,tags=True)\n",
    "#icm = normalize(icm,axis=1)   # little improvment, no more\n",
    "model = BM25Recommender(K = 45)\n",
    "model.fit(icm)\n",
    "s = model.similarity\n",
    "s.setdiag(0)\n",
    "r_tag = urm*s.T\n",
    "r_tag = normalize(r_tag, axis=0)\n",
    "if evaluation: print dr.evaluateMAP(r_tag, verbose = False)\n",
    "r_tag = dr.reduceRM(r_tag)"
   ]
  },
  {
   "cell_type": "code",
   "execution_count": 30,
   "metadata": {},
   "outputs": [
    {
     "name": "stdout",
     "output_type": "stream",
     "text": [
      "0.0650772777778\n"
     ]
    }
   ],
   "source": [
    "#cf ub\n",
    "model = BM25Recommender(K=60)\n",
    "model.fit(urm)\n",
    "s = model.similarity\n",
    "s.setdiag(0)\n",
    "r_cfub = s * urm\n",
    "r_cfub = normalize(r_cfub, axis=1)\n",
    "if evaluation: print dr.evaluateMAP(r_cfub, verbose = False)\n",
    "r_cfub = dr.reduceRM(r_cfub)"
   ]
  },
  {
   "cell_type": "code",
   "execution_count": 10,
   "metadata": {},
   "outputs": [
    {
     "name": "stdout",
     "output_type": "stream",
     "text": [
      "0.0746020555556\n"
     ]
    }
   ],
   "source": [
    "#cf ib\n",
    "model = BM25Recommender(K=100)\n",
    "model.fit(urm.T)\n",
    "s = model.similarity\n",
    "s.setdiag(0)\n",
    "r_cfib = urm * s.T\n",
    "r_cfib = normalize(r_cfib, axis=0)\n",
    "if evaluation: print dr.evaluateMAP(r_cfib, verbose = False)\n",
    "r_cfib = dr.reduceRM(r_cfib)"
   ]
  },
  {
   "cell_type": "code",
   "execution_count": 11,
   "metadata": {
    "collapsed": true
   },
   "outputs": [],
   "source": [
    "#############start with the mix#################"
   ]
  },
  {
   "cell_type": "code",
   "execution_count": 12,
   "metadata": {
    "collapsed": true
   },
   "outputs": [],
   "source": [
    "######### cb"
   ]
  },
  {
   "cell_type": "code",
   "execution_count": 35,
   "metadata": {},
   "outputs": [
    {
     "name": "stdout",
     "output_type": "stream",
     "text": [
      "0.0824580555556\n"
     ]
    }
   ],
   "source": [
    "r_cb1 = r_al_ar + 0.40*r_tag \n",
    "if evaluation: print dr.evaluateMAP(r_cb1, verbose = False)"
   ]
  },
  {
   "cell_type": "code",
   "execution_count": 25,
   "metadata": {
    "collapsed": true
   },
   "outputs": [],
   "source": [
    "########## cf"
   ]
  },
  {
   "cell_type": "code",
   "execution_count": 39,
   "metadata": {},
   "outputs": [
    {
     "name": "stdout",
     "output_type": "stream",
     "text": [
      "0.0791964166667\n"
     ]
    }
   ],
   "source": [
    "#total cf\n",
    "r_totcf = 1.9*r_cfib + r_cfub\n",
    "if evaluation: print dr.evaluateMAP(r_totcf, verbose = False)"
   ]
  },
  {
   "cell_type": "code",
   "execution_count": 27,
   "metadata": {
    "collapsed": true
   },
   "outputs": [],
   "source": [
    "########## all"
   ]
  },
  {
   "cell_type": "code",
   "execution_count": 42,
   "metadata": {},
   "outputs": [
    {
     "name": "stdout",
     "output_type": "stream",
     "text": [
      "0.102730444444\n"
     ]
    }
   ],
   "source": [
    "r_tot = r_cb1 + 1.1 * r_totcf\n",
    "if evaluation: print dr.evaluateMAP(r_tot,verbose = False)"
   ]
  },
  {
   "cell_type": "code",
   "execution_count": 20,
   "metadata": {
    "collapsed": true
   },
   "outputs": [],
   "source": [
    "######improve total a little"
   ]
  },
  {
   "cell_type": "code",
   "execution_count": 21,
   "metadata": {},
   "outputs": [
    {
     "name": "stdout",
     "output_type": "stream",
     "text": [
      "0.104498\n"
     ]
    }
   ],
   "source": [
    "r_tot2 = r_tot + 0.25*r_pal + 0.25*r_par\n",
    "if evaluation: print dr.evaluateMAP(r_tot2,verbose = False)"
   ]
  },
  {
   "cell_type": "code",
   "execution_count": 64,
   "metadata": {},
   "outputs": [
    {
     "name": "stdout",
     "output_type": "stream",
     "text": [
      "0.103436888889\n"
     ]
    }
   ],
   "source": [
    "r_tot3 = r_tot + 0.25*r_al + 0.0*r_ar    #also rtot2\n",
    "if evaluation: print dr.evaluateMAP(r_tot3,verbose = False)"
   ]
  },
  {
   "cell_type": "code",
   "execution_count": null,
   "metadata": {
    "collapsed": true
   },
   "outputs": [],
   "source": [
    "###################################"
   ]
  },
  {
   "cell_type": "code",
   "execution_count": 55,
   "metadata": {
    "collapsed": true
   },
   "outputs": [],
   "source": [
    "r_tot5 = 1.809 * 1.250 * r_cfib + 1.820 * r_cfub + r_al_ar + 0.240 * r_tag + 0.150*r_al + 0.119*r_ar\n",
    "if evaluation: print dr.evaluateMAP(r_tot5,verbose = False)"
   ]
  },
  {
   "cell_type": "code",
   "execution_count": 22,
   "metadata": {
    "collapsed": true
   },
   "outputs": [],
   "source": [
    "###############################"
   ]
  },
  {
   "cell_type": "code",
   "execution_count": 69,
   "metadata": {},
   "outputs": [
    {
     "name": "stdout",
     "output_type": "stream",
     "text": [
      "0.0224640833333\n"
     ]
    }
   ],
   "source": [
    "#owners\n",
    "ucm = dr.getOwnersUCM_csr()\n",
    "ucm = normalize(ucm,axis=0)\n",
    "model = BM25Recommender(K=105)#110\n",
    "model.fit(ucm)\n",
    "s = model.similarity\n",
    "#s.setdiag(0)\n",
    "r_o = s*urm\n",
    "r_o = normalize(r_o, axis=0)\n",
    "if evaluation: print dr.evaluateMAP(r_o,verbose=False)\n",
    "r_o = dr.reduceRM(r_o)"
   ]
  },
  {
   "cell_type": "code",
   "execution_count": 73,
   "metadata": {},
   "outputs": [
    {
     "name": "stdout",
     "output_type": "stream",
     "text": [
      "0.108490638889\n"
     ]
    }
   ],
   "source": [
    "r_totx = r_tot3+0.91*r_o\n",
    "if evaluation: print dr.evaluateMAP(r_totx,verbose = False)"
   ]
  },
  {
   "cell_type": "code",
   "execution_count": 78,
   "metadata": {},
   "outputs": [
    {
     "name": "stdout",
     "output_type": "stream",
     "text": [
      "0.108790444444\n"
     ]
    }
   ],
   "source": [
    "r_tot6 = r_totx+0.17*r_pal\n",
    "if evaluation: print dr.evaluateMAP(r_tot6,verbose = False)"
   ]
  },
  {
   "cell_type": "code",
   "execution_count": null,
   "metadata": {},
   "outputs": [],
   "source": [
    "#tune total\n",
    "for p in np.arange(0.0, 0.25, 0.025):\n",
    "    r_tot7 = r_tot6+p*r_ar\n",
    "    score = dr.evaluateMAP(r_tot7, verbose = False)\n",
    "    print (\"k = {:1.3f} \\t\\tmap = {:1.5f}\").format(p,score)"
   ]
  },
  {
   "cell_type": "code",
   "execution_count": null,
   "metadata": {
    "collapsed": true
   },
   "outputs": [],
   "source": []
  },
  {
   "cell_type": "code",
   "execution_count": null,
   "metadata": {
    "collapsed": true
   },
   "outputs": [],
   "source": [
    "##############################"
   ]
  },
  {
   "cell_type": "code",
   "execution_count": 56,
   "metadata": {},
   "outputs": [
    {
     "name": "stdout",
     "output_type": "stream",
     "text": [
      "User 0 of 10000\n",
      "User 2500 of 10000\n",
      "User 5000 of 10000\n",
      "User 7500 of 10000\n",
      "Recommendations done\n",
      "Creating submission file in: ./Submissions/ci_si_prova_3_mix_no_projectx_12\n",
      "Done\n"
     ]
    }
   ],
   "source": [
    "rec = dr.getAllRecommendations(r_tot5)\n",
    "if not evaluation: dr.buildSubmissionFile(recommendation=rec, file_name=\"ci_si_prova_3_mix_no_projectx_12\") ####<------name"
   ]
  },
  {
   "cell_type": "code",
   "execution_count": null,
   "metadata": {
    "collapsed": true
   },
   "outputs": [],
   "source": [
    "#############################"
   ]
  },
  {
   "cell_type": "code",
   "execution_count": null,
   "metadata": {
    "collapsed": true
   },
   "outputs": [],
   "source": [
    "for p in np.arange(0.70,0.90,0.01):\n",
    "    r_tot5 = r_tot4 + p * r_o\n",
    "    score = dr.evaluateMAP(r_tot5,verbose = False)\n",
    "    print (\"k = {:1.2f} \\t\\tmap = {:1.5f}\").format(p,score)"
   ]
  },
  {
   "cell_type": "code",
   "execution_count": 46,
   "metadata": {},
   "outputs": [
    {
     "name": "stdout",
     "output_type": "stream",
     "text": [
      "0.0685035277778\n"
     ]
    }
   ],
   "source": [
    "#playtlist-album\n",
    "icm_al = dr.getUCM_csr(albums=True,artists=False)\n",
    "model = BM25Recommender(K=100)\n",
    "model.fit(icm_al)\n",
    "s = model.similarity\n",
    "s.setdiag(0)\n",
    "r_pal = s*urm\n",
    "r_pal = normalize(r_pal, axis=0)\n",
    "if evaluation: print dr.evaluateMAP(r_pal,verbose=False)\n",
    "r_pal = dr.reduceRM(r_pal)"
   ]
  },
  {
   "cell_type": "code",
   "execution_count": 47,
   "metadata": {},
   "outputs": [
    {
     "name": "stdout",
     "output_type": "stream",
     "text": [
      "0.0597782777778\n"
     ]
    }
   ],
   "source": [
    "#playlist-artist\n",
    "icm_ar = dr.getUCM_csr(albums=False,artists=True)\n",
    "model = BM25Recommender(K=55)\n",
    "model.fit(icm_ar)\n",
    "s = model.similarity\n",
    "s.setdiag(0)\n",
    "r_par = s*urm\n",
    "r_par = normalize(r_par, axis=0)\n",
    "if evaluation: print dr.evaluateMAP(r_par,verbose=False)\n",
    "r_par = dr.reduceRM(r_par)"
   ]
  },
  {
   "cell_type": "code",
   "execution_count": null,
   "metadata": {
    "collapsed": true
   },
   "outputs": [],
   "source": []
  }
 ],
 "metadata": {
  "kernelspec": {
   "display_name": "Python 2",
   "language": "python",
   "name": "python2"
  },
  "language_info": {
   "codemirror_mode": {
    "name": "ipython",
    "version": 2
   },
   "file_extension": ".py",
   "mimetype": "text/x-python",
   "name": "python",
   "nbconvert_exporter": "python",
   "pygments_lexer": "ipython2",
   "version": "2.7.13"
  }
 },
 "nbformat": 4,
 "nbformat_minor": 2
}
