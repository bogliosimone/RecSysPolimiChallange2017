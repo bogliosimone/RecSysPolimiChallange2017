{
 "cells": [
  {
   "cell_type": "code",
   "execution_count": 1,
   "metadata": {},
   "outputs": [
    {
     "name": "stdout",
     "output_type": "stream",
     "text": [
      "Date Reader Challange Polimi 2017\n",
      "Loading data from ./DumpData/DataReaderTrainTestDump\n",
      "Dataset train-test loaded\n"
     ]
    }
   ],
   "source": [
    "from DataReader import DataReaderChallangePolimi2017\n",
    "import implicit\n",
    "from CB_asy import CB_asymmetric_cosine\n",
    "from CF_IB_asy import CF_IB_asymmetric_cosine\n",
    "from CF_UB_asy import CF_UB_asymmetric_cosine\n",
    "from implicit.nearest_neighbours import (BM25Recommender, CosineRecommender,TFIDFRecommender)\n",
    "from sklearn.preprocessing import normalize\n",
    "import numpy as np\n",
    "import scipy.sparse as sp\n",
    "import pickle\n",
    "\n",
    "evaluation = True\n",
    "rebuild = False\n",
    "dr = DataReaderChallangePolimi2017(evaluation=evaluation,rebuild=rebuild)\n",
    "\n",
    "urm = dr.getURM_csr()\n",
    "t_p = dr.target_playlists\n",
    "t_t = dr.target_tracks\n",
    "if evaluation:\n",
    "    filesslim = \"./DumpData/sim_bpr_10e_100k2.npz\" # or \"./DumpData/sim_bpr_10e_100k.npz\"\n",
    "else:\n",
    "    filesslim = \"./DumpData/sim_bpr_10e_100k_fulltrain.npz\"\n",
    "    "
   ]
  },
  {
   "cell_type": "code",
   "execution_count": 2,
   "metadata": {},
   "outputs": [
    {
     "name": "stderr",
     "output_type": "stream",
     "text": [
      "C:\\Users\\Simone\\Anaconda2\\lib\\site-packages\\scipy\\sparse\\compressed.py:742: SparseEfficiencyWarning: Changing the sparsity structure of a csr_matrix is expensive. lil_matrix is more efficient.\n",
      "  SparseEfficiencyWarning)\n"
     ]
    },
    {
     "name": "stdout",
     "output_type": "stream",
     "text": [
      "0.0711872222222\n"
     ]
    }
   ],
   "source": [
    "#track-album\n",
    "icm = dr.getICM_csr(albums=True,artists=False,tags=False)\n",
    "icm = normalize(icm,axis=0)\n",
    "model = BM25Recommender(K=55)\n",
    "model.fit(icm)\n",
    "s = model.similarity\n",
    "s.setdiag(0)\n",
    "r_al = urm*s.T\n",
    "r_al = normalize(r_al, axis=0)\n",
    "if evaluation: print dr.evaluateMAP(r_al,verbose=False)\n",
    "r_al = dr.reduceRM(r_al)"
   ]
  },
  {
   "cell_type": "code",
   "execution_count": 3,
   "metadata": {},
   "outputs": [
    {
     "name": "stdout",
     "output_type": "stream",
     "text": [
      "0.0702706944444\n"
     ]
    }
   ],
   "source": [
    "#track-artist\n",
    "icm = dr.getICM_csr(albums=False,artists=True,tags=False)\n",
    "icm = normalize(icm,axis=0)\n",
    "model = BM25Recommender(K=55)\n",
    "model.fit(icm)\n",
    "s = model.similarity\n",
    "s.setdiag(0)\n",
    "r_ar = urm*s.T\n",
    "r_ar = normalize(r_ar, axis=0)\n",
    "if evaluation: print dr.evaluateMAP(r_ar,verbose=False)\n",
    "r_ar = dr.reduceRM(r_ar)"
   ]
  },
  {
   "cell_type": "code",
   "execution_count": 4,
   "metadata": {},
   "outputs": [
    {
     "name": "stdout",
     "output_type": "stream",
     "text": [
      "0.0715785\n"
     ]
    }
   ],
   "source": [
    "#playtlist-album\n",
    "icm_al = dr.getUCM_csr(albums=True,artists=False)\n",
    "model = BM25Recommender(K=100)\n",
    "model.fit(icm_al)\n",
    "s = model.similarity\n",
    "r_pal = s.T*urm\n",
    "r_pal = normalize(r_pal, axis=0)\n",
    "if evaluation: print dr.evaluateMAP(r_pal,verbose=False)\n",
    "r_pal = dr.reduceRM(r_pal)"
   ]
  },
  {
   "cell_type": "code",
   "execution_count": 5,
   "metadata": {},
   "outputs": [
    {
     "name": "stdout",
     "output_type": "stream",
     "text": [
      "0.0607021666667\n"
     ]
    }
   ],
   "source": [
    "#playlist-artist\n",
    "icm_ar = dr.getUCM_csr(albums=False,artists=True)\n",
    "model = BM25Recommender(K=100)\n",
    "model.fit(icm_ar)\n",
    "s = model.similarity\n",
    "r_par = s.T*urm\n",
    "r_par = normalize(r_par, axis=0)\n",
    "if evaluation: print dr.evaluateMAP(r_par,verbose=False)\n",
    "r_par = dr.reduceRM(r_par)"
   ]
  },
  {
   "cell_type": "code",
   "execution_count": 6,
   "metadata": {},
   "outputs": [
    {
     "name": "stdout",
     "output_type": "stream",
     "text": [
      "0.0790083611111\n"
     ]
    }
   ],
   "source": [
    "#album and artist\n",
    "icm = dr.getICM_csr(albums=True,artists=True,tags=False)\n",
    "icm = normalize(icm,axis=0)\n",
    "model = BM25Recommender(K=55)\n",
    "model.fit(icm)\n",
    "s = model.similarity\n",
    "r_al_ar = urm*s.T #or s\n",
    "r_al_ar = normalize(r_al_ar, axis=0)\n",
    "if evaluation: print dr.evaluateMAP(r_al_ar,verbose=False)\n",
    "r_al_ar = dr.reduceRM(r_al_ar)"
   ]
  },
  {
   "cell_type": "code",
   "execution_count": 7,
   "metadata": {},
   "outputs": [
    {
     "name": "stdout",
     "output_type": "stream",
     "text": [
      "0.0377463611111\n"
     ]
    }
   ],
   "source": [
    "#tags\n",
    "icm = dr.getICM_csr(albums=False,artists=False,tags=True)\n",
    "icm = normalize(icm,axis=1)   # little improvment\n",
    "model = BM25Recommender(K = 15)\n",
    "model.fit(icm)\n",
    "s = model.similarity\n",
    "r_tag = urm*s\n",
    "r_tag = normalize(r_tag, axis=0)\n",
    "if evaluation: print dr.evaluateMAP(r_tag, verbose = False)\n",
    "r_tag = dr.reduceRM(r_tag)"
   ]
  },
  {
   "cell_type": "code",
   "execution_count": 8,
   "metadata": {},
   "outputs": [
    {
     "name": "stdout",
     "output_type": "stream",
     "text": [
      "0.0661010277778\n"
     ]
    }
   ],
   "source": [
    "#cf ub\n",
    "model = BM25Recommender(K=60)\n",
    "model.fit(urm)\n",
    "s = model.similarity\n",
    "r_cfub = s.T * urm\n",
    "r_cfub = normalize(r_cfub, axis=1)\n",
    "if evaluation: print dr.evaluateMAP(r_cfub, verbose = False)\n",
    "r_cfub = dr.reduceRM(r_cfub)"
   ]
  },
  {
   "cell_type": "code",
   "execution_count": 9,
   "metadata": {},
   "outputs": [
    {
     "name": "stdout",
     "output_type": "stream",
     "text": [
      "0.0729845\n"
     ]
    }
   ],
   "source": [
    "#cf ib\n",
    "model = BM25Recommender(K=100)\n",
    "model.fit(urm.T)\n",
    "s = model.similarity\n",
    "r_cfib = urm * s.T\n",
    "r_cfib = normalize(r_cfib, axis=0)\n",
    "if evaluation: print dr.evaluateMAP(r_cfib, verbose = False)\n",
    "r_cfib = dr.reduceRM(r_cfib)"
   ]
  },
  {
   "cell_type": "code",
   "execution_count": 10,
   "metadata": {},
   "outputs": [
    {
     "name": "stdout",
     "output_type": "stream",
     "text": [
      "0.0636542777778\n"
     ]
    }
   ],
   "source": [
    "r_bpr = dr.reduceRM(urm * dr.load_sparse_csr(filesslim))\n",
    "\n",
    "if evaluation: print dr.evaluateMAP(r_bpr, verbose=False)"
   ]
  },
  {
   "cell_type": "code",
   "execution_count": 11,
   "metadata": {
    "collapsed": true
   },
   "outputs": [],
   "source": [
    "#############start with the mix#################"
   ]
  },
  {
   "cell_type": "code",
   "execution_count": 12,
   "metadata": {
    "collapsed": true
   },
   "outputs": [],
   "source": [
    "######### cb"
   ]
  },
  {
   "cell_type": "code",
   "execution_count": 13,
   "metadata": {},
   "outputs": [
    {
     "name": "stdout",
     "output_type": "stream",
     "text": [
      "0.0811120277778\n"
     ]
    }
   ],
   "source": [
    "r_cb1 = r_al_ar + 0.25*r_tag \n",
    "if evaluation: print dr.evaluateMAP(r_cb1, verbose = False)"
   ]
  },
  {
   "cell_type": "code",
   "execution_count": 14,
   "metadata": {
    "collapsed": true
   },
   "outputs": [],
   "source": [
    "#not used atm\n",
    "#r_totcb = normalize(r_cb1,axis=1) + 0.2* r_al + 0.15 * r_ar\n",
    "#if evaluation: print dr.evaluateMAP(r_totcb, verbose = False)"
   ]
  },
  {
   "cell_type": "code",
   "execution_count": 15,
   "metadata": {
    "collapsed": true
   },
   "outputs": [],
   "source": [
    "########## cf"
   ]
  },
  {
   "cell_type": "code",
   "execution_count": 16,
   "metadata": {},
   "outputs": [
    {
     "name": "stdout",
     "output_type": "stream",
     "text": [
      "0.0784290277778\n"
     ]
    }
   ],
   "source": [
    "#total cf\n",
    "r_totcf = 1.25*r_cfib + r_cfub\n",
    "if evaluation: print dr.evaluateMAP(r_totcf, verbose = False)"
   ]
  },
  {
   "cell_type": "code",
   "execution_count": 17,
   "metadata": {
    "collapsed": true
   },
   "outputs": [],
   "source": [
    "########## all"
   ]
  },
  {
   "cell_type": "code",
   "execution_count": 18,
   "metadata": {},
   "outputs": [
    {
     "name": "stdout",
     "output_type": "stream",
     "text": [
      "0.104172\n"
     ]
    }
   ],
   "source": [
    "r_tot = r_cb1 + 1.80 * r_totcf\n",
    "if evaluation: print dr.evaluateMAP(r_tot,verbose = False)"
   ]
  },
  {
   "cell_type": "code",
   "execution_count": 19,
   "metadata": {
    "collapsed": true
   },
   "outputs": [],
   "source": [
    "#not used atm\n",
    "#r_tot2 = r_tot + 5* r_bpr\n",
    "\n",
    "#if evaluation: print dr.evaluateMAP(r_tot2,verbose = False)"
   ]
  },
  {
   "cell_type": "code",
   "execution_count": 20,
   "metadata": {
    "collapsed": true
   },
   "outputs": [],
   "source": [
    "######improve total a little"
   ]
  },
  {
   "cell_type": "code",
   "execution_count": 21,
   "metadata": {},
   "outputs": [
    {
     "name": "stdout",
     "output_type": "stream",
     "text": [
      "0.104216083333\n"
     ]
    }
   ],
   "source": [
    "r_tot2 = r_tot + 0.20*r_pal + 0.15*r_par\n",
    "if evaluation: print dr.evaluateMAP(r_tot2,verbose = False)"
   ]
  },
  {
   "cell_type": "code",
   "execution_count": 22,
   "metadata": {},
   "outputs": [
    {
     "name": "stdout",
     "output_type": "stream",
     "text": [
      "0.104762111111\n"
     ]
    }
   ],
   "source": [
    "r_tot3 = r_tot2 + 0.10*r_al + 0.10*r_ar\n",
    "if evaluation: print dr.evaluateMAP(r_tot3,verbose = False)"
   ]
  },
  {
   "cell_type": "code",
   "execution_count": 23,
   "metadata": {},
   "outputs": [
    {
     "name": "stdout",
     "output_type": "stream",
     "text": [
      "0.0108685277778\n"
     ]
    }
   ],
   "source": [
    "#titles\n",
    "ucm_titles = dr.getTitlesUCM_csr()\n",
    "ucm = normalize(ucm_titles,axis=0)\n",
    "model = BM25Recommender(K=100)\n",
    "model.fit(ucm)\n",
    "s = model.similarity\n",
    "r_titles = s.T*urm\n",
    "r_titles = normalize(r_titles, axis=1)\n",
    "if evaluation: print dr.evaluateMAP(r_titles,verbose=False)\n",
    "r_titles = dr.reduceRM(r_titles)"
   ]
  },
  {
   "cell_type": "code",
   "execution_count": 24,
   "metadata": {},
   "outputs": [
    {
     "name": "stdout",
     "output_type": "stream",
     "text": [
      "0.0224909166667\n"
     ]
    }
   ],
   "source": [
    "#owners\n",
    "ucm_owners = dr.getOwnersUCM_csr()\n",
    "ucm = normalize(ucm_owners,axis=0)\n",
    "model = BM25Recommender(K=150)\n",
    "model.fit(ucm)\n",
    "s = model.similarity\n",
    "r_owners = s.T*urm\n",
    "r_owners = normalize(r_owners, axis=0)\n",
    "if evaluation: print dr.evaluateMAP(r_owners,verbose=False)\n",
    "r_owners_al = dr.reduceRM(r_owners)"
   ]
  },
  {
   "cell_type": "code",
   "execution_count": 25,
   "metadata": {},
   "outputs": [
    {
     "name": "stdout",
     "output_type": "stream",
     "text": [
      "0.109232083333\n"
     ]
    }
   ],
   "source": [
    "r_tot4 = r_tot3 + 0.725*r_owners\n",
    "if evaluation: print dr.evaluateMAP(r_tot4,verbose = False)"
   ]
  },
  {
   "cell_type": "code",
   "execution_count": 26,
   "metadata": {
    "collapsed": true
   },
   "outputs": [],
   "source": [
    "######xxx project --> :( not work"
   ]
  },
  {
   "cell_type": "code",
   "execution_count": 27,
   "metadata": {
    "collapsed": true
   },
   "outputs": [],
   "source": [
    "owners, n_owners = dr.getOwners()\n",
    "n_tracks = dr.n_tracks\n",
    "\n",
    "train = dr.train.T\n",
    "d = {}\n",
    "for row in train:\n",
    "    p = row[0]\n",
    "    t = row[1]\n",
    "    if p in d:\n",
    "        d[p].append(t)\n",
    "    else:\n",
    "        d[p] = []\n",
    "        d[p].append(t)\n",
    "\n",
    "xxx = []\n",
    "for row in owners.T:\n",
    "    o = row[1]\n",
    "    p = row[0]\n",
    "    if p not in d:\n",
    "        continue #we don't have this playlist in train\n",
    "    t_p = d[p]\n",
    "    for t in t_p:\n",
    "        xxx.append([o,t])\n",
    "xxx = np.array(xxx)"
   ]
  },
  {
   "cell_type": "code",
   "execution_count": 77,
   "metadata": {
    "collapsed": true
   },
   "outputs": [],
   "source": [
    "#build xxx matrix\n",
    "\n",
    "r,c,v = [],[],[]\n",
    "for row in xxx:\n",
    "    r.append(row[0])\n",
    "    c.append(row[1])\n",
    "    v.append(1)\n",
    "\n",
    "xcm = sp.coo_matrix((v, (r, c)), shape=(n_owners, n_tracks ),dtype=np.float).tocsr().T\n",
    "xcm.data = np.ones(len(xcm.data))"
   ]
  },
  {
   "cell_type": "code",
   "execution_count": 114,
   "metadata": {},
   "outputs": [
    {
     "name": "stdout",
     "output_type": "stream",
     "text": [
      "0.0383581944444\n"
     ]
    }
   ],
   "source": [
    "icm= normalize(xcm,axis=1)\n",
    "model = BM25Recommender(K=100)\n",
    "model.fit(icm)\n",
    "s = model.similarity\n",
    "s.setdiag(0)\n",
    "r_x = urm*s.T\n",
    "r_x = normalize(r_x, axis=1)\n",
    "if evaluation: print dr.evaluateMAP(r_x,verbose=False)\n",
    "r_x = dr.reduceRM(r_x)"
   ]
  },
  {
   "cell_type": "code",
   "execution_count": 115,
   "metadata": {},
   "outputs": [
    {
     "name": "stdout",
     "output_type": "stream",
     "text": [
      "0.109488888889\n"
     ]
    }
   ],
   "source": [
    "r_tot5 = r_tot4 + 0.13*r_x\n",
    "if evaluation: print dr.evaluateMAP(r_tot5,verbose = False)"
   ]
  },
  {
   "cell_type": "code",
   "execution_count": null,
   "metadata": {
    "collapsed": true
   },
   "outputs": [],
   "source": [
    "############# end xxx project"
   ]
  },
  {
   "cell_type": "code",
   "execution_count": null,
   "metadata": {
    "collapsed": true
   },
   "outputs": [],
   "source": [
    "#############"
   ]
  },
  {
   "cell_type": "code",
   "execution_count": 23,
   "metadata": {},
   "outputs": [
    {
     "name": "stdout",
     "output_type": "stream",
     "text": [
      "User 0 of 10000\n",
      "User 2500 of 10000\n",
      "User 5000 of 10000\n",
      "User 7500 of 10000\n",
      "Recommendations done\n",
      "Creating submission file in: ./Submissions/ci_si_prova_3_mix\n",
      "Done\n"
     ]
    }
   ],
   "source": [
    "rec = dr.getAllRecommendations(r_tot3)\n",
    "dr.buildSubmissionFile(recommendation=rec, file_name=\"ci_si_prova_3_mix\")"
   ]
  },
  {
   "cell_type": "code",
   "execution_count": null,
   "metadata": {
    "collapsed": true
   },
   "outputs": [],
   "source": [
    "## actually not used"
   ]
  },
  {
   "cell_type": "code",
   "execution_count": 8,
   "metadata": {
    "scrolled": true
   },
   "outputs": [
    {
     "name": "stdout",
     "output_type": "stream",
     "text": [
      "Start asymmetric cosine item-based model..\n",
      "Keep only k-similar item..\n",
      "Building sparse matrix..\n",
      "Start building rating matrix..\n",
      "Normalizing rating matrix..\n",
      "Model asymmetric cosine item-based done\n",
      "0.0720835555556\n"
     ]
    }
   ],
   "source": [
    "#collaborative filtering item based asym\n",
    "m_cf_ib = CF_IB_asymmetric_cosine(urm, k=200, alpha=0.30, q=1, m=0)\n",
    "s = m_cf_ib.s\n",
    "r_cfib_asy = urm*s\n",
    "if evaluation: print dr.evaluateMAP(r_cfib_asy, verbose=False)\n",
    "# reduce matrix\n",
    "r_cfib_asy_more = normalize(r_cfib,axis=1) #4.75\n",
    "r_cfib_asy_less = normalize(r_cfib,axis=0)#2.75 #######axis 0 better in sum\n",
    "\n",
    "r_cfib_asy = dr.reduceRM(r_cfib_asy)\n",
    "r_cfib_asy_more = dr.reduceRM(r_cfib_asy_more)\n",
    "r_cfib_asy_less = dr.reduceRM(r_cfib_asy_less)"
   ]
  }
 ],
 "metadata": {
  "kernelspec": {
   "display_name": "Python 2",
   "language": "python",
   "name": "python2"
  },
  "language_info": {
   "codemirror_mode": {
    "name": "ipython",
    "version": 2
   },
   "file_extension": ".py",
   "mimetype": "text/x-python",
   "name": "python",
   "nbconvert_exporter": "python",
   "pygments_lexer": "ipython2",
   "version": "2.7.13"
  }
 },
 "nbformat": 4,
 "nbformat_minor": 2
}
