{
 "cells": [
  {
   "cell_type": "code",
   "execution_count": 50,
   "metadata": {},
   "outputs": [
    {
     "name": "stdout",
     "output_type": "stream",
     "text": [
      "Date Reader Challange Polimi 2017\n",
      "Loading data from ./DumpData/DataReaderTrainTestDump\n",
      "Dataset train-test loaded\n"
     ]
    }
   ],
   "source": [
    "from DataReader import DataReaderChallangePolimi2017\n",
    "import implicit\n",
    "from CB_asy import CB_asymmetric_cosine\n",
    "from CF_IB_asy import CF_IB_asymmetric_cosine\n",
    "from CF_UB_asy import CF_UB_asymmetric_cosine\n",
    "from implicit.nearest_neighbours import (BM25Recommender, CosineRecommender,TFIDFRecommender,ItemItemRecommender)\n",
    "from sklearn.preprocessing import normalize\n",
    "import numpy as np\n",
    "import scipy.sparse as sp\n",
    "import pickle\n",
    "\n",
    "evaluation = True\n",
    "rebuild = False\n",
    "dr = DataReaderChallangePolimi2017(evaluation=evaluation,rebuild=rebuild)\n",
    "\n",
    "urm = dr.getURM_csr()\n",
    "t_p = dr.target_playlists\n",
    "t_t = dr.target_tracks\n",
    "if evaluation:\n",
    "    filesslim = \"./DumpData/sim_bpr_10e_100k2.npz\" # or \"./DumpData/sim_bpr_10e_100k.npz\"\n",
    "else:\n",
    "    filesslim = \"./DumpData/sim_bpr_10e_100k_fulltrain.npz\"\n",
    "    "
   ]
  },
  {
   "cell_type": "code",
   "execution_count": 16,
   "metadata": {},
   "outputs": [
    {
     "name": "stdout",
     "output_type": "stream",
     "text": [
      "0.0712471111111\n"
     ]
    }
   ],
   "source": [
    "#track-album\n",
    "icm = dr.getICM_csr(albums=True,artists=False,tags=False)\n",
    "#icm = normalize(icm,axis=0)\n",
    "model = BM25Recommender(K=30)\n",
    "model.fit(icm)\n",
    "s = model.similarity\n",
    "s.setdiag(0)\n",
    "r_al = urm*s.T\n",
    "r_al = normalize(r_al, axis=0)\n",
    "if evaluation: print dr.evaluateMAP(r_al,verbose=False)\n",
    "r_al = dr.reduceRM(r_al)"
   ]
  },
  {
   "cell_type": "code",
   "execution_count": 17,
   "metadata": {},
   "outputs": [
    {
     "name": "stdout",
     "output_type": "stream",
     "text": [
      "0.0710406388889\n"
     ]
    }
   ],
   "source": [
    "#track-artist\n",
    "icm = dr.getICM_csr(albums=False,artists=True,tags=False)\n",
    "icm = normalize(icm,axis=0)\n",
    "model = BM25Recommender(K=68)\n",
    "model.fit(icm)\n",
    "s = model.similarity\n",
    "s.setdiag(0)\n",
    "r_ar = urm*s.T\n",
    "r_ar = normalize(r_ar, axis=0)\n",
    "if evaluation: print dr.evaluateMAP(r_ar,verbose=False)\n",
    "r_ar = dr.reduceRM(r_ar)"
   ]
  },
  {
   "cell_type": "code",
   "execution_count": 18,
   "metadata": {},
   "outputs": [
    {
     "name": "stdout",
     "output_type": "stream",
     "text": [
      "0.0724248333333\n"
     ]
    }
   ],
   "source": [
    "#playtlist-album\n",
    "icm_al = dr.getUCM_csr(albums=True,artists=False)\n",
    "model = BM25Recommender(K=120)\n",
    "model.fit(icm_al)\n",
    "s = model.similarity\n",
    "r_pal = s.T*urm\n",
    "r_pal = normalize(r_pal, axis=0)\n",
    "if evaluation: print dr.evaluateMAP(r_pal,verbose=False)\n",
    "r_pal = dr.reduceRM(r_pal)"
   ]
  },
  {
   "cell_type": "code",
   "execution_count": 19,
   "metadata": {},
   "outputs": [
    {
     "name": "stdout",
     "output_type": "stream",
     "text": [
      "0.0607021666667\n"
     ]
    }
   ],
   "source": [
    "#playlist-artist\n",
    "icm_ar = dr.getUCM_csr(albums=False,artists=True)\n",
    "model = BM25Recommender(K=100)\n",
    "model.fit(icm_ar)\n",
    "s = model.similarity\n",
    "r_par = s.T*urm\n",
    "r_par = normalize(r_par, axis=0)\n",
    "if evaluation: print dr.evaluateMAP(r_par,verbose=False)\n",
    "r_par = dr.reduceRM(r_par)"
   ]
  },
  {
   "cell_type": "code",
   "execution_count": 20,
   "metadata": {},
   "outputs": [
    {
     "name": "stdout",
     "output_type": "stream",
     "text": [
      "0.0790871666667\n"
     ]
    }
   ],
   "source": [
    "#album and artist\n",
    "icm = dr.getICM_csr(albums=True,artists=True,tags=False)\n",
    "icm = normalize(icm,axis=0)\n",
    "model = BM25Recommender(K=58)\n",
    "model.fit(icm)\n",
    "s = model.similarity\n",
    "r_al_ar = urm*s.T #or s\n",
    "r_al_ar = normalize(r_al_ar, axis=0)\n",
    "if evaluation: print dr.evaluateMAP(r_al_ar,verbose=False)\n",
    "r_al_ar = dr.reduceRM(r_al_ar)"
   ]
  },
  {
   "cell_type": "code",
   "execution_count": 21,
   "metadata": {},
   "outputs": [
    {
     "name": "stdout",
     "output_type": "stream",
     "text": [
      "0.0377463611111\n"
     ]
    }
   ],
   "source": [
    "#tags\n",
    "icm = dr.getICM_csr(albums=False,artists=False,tags=True)\n",
    "icm = normalize(icm,axis=1)   # little improvment\n",
    "model = BM25Recommender(K = 15)\n",
    "model.fit(icm)\n",
    "s = model.similarity\n",
    "r_tag = urm*s\n",
    "r_tag = normalize(r_tag, axis=0)\n",
    "if evaluation: print dr.evaluateMAP(r_tag, verbose = False)\n",
    "r_tag = dr.reduceRM(r_tag)"
   ]
  },
  {
   "cell_type": "code",
   "execution_count": 22,
   "metadata": {},
   "outputs": [
    {
     "name": "stdout",
     "output_type": "stream",
     "text": [
      "0.0661010277778\n"
     ]
    }
   ],
   "source": [
    "#cf ub\n",
    "model = BM25Recommender(K=60)\n",
    "model.fit(urm)\n",
    "s = model.similarity\n",
    "r_cfub = s.T * urm\n",
    "r_cfub = normalize(r_cfub, axis=1)\n",
    "if evaluation: print dr.evaluateMAP(r_cfub, verbose = False)\n",
    "r_cfub = dr.reduceRM(r_cfub)"
   ]
  },
  {
   "cell_type": "code",
   "execution_count": 23,
   "metadata": {},
   "outputs": [
    {
     "name": "stdout",
     "output_type": "stream",
     "text": [
      "0.0729845\n"
     ]
    }
   ],
   "source": [
    "#cf ib\n",
    "model = BM25Recommender(K=100)\n",
    "model.fit(urm.T)\n",
    "s = model.similarity\n",
    "#s.setdiag(0)\n",
    "r_cfib = urm * s.T\n",
    "r_cfib = normalize(r_cfib, axis=0)\n",
    "if evaluation: print dr.evaluateMAP(r_cfib, verbose = False)\n",
    "r_cfib = dr.reduceRM(r_cfib)"
   ]
  },
  {
   "cell_type": "code",
   "execution_count": 10,
   "metadata": {
    "collapsed": true
   },
   "outputs": [],
   "source": [
    "#r_bpr = dr.reduceRM(urm * dr.load_sparse_csr(filesslim))\n",
    "#if evaluation: print dr.evaluateMAP(r_bpr, verbose=False)"
   ]
  },
  {
   "cell_type": "code",
   "execution_count": 11,
   "metadata": {
    "collapsed": true
   },
   "outputs": [],
   "source": [
    "#############start with the mix#################"
   ]
  },
  {
   "cell_type": "code",
   "execution_count": 12,
   "metadata": {
    "collapsed": true
   },
   "outputs": [],
   "source": [
    "######### cb"
   ]
  },
  {
   "cell_type": "code",
   "execution_count": 23,
   "metadata": {},
   "outputs": [
    {
     "name": "stdout",
     "output_type": "stream",
     "text": [
      "0.0809853055556\n"
     ]
    }
   ],
   "source": [
    "r_cb1 = r_al_ar + 0.25*r_tag \n",
    "if evaluation: print dr.evaluateMAP(r_cb1, verbose = False)"
   ]
  },
  {
   "cell_type": "code",
   "execution_count": 24,
   "metadata": {
    "collapsed": true
   },
   "outputs": [],
   "source": [
    "#not used atm\n",
    "#r_totcb = normalize(r_cb1,axis=1) + 0.2* r_al + 0.15 * r_ar\n",
    "#if evaluation: print dr.evaluateMAP(r_totcb, verbose = False)"
   ]
  },
  {
   "cell_type": "code",
   "execution_count": 25,
   "metadata": {
    "collapsed": true
   },
   "outputs": [],
   "source": [
    "########## cf"
   ]
  },
  {
   "cell_type": "code",
   "execution_count": 26,
   "metadata": {},
   "outputs": [
    {
     "name": "stdout",
     "output_type": "stream",
     "text": [
      "0.0781461944444\n"
     ]
    }
   ],
   "source": [
    "#total cf\n",
    "r_totcf = 1.8*r_cfib + r_cfub\n",
    "if evaluation: print dr.evaluateMAP(r_totcf, verbose = False)"
   ]
  },
  {
   "cell_type": "code",
   "execution_count": 27,
   "metadata": {
    "collapsed": true
   },
   "outputs": [],
   "source": [
    "########## all"
   ]
  },
  {
   "cell_type": "code",
   "execution_count": 28,
   "metadata": {},
   "outputs": [
    {
     "name": "stdout",
     "output_type": "stream",
     "text": [
      "0.102670138889\n"
     ]
    }
   ],
   "source": [
    "r_tot = r_cb1 + 1.80 * r_totcf\n",
    "if evaluation: print dr.evaluateMAP(r_tot,verbose = False)"
   ]
  },
  {
   "cell_type": "code",
   "execution_count": 19,
   "metadata": {
    "collapsed": true
   },
   "outputs": [],
   "source": [
    "#not used atm\n",
    "#r_tot2 = r_tot + 5* r_bpr\n",
    "\n",
    "#if evaluation: print dr.evaluateMAP(r_tot2,verbose = False)"
   ]
  },
  {
   "cell_type": "code",
   "execution_count": 20,
   "metadata": {
    "collapsed": true
   },
   "outputs": [],
   "source": [
    "######improve total a little"
   ]
  },
  {
   "cell_type": "code",
   "execution_count": 21,
   "metadata": {},
   "outputs": [
    {
     "name": "stdout",
     "output_type": "stream",
     "text": [
      "0.104498\n"
     ]
    }
   ],
   "source": [
    "r_tot2 = r_tot + 0.25*r_pal + 0.25*r_par\n",
    "if evaluation: print dr.evaluateMAP(r_tot2,verbose = False)"
   ]
  },
  {
   "cell_type": "code",
   "execution_count": 29,
   "metadata": {},
   "outputs": [
    {
     "name": "stdout",
     "output_type": "stream",
     "text": [
      "0.103384916667\n"
     ]
    }
   ],
   "source": [
    "r_tot3 = r_tot + 0.10*r_al + 0.10*r_ar    #also rtot2\n",
    "if evaluation: print dr.evaluateMAP(r_tot3,verbose = False)"
   ]
  },
  {
   "cell_type": "code",
   "execution_count": null,
   "metadata": {
    "collapsed": true
   },
   "outputs": [],
   "source": [
    "###################################"
   ]
  },
  {
   "cell_type": "code",
   "execution_count": 24,
   "metadata": {},
   "outputs": [
    {
     "name": "stdout",
     "output_type": "stream",
     "text": [
      "0.104643666667\n"
     ]
    }
   ],
   "source": [
    "r_tot5 = 1.809 * 1.250 * r_cfib + 1.820 * r_cfub + r_al_ar + 0.240 * r_tag + 0.150*r_al + 0.119*r_ar\n",
    "if evaluation: print dr.evaluateMAP(r_tot5,verbose = False)"
   ]
  },
  {
   "cell_type": "code",
   "execution_count": 22,
   "metadata": {},
   "outputs": [],
   "source": [
    "###############################"
   ]
  },
  {
   "cell_type": "code",
   "execution_count": 48,
   "metadata": {},
   "outputs": [
    {
     "name": "stdout",
     "output_type": "stream",
     "text": [
      "0.0225449166667\n"
     ]
    }
   ],
   "source": [
    "#owners\n",
    "ucm = dr.getOwnersUCM_csr()\n",
    "ucm = normalize(ucm,axis=0)\n",
    "model = BM25Recommender(K=105)#110\n",
    "model.fit(ucm)\n",
    "s = model.similarity\n",
    "r_o = s.T*urm\n",
    "r_o = normalize(r_o, axis=0)\n",
    "if evaluation: print dr.evaluateMAP(r_o,verbose=False)\n",
    "r_o = dr.reduceRM(r_o)"
   ]
  },
  {
   "cell_type": "code",
   "execution_count": 43,
   "metadata": {},
   "outputs": [
    {
     "name": "stdout",
     "output_type": "stream",
     "text": [
      "0.109926027778\n"
     ]
    }
   ],
   "source": [
    "r_totx = 1.809 * 1.250 * r_cfib + 1.820 * r_cfub + r_al_ar + 0.240 * r_tag + 0.751 * r_o + 0.150*r_al + 0.119*r_ar\n",
    "if evaluation: print dr.evaluateMAP(r_totx,verbose = False)"
   ]
  },
  {
   "cell_type": "code",
   "execution_count": null,
   "metadata": {
    "collapsed": true
   },
   "outputs": [],
   "source": []
  },
  {
   "cell_type": "code",
   "execution_count": null,
   "metadata": {
    "collapsed": true
   },
   "outputs": [],
   "source": []
  },
  {
   "cell_type": "code",
   "execution_count": null,
   "metadata": {
    "collapsed": true
   },
   "outputs": [],
   "source": []
  },
  {
   "cell_type": "code",
   "execution_count": null,
   "metadata": {
    "collapsed": true
   },
   "outputs": [],
   "source": []
  },
  {
   "cell_type": "code",
   "execution_count": null,
   "metadata": {
    "collapsed": true
   },
   "outputs": [],
   "source": []
  },
  {
   "cell_type": "code",
   "execution_count": null,
   "metadata": {
    "collapsed": true
   },
   "outputs": [],
   "source": []
  },
  {
   "cell_type": "code",
   "execution_count": null,
   "metadata": {
    "collapsed": true
   },
   "outputs": [],
   "source": [
    "##############################"
   ]
  },
  {
   "cell_type": "code",
   "execution_count": 14,
   "metadata": {},
   "outputs": [
    {
     "name": "stdout",
     "output_type": "stream",
     "text": [
      "User 0 of 10000\n",
      "User 2500 of 10000\n",
      "User 5000 of 10000\n",
      "User 7500 of 10000\n",
      "Recommendations done\n",
      "Creating submission file in: ./Submissions/ci_si_prova_3_mix_no_projectx_2\n",
      "Done\n"
     ]
    }
   ],
   "source": [
    "rec = dr.getAllRecommendations(r_tot5)\n",
    "if not evaluation: dr.buildSubmissionFile(recommendation=rec, file_name=\"ci_si_prova_3_mix_no_projectx_2\") ####<------name"
   ]
  },
  {
   "cell_type": "code",
   "execution_count": null,
   "metadata": {
    "collapsed": true
   },
   "outputs": [],
   "source": [
    "#############################"
   ]
  },
  {
   "cell_type": "code",
   "execution_count": null,
   "metadata": {
    "collapsed": true
   },
   "outputs": [],
   "source": [
    "for p in np.arange(0.70,0.90,0.01):\n",
    "    r_tot5 = r_tot4 + p * r_o\n",
    "    score = dr.evaluateMAP(r_tot5,verbose = False)\n",
    "    print (\"k = {:1.2f} \\t\\tmap = {:1.5f}\").format(p,score)"
   ]
  }
 ],
 "metadata": {
  "kernelspec": {
   "display_name": "Python 2",
   "language": "python",
   "name": "python2"
  },
  "language_info": {
   "codemirror_mode": {
    "name": "ipython",
    "version": 2
   },
   "file_extension": ".py",
   "mimetype": "text/x-python",
   "name": "python",
   "nbconvert_exporter": "python",
   "pygments_lexer": "ipython2",
   "version": "2.7.13"
  }
 },
 "nbformat": 4,
 "nbformat_minor": 2
}
