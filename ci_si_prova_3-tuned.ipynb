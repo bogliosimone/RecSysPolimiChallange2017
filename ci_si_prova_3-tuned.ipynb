{
 "cells": [
  {
   "cell_type": "code",
   "execution_count": 1,
   "metadata": {},
   "outputs": [
    {
     "name": "stdout",
     "output_type": "stream",
     "text": [
      "Date Reader Challange Polimi 2017\n",
      "Loading data from ./DumpData/DataReaderTrainTestDump\n",
      "Dataset train-test loaded\n"
     ]
    }
   ],
   "source": [
    "from DataReader import DataReaderChallangePolimi2017\n",
    "import implicit\n",
    "from CB_asy import CB_asymmetric_cosine\n",
    "from CF_IB_asy import CF_IB_asymmetric_cosine\n",
    "from CF_UB_asy import CF_UB_asymmetric_cosine\n",
    "from implicit.nearest_neighbours import (BM25Recommender, CosineRecommender,TFIDFRecommender)\n",
    "from sklearn.preprocessing import normalize\n",
    "import numpy as np\n",
    "import scipy.sparse as sp\n",
    "import pickle\n",
    "\n",
    "evaluation = True\n",
    "rebuild = False\n",
    "dr = DataReaderChallangePolimi2017(evaluation=evaluation,rebuild=rebuild)\n",
    "\n",
    "urm = dr.getURM_csr()\n",
    "t_p = dr.target_playlists\n",
    "t_t = dr.target_tracks\n",
    "if evaluation:\n",
    "    filesslim = \"./DumpData/sim_bpr_10e_100k2.npz\" # or \"./DumpData/sim_bpr_10e_100k.npz\"\n",
    "else:\n",
    "    filesslim = \"./DumpData/sim_bpr_10e_100k_fulltrain.npz\"\n",
    "    "
   ]
  },
  {
   "cell_type": "code",
   "execution_count": 68,
   "metadata": {},
   "outputs": [
    {
     "name": "stdout",
     "output_type": "stream",
     "text": [
      "0.0712471111111\n"
     ]
    }
   ],
   "source": [
    "#track-album\n",
    "icm = dr.getICM_csr(albums=True,artists=False,tags=False)\n",
    "#icm = normalize(icm,axis=0)\n",
    "model = BM25Recommender(K=30)\n",
    "model.fit(icm)\n",
    "s = model.similarity\n",
    "s.setdiag(0)\n",
    "r_al = urm*s.T\n",
    "r_al = normalize(r_al, axis=0)\n",
    "if evaluation: print dr.evaluateMAP(r_al,verbose=False)\n",
    "r_al = dr.reduceRM(r_al)"
   ]
  },
  {
   "cell_type": "code",
   "execution_count": 70,
   "metadata": {},
   "outputs": [
    {
     "name": "stdout",
     "output_type": "stream",
     "text": [
      "0.0710406388889\n"
     ]
    }
   ],
   "source": [
    "#track-artist\n",
    "icm = dr.getICM_csr(albums=False,artists=True,tags=False)\n",
    "icm = normalize(icm,axis=0)\n",
    "model = BM25Recommender(K=68)\n",
    "model.fit(icm)\n",
    "s = model.similarity\n",
    "s.setdiag(0)\n",
    "r_ar = urm*s.T\n",
    "r_ar = normalize(r_ar, axis=0)\n",
    "if evaluation: print dr.evaluateMAP(r_ar,verbose=False)\n",
    "r_ar = dr.reduceRM(r_ar)"
   ]
  },
  {
   "cell_type": "code",
   "execution_count": 4,
   "metadata": {},
   "outputs": [
    {
     "name": "stdout",
     "output_type": "stream",
     "text": [
      "0.0724248333333\n"
     ]
    }
   ],
   "source": [
    "#playtlist-album\n",
    "icm_al = dr.getUCM_csr(albums=True,artists=False)\n",
    "model = BM25Recommender(K=120)\n",
    "model.fit(icm_al)\n",
    "s = model.similarity\n",
    "r_pal = s.T*urm\n",
    "r_pal = normalize(r_pal, axis=0)\n",
    "if evaluation: print dr.evaluateMAP(r_pal,verbose=False)\n",
    "r_pal = dr.reduceRM(r_pal)"
   ]
  },
  {
   "cell_type": "code",
   "execution_count": 5,
   "metadata": {},
   "outputs": [
    {
     "name": "stdout",
     "output_type": "stream",
     "text": [
      "0.0607021666667\n"
     ]
    }
   ],
   "source": [
    "#playlist-artist\n",
    "icm_ar = dr.getUCM_csr(albums=False,artists=True)\n",
    "model = BM25Recommender(K=100)\n",
    "model.fit(icm_ar)\n",
    "s = model.similarity\n",
    "r_par = s.T*urm\n",
    "r_par = normalize(r_par, axis=0)\n",
    "if evaluation: print dr.evaluateMAP(r_par,verbose=False)\n",
    "r_par = dr.reduceRM(r_par)"
   ]
  },
  {
   "cell_type": "code",
   "execution_count": 6,
   "metadata": {},
   "outputs": [
    {
     "name": "stdout",
     "output_type": "stream",
     "text": [
      "0.0790871666667\n"
     ]
    }
   ],
   "source": [
    "#album and artist\n",
    "icm = dr.getICM_csr(albums=True,artists=True,tags=False)\n",
    "icm = normalize(icm,axis=0)\n",
    "model = BM25Recommender(K=58)\n",
    "model.fit(icm)\n",
    "s = model.similarity\n",
    "r_al_ar = urm*s.T #or s\n",
    "r_al_ar = normalize(r_al_ar, axis=0)\n",
    "if evaluation: print dr.evaluateMAP(r_al_ar,verbose=False)\n",
    "r_al_ar = dr.reduceRM(r_al_ar)"
   ]
  },
  {
   "cell_type": "code",
   "execution_count": 7,
   "metadata": {},
   "outputs": [
    {
     "name": "stdout",
     "output_type": "stream",
     "text": [
      "0.0377463611111\n"
     ]
    }
   ],
   "source": [
    "#tags\n",
    "icm = dr.getICM_csr(albums=False,artists=False,tags=True)\n",
    "icm = normalize(icm,axis=1)   # little improvment\n",
    "model = BM25Recommender(K = 15)\n",
    "model.fit(icm)\n",
    "s = model.similarity\n",
    "r_tag = urm*s\n",
    "r_tag = normalize(r_tag, axis=0)\n",
    "if evaluation: print dr.evaluateMAP(r_tag, verbose = False)\n",
    "r_tag = dr.reduceRM(r_tag)"
   ]
  },
  {
   "cell_type": "code",
   "execution_count": 49,
   "metadata": {},
   "outputs": [
    {
     "name": "stdout",
     "output_type": "stream",
     "text": [
      "0.0661010277778\n"
     ]
    }
   ],
   "source": [
    "#cf ub\n",
    "model = BM25Recommender(K=60)\n",
    "model.fit(urm)\n",
    "s = model.similarity\n",
    "r_cfub = s.T * urm\n",
    "r_cfub = normalize(r_cfub, axis=1)\n",
    "if evaluation: print dr.evaluateMAP(r_cfub, verbose = False)\n",
    "r_cfub = dr.reduceRM(r_cfub)"
   ]
  },
  {
   "cell_type": "code",
   "execution_count": 50,
   "metadata": {},
   "outputs": [
    {
     "name": "stdout",
     "output_type": "stream",
     "text": [
      "0.0729845\n"
     ]
    }
   ],
   "source": [
    "#cf ib\n",
    "model = BM25Recommender(K=100)\n",
    "model.fit(urm.T)\n",
    "s = model.similarity\n",
    "#s.setdiag(0)\n",
    "r_cfib = urm * s.T\n",
    "r_cfib = normalize(r_cfib, axis=0)\n",
    "if evaluation: print dr.evaluateMAP(r_cfib, verbose = False)\n",
    "r_cfib = dr.reduceRM(r_cfib)"
   ]
  },
  {
   "cell_type": "code",
   "execution_count": 482,
   "metadata": {
    "collapsed": true
   },
   "outputs": [],
   "source": [
    "#r_bpr = dr.reduceRM(urm * dr.load_sparse_csr(filesslim))\n",
    "#if evaluation: print dr.evaluateMAP(r_bpr, verbose=False)"
   ]
  },
  {
   "cell_type": "code",
   "execution_count": 11,
   "metadata": {
    "collapsed": true
   },
   "outputs": [],
   "source": [
    "#############start with the mix#################"
   ]
  },
  {
   "cell_type": "code",
   "execution_count": 12,
   "metadata": {
    "collapsed": true
   },
   "outputs": [],
   "source": [
    "######### cb"
   ]
  },
  {
   "cell_type": "code",
   "execution_count": 13,
   "metadata": {},
   "outputs": [
    {
     "name": "stdout",
     "output_type": "stream",
     "text": [
      "0.0811120277778\n"
     ]
    }
   ],
   "source": [
    "r_cb1 = r_al_ar + 0.25*r_tag \n",
    "if evaluation: print dr.evaluateMAP(r_cb1, verbose = False)"
   ]
  },
  {
   "cell_type": "code",
   "execution_count": 14,
   "metadata": {
    "collapsed": true
   },
   "outputs": [],
   "source": [
    "#not used atm\n",
    "#r_totcb = normalize(r_cb1,axis=1) + 0.2* r_al + 0.15 * r_ar\n",
    "#if evaluation: print dr.evaluateMAP(r_totcb, verbose = False)"
   ]
  },
  {
   "cell_type": "code",
   "execution_count": 15,
   "metadata": {
    "collapsed": true
   },
   "outputs": [],
   "source": [
    "########## cf"
   ]
  },
  {
   "cell_type": "code",
   "execution_count": 459,
   "metadata": {},
   "outputs": [
    {
     "name": "stdout",
     "output_type": "stream",
     "text": [
      "0.0781461944444\n"
     ]
    }
   ],
   "source": [
    "#total cf\n",
    "r_totcf = 1.8*r_cfib + r_cfub\n",
    "if evaluation: print dr.evaluateMAP(r_totcf, verbose = False)"
   ]
  },
  {
   "cell_type": "code",
   "execution_count": 460,
   "metadata": {
    "collapsed": true
   },
   "outputs": [],
   "source": [
    "########## all"
   ]
  },
  {
   "cell_type": "code",
   "execution_count": 461,
   "metadata": {},
   "outputs": [
    {
     "name": "stdout",
     "output_type": "stream",
     "text": [
      "0.102650472222\n"
     ]
    }
   ],
   "source": [
    "r_tot = r_cb1 + 1.80 * r_totcf\n",
    "if evaluation: print dr.evaluateMAP(r_tot,verbose = False)"
   ]
  },
  {
   "cell_type": "code",
   "execution_count": 19,
   "metadata": {
    "collapsed": true
   },
   "outputs": [],
   "source": [
    "#not used atm\n",
    "#r_tot2 = r_tot + 5* r_bpr\n",
    "\n",
    "#if evaluation: print dr.evaluateMAP(r_tot2,verbose = False)"
   ]
  },
  {
   "cell_type": "code",
   "execution_count": 20,
   "metadata": {
    "collapsed": true
   },
   "outputs": [],
   "source": [
    "######improve total a little"
   ]
  },
  {
   "cell_type": "code",
   "execution_count": 21,
   "metadata": {},
   "outputs": [
    {
     "name": "stdout",
     "output_type": "stream",
     "text": [
      "0.104498\n"
     ]
    }
   ],
   "source": [
    "r_tot2 = r_tot + 0.25*r_pal + 0.25*r_par\n",
    "if evaluation: print dr.evaluateMAP(r_tot2,verbose = False)"
   ]
  },
  {
   "cell_type": "code",
   "execution_count": 22,
   "metadata": {},
   "outputs": [
    {
     "name": "stdout",
     "output_type": "stream",
     "text": [
      "0.104830638889\n"
     ]
    }
   ],
   "source": [
    "r_tot3 = r_tot2 + 0.10*r_al + 0.10*r_ar\n",
    "if evaluation: print dr.evaluateMAP(r_tot3,verbose = False)"
   ]
  },
  {
   "cell_type": "code",
   "execution_count": null,
   "metadata": {
    "collapsed": true
   },
   "outputs": [],
   "source": [
    "###################################"
   ]
  },
  {
   "cell_type": "code",
   "execution_count": 19,
   "metadata": {},
   "outputs": [
    {
     "name": "stdout",
     "output_type": "stream",
     "text": [
      "0.0225449166667\n"
     ]
    }
   ],
   "source": [
    "#owners\n",
    "ucm = dr.getOwnersUCM_csr()\n",
    "ucm = normalize(ucm,axis=0)\n",
    "model = BM25Recommender(K=105)#110\n",
    "model.fit(ucm)\n",
    "s = model.similarity\n",
    "r_o = s.T*urm\n",
    "r_o = normalize(r_o, axis=0)\n",
    "if evaluation: print dr.evaluateMAP(r_o,verbose=False)\n",
    "r_o = dr.reduceRM(r_o)"
   ]
  },
  {
   "cell_type": "code",
   "execution_count": 24,
   "metadata": {
    "collapsed": true
   },
   "outputs": [],
   "source": [
    "icm_o = dr.getOwnersICM_csr(ones=True)"
   ]
  },
  {
   "cell_type": "code",
   "execution_count": null,
   "metadata": {
    "collapsed": true
   },
   "outputs": [],
   "source": [
    "################################ 0.24 tag 1.25 cfs 1.82 sum"
   ]
  },
  {
   "cell_type": "code",
   "execution_count": 349,
   "metadata": {
    "collapsed": true
   },
   "outputs": [],
   "source": [
    "r1 = (1.250*r_cfib+r_cfub)"
   ]
  },
  {
   "cell_type": "code",
   "execution_count": 350,
   "metadata": {
    "collapsed": true
   },
   "outputs": [],
   "source": [
    "r2 = r_al_ar + 0.240 * r_tag"
   ]
  },
  {
   "cell_type": "code",
   "execution_count": 351,
   "metadata": {
    "collapsed": true
   },
   "outputs": [],
   "source": [
    "r_tot = 1.820*r1 + r2"
   ]
  },
  {
   "cell_type": "code",
   "execution_count": 352,
   "metadata": {},
   "outputs": [
    {
     "name": "stdout",
     "output_type": "stream",
     "text": [
      "0.104666888889\n"
     ]
    }
   ],
   "source": [
    "r_tot3 = r_tot + 0.150*r_al + 0.120*r_ar\n",
    "if evaluation: print dr.evaluateMAP(r_tot3,verbose = False)"
   ]
  },
  {
   "cell_type": "code",
   "execution_count": 353,
   "metadata": {},
   "outputs": [
    {
     "name": "stdout",
     "output_type": "stream",
     "text": [
      "0.109852138889\n"
     ]
    }
   ],
   "source": [
    "r_tot4 = r_tot3 + 0.750 * r_o\n",
    "if evaluation: print dr.evaluateMAP(r_tot4,verbose = False)"
   ]
  },
  {
   "cell_type": "code",
   "execution_count": null,
   "metadata": {
    "collapsed": true
   },
   "outputs": [],
   "source": [
    "###############################"
   ]
  },
  {
   "cell_type": "code",
   "execution_count": 71,
   "metadata": {},
   "outputs": [
    {
     "name": "stdout",
     "output_type": "stream",
     "text": [
      "0.109926027778\n"
     ]
    }
   ],
   "source": [
    "r_tot4 = 1.809 * 1.250 * r_cfib + 1.820 * r_cfub + r_al_ar + 0.240 * r_tag + 0.751 * r_o + 0.150*r_al + 0.119*r_ar\n",
    "if evaluation: print dr.evaluateMAP(r_tot4,verbose = False)"
   ]
  },
  {
   "cell_type": "code",
   "execution_count": null,
   "metadata": {
    "collapsed": true
   },
   "outputs": [],
   "source": [
    "#################################"
   ]
  },
  {
   "cell_type": "code",
   "execution_count": null,
   "metadata": {
    "collapsed": true
   },
   "outputs": [],
   "source": [
    "[2.26125,1.820,1.0,0.240,0.751,0.0150,0.119]\n",
    "[2.74711712e-04,   1.83011415e-04,   2.13292590e-05,\n",
    "         1.25368191e-05,   8.23875897e-05,   5.61734242e-05,\n",
    "         7.94264166e-05]"
   ]
  },
  {
   "cell_type": "code",
   "execution_count": 64,
   "metadata": {},
   "outputs": [],
   "source": [
    "from scipy.optimize import minimize"
   ]
  },
  {
   "cell_type": "code",
   "execution_count": 57,
   "metadata": {},
   "outputs": [],
   "source": [
    "def fun(p):\n",
    "    r_tot = p[0] * r_cfib + p[1] * r_cfub + p[2] * r_al_ar + p[3]* r_tag + p[4] * r_o + p[5]*r_al + p[6]*r_ar\n",
    "    score = dr.evaluateMAP(r_tot,verbose = False)\n",
    "    print score\n",
    "    return -score\n",
    "\n",
    "def fun2(p):\n",
    "    r_tot = p[0] * r_al_ar + p[1]* r_tag  + p[2]*r_al + p[3]*r_ar\n",
    "    score = dr.evaluateMAP(r_tot,verbose = False)\n",
    "    print score\n",
    "    return -score\n",
    "#[  1.69027787e-04,   4.62730153e-05,   2.41163797e-04,   3.63955333e-04]\n",
    "\n",
    "def fun3(p):\n",
    "    r_tot = p[0] * r_cfib + p[1] * r_cfub \n",
    "    score = dr.evaluateMAP(r_tot,verbose = False)\n",
    "    print score\n",
    "    return -score\n",
    "#[  3.60369489e-04,   2.51829624e-08]\n",
    "\n",
    "def fun4(p):\n",
    "    r_tot = p[0] * r_1 + p[1] * r_2 + p[2] * r_o\n",
    "    score = dr.evaluateMAP(r_tot,verbose = False)\n",
    "    print score\n",
    "    return -score"
   ]
  },
  {
   "cell_type": "code",
   "execution_count": 40,
   "metadata": {},
   "outputs": [
    {
     "name": "stdout",
     "output_type": "stream",
     "text": [
      "0.0846163611111\n",
      "0.0786673888889\n"
     ]
    }
   ],
   "source": [
    "p = [  1.69027787e-04,   4.62730153e-05,   2.41163797e-04,   3.63955333e-04]\n",
    "r_1 = p[0] * r_al_ar + p[1]* r_tag  + p[2]*r_al + p[3]*r_ar\n",
    "print dr.evaluateMAP(r_1,verbose = False)\n",
    "\n",
    "p = [3.60369489e-04,   2.51829624e-08]\n",
    "r_2 = p[0] * r_cfib + p[1] * r_cfub\n",
    "print dr.evaluateMAP(r_2,verbose = False)"
   ]
  },
  {
   "cell_type": "code",
   "execution_count": null,
   "metadata": {
    "collapsed": true
   },
   "outputs": [],
   "source": [
    "#################################"
   ]
  },
  {
   "cell_type": "code",
   "execution_count": null,
   "metadata": {
    "collapsed": true
   },
   "outputs": [],
   "source": [
    "for p in np.arange(0.70,0.90,0.01):\n",
    "    r_tot5 = r_tot4 + p * r_o\n",
    "    score = dr.evaluateMAP(r_tot5,verbose = False)\n",
    "    print (\"k = {:1.2f} \\t\\tmap = {:1.5f}\").format(p,score)"
   ]
  },
  {
   "cell_type": "code",
   "execution_count": 77,
   "metadata": {},
   "outputs": [
    {
     "name": "stdout",
     "output_type": "stream",
     "text": [
      "User 0 of 10000\n",
      "User 2500 of 10000\n",
      "User 5000 of 10000\n",
      "User 7500 of 10000\n",
      "Recommendations done\n",
      "Creating submission file in: ./Submissions/ci_si_prova_3_mix_0-0-0-0\n",
      "Done\n"
     ]
    }
   ],
   "source": [
    "rec = dr.getAllRecommendations(r_tot)\n",
    "dr.buildSubmissionFile(recommendation=rec, file_name=\"ci_si_prova_3_mix_0-0-0-0\") ####<------name"
   ]
  },
  {
   "cell_type": "code",
   "execution_count": null,
   "metadata": {
    "collapsed": true
   },
   "outputs": [],
   "source": [
    "## actually not used"
   ]
  },
  {
   "cell_type": "code",
   "execution_count": 47,
   "metadata": {
    "scrolled": true
   },
   "outputs": [
    {
     "name": "stdout",
     "output_type": "stream",
     "text": [
      "Start asymmetric cosine item-based model..\n",
      "Keep only k-similar item..\n",
      "Building sparse matrix..\n",
      "Start building rating matrix..\n",
      "Normalizing rating matrix..\n",
      "Model asymmetric cosine item-based done\n",
      "0.0720835555556\n"
     ]
    }
   ],
   "source": [
    "#collaborative filtering item based asym\n",
    "m_cf_ib = CF_IB_asymmetric_cosine(urm, k=200, alpha=0.30, q=1, m=0)\n",
    "s = m_cf_ib.s\n",
    "r_cfib_asy = urm*s\n",
    "if evaluation: print dr.evaluateMAP(r_cfib_asy, verbose=False)\n",
    "# reduce matrix\n",
    "r_cfib_asy_more = normalize(r_cfib,axis=1) #4.75\n",
    "r_cfib_asy_less = normalize(r_cfib,axis=0)#2.75 #######axis 0 better in sum\n",
    "\n",
    "r_cfib_asy = dr.reduceRM(r_cfib_asy)\n",
    "r_cfib_asy_more = dr.reduceRM(r_cfib_asy_more)\n",
    "r_cfib_asy_less = dr.reduceRM(r_cfib_asy_less)"
   ]
  },
  {
   "cell_type": "code",
   "execution_count": null,
   "metadata": {
    "collapsed": true
   },
   "outputs": [],
   "source": []
  }
 ],
 "metadata": {
  "kernelspec": {
   "display_name": "Python 2",
   "language": "python",
   "name": "python2"
  },
  "language_info": {
   "codemirror_mode": {
    "name": "ipython",
    "version": 2
   },
   "file_extension": ".py",
   "mimetype": "text/x-python",
   "name": "python",
   "nbconvert_exporter": "python",
   "pygments_lexer": "ipython2",
   "version": "2.7.13"
  }
 },
 "nbformat": 4,
 "nbformat_minor": 2
}
