{
 "cells": [
  {
   "cell_type": "code",
   "execution_count": 4,
   "metadata": {},
   "outputs": [
    {
     "name": "stdout",
     "output_type": "stream",
     "text": [
      "Date Reader Challange Polimi 2017\n",
      "Loading data from ./DumpData/DataReaderTrainTestDump\n",
      "Dataset train-test loaded\n"
     ]
    }
   ],
   "source": [
    "from DataReader import DataReaderChallangePolimi2017\n",
    "import implicit\n",
    "from CB_asy import CB_asymmetric_cosine\n",
    "from CF_IB_asy import CF_IB_asymmetric_cosine\n",
    "from CF_UB_asy import CF_UB_asymmetric_cosine\n",
    "from implicit.nearest_neighbours import (BM25Recommender, CosineRecommender,TFIDFRecommender)\n",
    "from sklearn.preprocessing import normalize\n",
    "import numpy as np\n",
    "import pickle\n",
    "\n",
    "evaluation = True\n",
    "rebuild = False\n",
    "dr = DataReaderChallangePolimi2017(evaluation=evaluation,rebuild=rebuild)\n",
    "\n",
    "urm = dr.getURM_csr()\n",
    "t_p = dr.target_playlists\n",
    "t_t = dr.target_tracks"
   ]
  },
  {
   "cell_type": "code",
   "execution_count": null,
   "metadata": {
    "collapsed": true
   },
   "outputs": [],
   "source": [
    "########### import from file ###########"
   ]
  },
  {
   "cell_type": "code",
   "execution_count": 10,
   "metadata": {},
   "outputs": [
    {
     "name": "stdout",
     "output_type": "stream",
     "text": [
      "0.0636542777778\n"
     ]
    }
   ],
   "source": [
    "s = dr.load_sparse_csr(\"./DumpData/sim_bpr_10e_100k2.npz\")\n",
    "r_sslim = dr.reduceRM(urm * s)\n",
    "print dr.evaluateMAP(r_sslim,verbose= False)"
   ]
  },
  {
   "cell_type": "code",
   "execution_count": null,
   "metadata": {
    "collapsed": true
   },
   "outputs": [],
   "source": []
  },
  {
   "cell_type": "code",
   "execution_count": null,
   "metadata": {
    "collapsed": true
   },
   "outputs": [],
   "source": []
  },
  {
   "cell_type": "code",
   "execution_count": null,
   "metadata": {
    "collapsed": true
   },
   "outputs": [],
   "source": []
  },
  {
   "cell_type": "code",
   "execution_count": null,
   "metadata": {
    "collapsed": true
   },
   "outputs": [],
   "source": [
    "########### creation ###########"
   ]
  },
  {
   "cell_type": "code",
   "execution_count": null,
   "metadata": {
    "collapsed": true
   },
   "outputs": [],
   "source": [
    "#bpr create\n",
    "urm_plus = sps.vstack([urm,icm.T]).tocsr()\n",
    "\n",
    "recommender = SLIM_BPR_Cython(urm_plus,\n",
    "                              recompile_cython=False,\n",
    "                              positive_threshold=1,\n",
    "                              sparse_weights=True\n",
    "                             )\n",
    "logFile = open(\"SLIM_BPR_Cython2.txt\", \"a\")\n",
    "recommender.fit(validate_every_N_epochs= 1000,\n",
    "                start_validation_after_N_epochs = 1000,\n",
    "                logFile=logFile, batch_size=1,\n",
    "                URM_test=test,\n",
    "                epochs=10,\n",
    "                topK=100,\n",
    "                sgd_mode='adagrad',\n",
    "                learning_rate=1e-4,\n",
    "                lambda_i = 0.0025,\n",
    "                lambda_j = 0.0025,  # lambda_i = 0.0025, lambda_j = 0.00025, default\n",
    "                )"
   ]
  },
  {
   "cell_type": "code",
   "execution_count": null,
   "metadata": {
    "collapsed": true
   },
   "outputs": [],
   "source": [
    "s = recommender.getSimilarity()\n",
    "r_sslim = dr.reduceRM(urm * s)\n",
    "dr.evaluateMAP(r_sslim)"
   ]
  },
  {
   "cell_type": "code",
   "execution_count": null,
   "metadata": {
    "collapsed": true
   },
   "outputs": [],
   "source": [
    "#sslim save similarity\n",
    "\n",
    "dr.save_sparse_csr(array=s,filename=\"./DumpData/sim_bpr_10e_100k_fulltrain\")"
   ]
  }
 ],
 "metadata": {
  "kernelspec": {
   "display_name": "Python 2",
   "language": "python",
   "name": "python2"
  },
  "language_info": {
   "codemirror_mode": {
    "name": "ipython",
    "version": 2
   },
   "file_extension": ".py",
   "mimetype": "text/x-python",
   "name": "python",
   "nbconvert_exporter": "python",
   "pygments_lexer": "ipython2",
   "version": "2.7.13"
  }
 },
 "nbformat": 4,
 "nbformat_minor": 2
}
