{
 "cells": [
  {
   "cell_type": "code",
   "execution_count": 35,
   "metadata": {},
   "outputs": [
    {
     "name": "stdout",
     "output_type": "stream",
     "text": [
      "Date Reader Challange Polimi 2017\n",
      "Playlists created..\n",
      "Tracks created..\n",
      "Target playlists imported..\n",
      "Target playlists created..\n",
      "Target tracks created..\n",
      "Train and URM created..\n",
      "Attributes tracks created..\n",
      "Split dataset in train-test, update target tracks and urm..\n",
      "Saving data in ./DumpData/DataReaderTrainTestDump\n",
      "Dataset train-test created\n"
     ]
    }
   ],
   "source": [
    "from DataReader import DataReaderChallangePolimi2017\n",
    "import implicit\n",
    "from CB_asy import CB_asymmetric_cosine\n",
    "from CF_IB_asy import CF_IB_asymmetric_cosine\n",
    "from CF_UB_asy import CF_UB_asymmetric_cosine\n",
    "from implicit.nearest_neighbours import (BM25Recommender, CosineRecommender,TFIDFRecommender)\n",
    "from sklearn.preprocessing import normalize\n",
    "import numpy as np\n",
    "import copy\n",
    "\n",
    "evaluation = True\n",
    "rebuild = False\n",
    "dr = DataReaderChallangePolimi2017(evaluation=evaluation,rebuild=rebuild)\n",
    "\n",
    "urm = dr.getURM_csr()\n",
    "t_p = dr.target_playlists\n",
    "t_t = dr.target_tracks"
   ]
  },
  {
   "cell_type": "code",
   "execution_count": 36,
   "metadata": {},
   "outputs": [
    {
     "name": "stdout",
     "output_type": "stream",
     "text": [
      "User 0 of 10000\n",
      "User 2000 of 10000\n",
      "User 4000 of 10000\n",
      "User 6000 of 10000\n",
      "User 8000 of 10000\n",
      "Recommender performance is: MAP = 0.0778\n",
      "User 0 of 10000\n",
      "User 2000 of 10000\n",
      "User 4000 of 10000\n",
      "User 6000 of 10000\n",
      "User 8000 of 10000\n",
      "Recommender performance is: MAP = 0.0372\n"
     ]
    }
   ],
   "source": [
    "# album and artist\n",
    "icm = dr.getICM_csr(albums=True,artists=True,tags=False)\n",
    "icm = normalize(icm,axis=0)\n",
    "model = BM25Recommender()\n",
    "model.fit(icm)\n",
    "s = model.similarity\n",
    "r_al_ar = urm*s.T #or s\n",
    "r_al_ar = normalize(r_al_ar, axis=0)\n",
    "if evaluation: score = dr.evaluateMAP(r_al_ar)\n",
    "\n",
    "# tags\n",
    "icm = dr.getICM_csr(albums=False,artists=False,tags=True)\n",
    "icm = normalize(icm,axis=1)   # little improvment? or just overfitting?\n",
    "model = BM25Recommender()\n",
    "model.fit(icm)\n",
    "s = model.similarity\n",
    "r_tag = urm*s #######wuuuut no urm\n",
    "r_tag = normalize(r_tag, axis=0)\n",
    "if evaluation: score = dr.evaluateMAP(r_tag)\n",
    "    \n",
    "r_cb = r_al_ar + 0.3*r_tag"
   ]
  },
  {
   "cell_type": "code",
   "execution_count": 37,
   "metadata": {},
   "outputs": [
    {
     "name": "stdout",
     "output_type": "stream",
     "text": [
      "Start asymmetric cosine item-based model..\n",
      "Keep only k-similar item..\n",
      "Building sparse matrix..\n",
      "Start building rating matrix..\n",
      "Normalizing rating matrix..\n",
      "Model asymmetric cosine item-based done\n",
      "User 0 of 10000\n",
      "User 2000 of 10000\n",
      "User 4000 of 10000\n",
      "User 6000 of 10000\n",
      "User 8000 of 10000\n",
      "Recommender performance is: MAP = 0.0732\n"
     ]
    }
   ],
   "source": [
    "#collaborative filtering item based\n",
    "m_cf_ib = CF_IB_asymmetric_cosine(urm, k=200, alpha=0.30, q=1, m=0)\n",
    "s = m_cf_ib.s\n",
    "r_cfib = urm*s\n",
    "\n",
    "if evaluation: score = dr.evaluateMAP(r_cfib)"
   ]
  },
  {
   "cell_type": "code",
   "execution_count": 38,
   "metadata": {
    "collapsed": true
   },
   "outputs": [],
   "source": [
    "#\n",
    "#\n",
    "#\n",
    "#\n",
    "#"
   ]
  },
  {
   "cell_type": "code",
   "execution_count": 39,
   "metadata": {},
   "outputs": [
    {
     "name": "stdout",
     "output_type": "stream",
     "text": [
      "User 0 of 10000\n",
      "User 2000 of 10000\n",
      "User 4000 of 10000\n",
      "User 6000 of 10000\n",
      "User 8000 of 10000\n",
      "Recommender performance is: MAP = 0.0796\n",
      "User 0 of 10000\n",
      "User 2000 of 10000\n",
      "User 4000 of 10000\n",
      "User 6000 of 10000\n",
      "User 8000 of 10000\n",
      "Recommender performance is: MAP = 0.0732\n"
     ]
    }
   ],
   "source": [
    "maps1, n1 = dr.evaluateMAP(r_cb,allmaps=True)\n",
    "maps2, n2 = dr.evaluateMAP(r_cfib,allmaps=True)"
   ]
  },
  {
   "cell_type": "code",
   "execution_count": 41,
   "metadata": {},
   "outputs": [
    {
     "name": "stdout",
     "output_type": "stream",
     "text": [
      "cb: 1672\n",
      "cf: 1587\n"
     ]
    }
   ],
   "source": [
    "count = 0 \n",
    "p_cb = {}\n",
    "\n",
    "th = 0.20\n",
    "for row in maps1:\n",
    "    if(row[1]>=th):\n",
    "        count = count +1\n",
    "        p_cb[row[0]] = [row[1],row[2]]\n",
    "\n",
    "count2 = 0 \n",
    "p_cf_ib = {}\n",
    "for row in maps2:\n",
    "    if(row[1]>=th):\n",
    "        count2 = count2 +1\n",
    "        p_cf_ib[row[0]] = [row[1],row[2]]\n",
    "\n",
    "print \"cb: \" + str(count)\n",
    "print \"cf: \" + str(count2)"
   ]
  },
  {
   "cell_type": "code",
   "execution_count": 42,
   "metadata": {},
   "outputs": [
    {
     "name": "stdout",
     "output_type": "stream",
     "text": [
      "common: 669\n",
      "new cb: 1194\n",
      "new cf: 1076\n"
     ]
    }
   ],
   "source": [
    "join = 0 \n",
    "th2 = 0.15\n",
    "for p in p_cb.keys():\n",
    "    if p in p_cf_ib.keys():\n",
    "        join = join +1\n",
    "        m_cb = p_cb[p][0]\n",
    "        m_cf = p_cf_ib[p][0]\n",
    "        if m_cb - m_cf >th2:\n",
    "            p_cf_ib.pop(p, None)\n",
    "        elif m_cf - m_cb > th2:\n",
    "            p_cb.pop(p,None)\n",
    "        else:\n",
    "            p_cf_ib.pop(p, None)\n",
    "            p_cb.pop(p,None)\n",
    "print \"common: \" + str(join)\n",
    "print \"new cb: \" + str(len(p_cb))\n",
    "print \"new cf: \" + str(len (p_cf_ib))"
   ]
  },
  {
   "cell_type": "code",
   "execution_count": 43,
   "metadata": {},
   "outputs": [
    {
     "name": "stdout",
     "output_type": "stream",
     "text": [
      "831\n",
      "859\n",
      "new cb: 363\n",
      "new cf: 217\n"
     ]
    }
   ],
   "source": [
    "join = 0\n",
    "for p in p_cb.keys():\n",
    "    if p not in p_cb_old_s1.keys():\n",
    "        join = join +1\n",
    "        p_cb.pop(p,None)\n",
    "print join\n",
    "\n",
    "join = 0\n",
    "for p in p_cf_ib.keys():\n",
    "    if p not in p_cf_ib_old_s1.keys():\n",
    "        join = join +1\n",
    "        p_cf_ib.pop(p, None)\n",
    "\n",
    "print join\n",
    "print \"new cb: \" + str(len(p_cb))\n",
    "print \"new cf: \" + str(len (p_cf_ib))"
   ]
  },
  {
   "cell_type": "code",
   "execution_count": 44,
   "metadata": {
    "collapsed": true
   },
   "outputs": [],
   "source": [
    "p_cb_old_s1 = copy.deepcopy(p_cb)\n",
    "p_cf_ib_old_s1 = copy.deepcopy(p_cf_ib)"
   ]
  },
  {
   "cell_type": "code",
   "execution_count": 33,
   "metadata": {},
   "outputs": [
    {
     "name": "stdout",
     "output_type": "stream",
     "text": [
      "608\n",
      "373\n"
     ]
    }
   ],
   "source": [
    "print len(p_cb_old_s1)\n",
    "print len(p_cf_ib_old_s1)\n",
    "\n"
   ]
  },
  {
   "cell_type": "code",
   "execution_count": 45,
   "metadata": {
    "collapsed": true
   },
   "outputs": [],
   "source": [
    "import pickle\n",
    "\n",
    "pickle.dump(p_cb_old_s1, open( \"./DumpData/top_playlists_cb_3pass\", \"wb\" ))\n",
    "pickle.dump(p_cf_ib_old_s1, open( \"./DumpData/top_playlists_cf_ib_3pass\", \"wb\" ))\n",
    "\n",
    "#l1=pickle.load(open( \"./DumpData/top_playlists_cb\", \"rb\" ))\n",
    "#l2=pickle.load(open( \"./DumpData/top_playlists_cf_ib\", \"rb\" ))"
   ]
  },
  {
   "cell_type": "code",
   "execution_count": null,
   "metadata": {
    "collapsed": true
   },
   "outputs": [],
   "source": []
  },
  {
   "cell_type": "code",
   "execution_count": null,
   "metadata": {
    "collapsed": true
   },
   "outputs": [],
   "source": []
  }
 ],
 "metadata": {
  "kernelspec": {
   "display_name": "Python 2",
   "language": "python",
   "name": "python2"
  },
  "language_info": {
   "codemirror_mode": {
    "name": "ipython",
    "version": 2
   },
   "file_extension": ".py",
   "mimetype": "text/x-python",
   "name": "python",
   "nbconvert_exporter": "python",
   "pygments_lexer": "ipython2",
   "version": "2.7.13"
  }
 },
 "nbformat": 4,
 "nbformat_minor": 2
}
