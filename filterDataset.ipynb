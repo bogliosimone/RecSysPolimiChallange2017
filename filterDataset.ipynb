{
 "cells": [
  {
   "cell_type": "code",
   "execution_count": 1,
   "metadata": {
    "collapsed": true
   },
   "outputs": [],
   "source": [
    "import pandas as pd\n",
    "import numpy as np\n",
    "import scipy.sparse as sp\n",
    "from scipy import savetxt"
   ]
  },
  {
   "cell_type": "code",
   "execution_count": 2,
   "metadata": {},
   "outputs": [
    {
     "name": "stdout",
     "output_type": "stream",
     "text": [
      "interaction: 1040522\n",
      "playlist: 45649\n",
      "tracks: 99999\n"
     ]
    }
   ],
   "source": [
    "# ---> initial stats\n",
    "df = pd.read_csv(\"./CsvFiles/train_final.csv\", sep= \"\\t\", header = 0,dtype= {\"playlist_id\":np.int32,\"track_id\":np.int32} )\n",
    "df['count'] = df.groupby('playlist_id')['track_id'].transform('count')\n",
    "\n",
    "print('interaction: ' + str(len(df.index)))\n",
    "print('playlist: ' + str(len(df.groupby('playlist_id'))))\n",
    "print('tracks: ' + str(len(df.track_id.unique())))"
   ]
  },
  {
   "cell_type": "code",
   "execution_count": 3,
   "metadata": {},
   "outputs": [
    {
     "name": "stdout",
     "output_type": "stream",
     "text": [
      "playlist before filter: 45649\n",
      "playlist after filter: 45649\n",
      "interaction: 1040522\n",
      "tracks: 99999\n"
     ]
    }
   ],
   "source": [
    "# ---> filter playlists\n",
    "df2 = df\n",
    "print('playlist before filter: ' + str(len(df2.groupby('playlist_id'))))\n",
    "#df2 = df2[df2['count']>=8]\n",
    "#df2 = df2[df2['count']<=50]\n",
    "print('playlist after filter: ' + str(len(df2.groupby('playlist_id'))))\n",
    "print('interaction: ' + str(len(df2.index)))\n",
    "print('tracks: ' + str(len(df2.track_id.unique())))\n",
    "\n",
    "\n"
   ]
  },
  {
   "cell_type": "code",
   "execution_count": 4,
   "metadata": {},
   "outputs": [
    {
     "name": "stdout",
     "output_type": "stream",
     "text": [
      "playlist after sample: 45649\n",
      "interaction: 1040522\n",
      "tracks: 99999\n"
     ]
    }
   ],
   "source": [
    "# ---> sample a subset of playlist (use all atm)\n",
    "\n",
    "dfr = df2.groupby('playlist_id', as_index = False).count().sample(n=len(df2.groupby('playlist_id')))\n",
    "df_test_user = df2.groupby('playlist_id', as_index = False).count().sample(10000)\n",
    "df2 = df2[df2[\"playlist_id\"].isin(dfr['playlist_id'].values) == True]\n",
    "print('playlist after sample: ' + str(len(df2.groupby('playlist_id'))))\n",
    "print('interaction: ' + str(len(df2.index)))\n",
    "print('tracks: ' + str(len(df2.track_id.unique())))"
   ]
  },
  {
   "cell_type": "code",
   "execution_count": 6,
   "metadata": {},
   "outputs": [
    {
     "name": "stdout",
     "output_type": "stream",
     "text": [
      "tracks before filter: 99999\n",
      "tracks after filter: 23298\n",
      "playlist: 40800\n",
      "interaction: 633871\n"
     ]
    }
   ],
   "source": [
    "# ---> filter tracks\n",
    "df3 = df2\n",
    "print('tracks before filter: ' + str(len(df3.groupby('track_id'))))\n",
    "df3['count'] = df3.groupby('track_id')['playlist_id'].transform('count')\n",
    "df3 = df3[df3['count']>=11]\n",
    "print('tracks after filter: ' + str(len(df3.groupby('track_id'))))\n",
    "print('playlist: ' + str(len(df3.groupby('playlist_id'))))\n",
    "print('interaction: ' + str(len(df3.index)))"
   ]
  },
  {
   "cell_type": "code",
   "execution_count": 7,
   "metadata": {},
   "outputs": [
    {
     "name": "stdout",
     "output_type": "stream",
     "text": [
      "dataset aligned\n"
     ]
    }
   ],
   "source": [
    "# ---> align dataset using dictionary\n",
    "def align_dataset(x1, y1):\n",
    "    x2, y2 = list(), list()\n",
    "\n",
    "    id_p = 0\n",
    "    id_t = 0\n",
    "    dict_p = dict()\n",
    "    dict_t = dict()\n",
    "    i = 0\n",
    "    for value in x1:\n",
    "        if x1[i] not in dict_p:\n",
    "            dict_p[x1[i]] = id_p\n",
    "            id_p +=1\n",
    "        if y1[i] not in dict_t:\n",
    "            dict_t[y1[i]] = id_t\n",
    "            id_t +=1\n",
    "        x2.append(dict_p[x1[i]])\n",
    "        y2.append(dict_t[y1[i]])\n",
    "        i += 1\n",
    "\n",
    "    x2 = np.array(x2)\n",
    "    y2 = np.array(y2)\n",
    "    return x2, y2, dict_p, dict_t\n",
    "\n",
    "x1 = df3['playlist_id'].values\n",
    "y1 = df3['track_id'].values\n",
    "\n",
    "xa, ya, dict_p, dict_t=align_dataset(x1, y1)\n",
    "\n",
    "print (\"dataset aligned\")"
   ]
  },
  {
   "cell_type": "code",
   "execution_count": 8,
   "metadata": {},
   "outputs": [
    {
     "name": "stdout",
     "output_type": "stream",
     "text": [
      "file saved\n"
     ]
    }
   ],
   "source": [
    "# ---> save dataset\n",
    "def save(x,y):\n",
    "    l = len(df3['playlist_id'])\n",
    "    M = np.zeros((l, 2))\n",
    "    count = 0\n",
    "    for value in x:\n",
    "        M[count][0] = x[count]\n",
    "        M[count][1] = y[count]\n",
    "        count += 1\n",
    "    savetxt(\"./CsvFiles/train_final2.csv\", M.astype(int), fmt='%d\\t%d', header=\"playlist_id\\ttrack_ids\",comments='')\n",
    "\n",
    "save(xa,ya)\n",
    "print ('file saved')"
   ]
  },
  {
   "cell_type": "code",
   "execution_count": 9,
   "metadata": {},
   "outputs": [
    {
     "name": "stdout",
     "output_type": "stream",
     "text": [
      "PTReader: loading data...\n",
      "Processed 100000 cells\n",
      "Processed 200000 cells\n",
      "Processed 300000 cells\n",
      "Processed 400000 cells\n",
      "Processed 500000 cells\n",
      "Processed 600000 cells\n",
      "MyReader: saving URM_train and URM_test\n",
      "MyReader: loading complete\n",
      "end import\n"
     ]
    }
   ],
   "source": [
    "# ---> create train test and test set file\n",
    "from MyReader import MyReader\n",
    "dataReader = MyReader(splitTrainTest = True, trainPercentage = 0.8, loadPredefinedTrainTest = False)\n",
    "\n",
    "URM_train = dataReader.get_URM_train()\n",
    "URM_test = dataReader.get_URM_test()\n",
    "print (\"end import\")"
   ]
  },
  {
   "cell_type": "code",
   "execution_count": 13,
   "metadata": {},
   "outputs": [
    {
     "name": "stdout",
     "output_type": "stream",
     "text": [
      "track not in dict: 3626362\n",
      "target tracks aligned and filtered\n"
     ]
    }
   ],
   "source": [
    "# --> align target tracks\n",
    "dft = pd.read_csv(\"./CsvFiles/target_tracks.csv\", sep= \"\\t\", header = 0,dtype= {\"track_id\":np.int32} )\n",
    "t_set = dft['track_id']\n",
    "ta_set = list()\n",
    "\n",
    "for t in t_set:\n",
    "    if t in dict_t:\n",
    "        ta_set.append(dict_t[t])\n",
    "    else:\n",
    "        print (\"track not in dict: \" + str(t))\n",
    "    \n",
    "ta_set = np.array(ta_set)\n",
    "\n",
    "print (\"target tracks aligned and filtered\")"
   ]
  },
  {
   "cell_type": "code",
   "execution_count": 15,
   "metadata": {},
   "outputs": [
    {
     "name": "stdout",
     "output_type": "stream",
     "text": [
      "target playlists aligned and filtered\n"
     ]
    }
   ],
   "source": [
    "# --> align target playlist\n",
    "dfp = pd.read_csv(\"./CsvFiles/target_playlists.csv\", sep= \"\\t\", header = 0,dtype= {\"track_id\":np.int32} )\n",
    "p_set = dfp['playlist_id']\n",
    "pa_set = list()\n",
    "\n",
    "for p in p_set:\n",
    "    if p in dict_p:\n",
    "        pa_set.append(dict_p[p])\n",
    "    else:\n",
    "        print (\"playlist not in dict: \" + str(p))\n",
    "pa_set = np.array(pa_set)\n",
    "\n",
    "print (\"target playlists aligned and filtered\")"
   ]
  },
  {
   "cell_type": "code",
   "execution_count": null,
   "metadata": {
    "collapsed": true
   },
   "outputs": [],
   "source": [
    "# --> save aligned target tracks\n",
    "savetxt(\"./CsvFiles/train_final2.csv\", M.astype(int), fmt='%d\\t%d', header=\"playlist_id\\ttrack_ids\",comments='')"
   ]
  }
 ],
 "metadata": {
  "kernelspec": {
   "display_name": "Python 2",
   "language": "python",
   "name": "python2"
  },
  "language_info": {
   "codemirror_mode": {
    "name": "ipython",
    "version": 2
   },
   "file_extension": ".py",
   "mimetype": "text/x-python",
   "name": "python",
   "nbconvert_exporter": "python",
   "pygments_lexer": "ipython2",
   "version": "2.7.13"
  }
 },
 "nbformat": 4,
 "nbformat_minor": 2
}
