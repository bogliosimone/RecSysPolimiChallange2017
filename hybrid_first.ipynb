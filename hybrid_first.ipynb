{
 "cells": [
  {
   "cell_type": "code",
   "execution_count": 3,
   "metadata": {},
   "outputs": [
    {
     "name": "stdout",
     "output_type": "stream",
     "text": [
      "Date Reader Challange Polimi 2017\n",
      "Loading data from ./DumpData/DataReaderTrainTestDump\n",
      "Dataset train-test loaded\n"
     ]
    },
    {
     "ename": "IOError",
     "evalue": "[Errno 2] No such file or directory: './DumpData/sim_bpr_100e_100k_fulltrain.npz'",
     "output_type": "error",
     "traceback": [
      "\u001b[1;31m---------------------------------------------------------------------------\u001b[0m",
      "\u001b[1;31mIOError\u001b[0m                                   Traceback (most recent call last)",
      "\u001b[1;32m<ipython-input-3-e0e743dcc8fc>\u001b[0m in \u001b[0;36m<module>\u001b[1;34m()\u001b[0m\n\u001b[0;32m     19\u001b[0m \u001b[0mt_t\u001b[0m \u001b[1;33m=\u001b[0m \u001b[0mdr\u001b[0m\u001b[1;33m.\u001b[0m\u001b[0mtarget_tracks\u001b[0m\u001b[1;33m\u001b[0m\u001b[0m\n\u001b[0;32m     20\u001b[0m \u001b[1;31m#slim bpr\u001b[0m\u001b[1;33m\u001b[0m\u001b[1;33m\u001b[0m\u001b[0m\n\u001b[1;32m---> 21\u001b[1;33m \u001b[0ms_bpr\u001b[0m \u001b[1;33m=\u001b[0m \u001b[0mdr\u001b[0m\u001b[1;33m.\u001b[0m\u001b[0mload_sparse_csr\u001b[0m\u001b[1;33m(\u001b[0m\u001b[1;34m\"./DumpData/sim_bpr_100e_100k_fulltrain.npz\"\u001b[0m\u001b[1;33m)\u001b[0m\u001b[1;33m\u001b[0m\u001b[0m\n\u001b[0m",
      "\u001b[1;32mC:\\Users\\Simone\\Documents\\Practice sessions\\Python notebook\\DataReader.pyc\u001b[0m in \u001b[0;36mload_sparse_csr\u001b[1;34m(self, filename)\u001b[0m\n\u001b[0;32m    513\u001b[0m \u001b[1;33m\u001b[0m\u001b[0m\n\u001b[0;32m    514\u001b[0m     \u001b[1;32mdef\u001b[0m \u001b[0mload_sparse_csr\u001b[0m\u001b[1;33m(\u001b[0m\u001b[0mself\u001b[0m\u001b[1;33m,\u001b[0m\u001b[0mfilename\u001b[0m\u001b[1;33m)\u001b[0m\u001b[1;33m:\u001b[0m\u001b[1;33m\u001b[0m\u001b[0m\n\u001b[1;32m--> 515\u001b[1;33m         \u001b[0mloader\u001b[0m \u001b[1;33m=\u001b[0m \u001b[0mnp\u001b[0m\u001b[1;33m.\u001b[0m\u001b[0mload\u001b[0m\u001b[1;33m(\u001b[0m\u001b[0mfilename\u001b[0m\u001b[1;33m)\u001b[0m\u001b[1;33m\u001b[0m\u001b[0m\n\u001b[0m\u001b[0;32m    516\u001b[0m         \u001b[1;32mreturn\u001b[0m \u001b[0msp\u001b[0m\u001b[1;33m.\u001b[0m\u001b[0mcsr_matrix\u001b[0m\u001b[1;33m(\u001b[0m\u001b[1;33m(\u001b[0m\u001b[0mloader\u001b[0m\u001b[1;33m[\u001b[0m\u001b[1;34m'data'\u001b[0m\u001b[1;33m]\u001b[0m\u001b[1;33m,\u001b[0m \u001b[0mloader\u001b[0m\u001b[1;33m[\u001b[0m\u001b[1;34m'indices'\u001b[0m\u001b[1;33m]\u001b[0m\u001b[1;33m,\u001b[0m \u001b[0mloader\u001b[0m\u001b[1;33m[\u001b[0m\u001b[1;34m'indptr'\u001b[0m\u001b[1;33m]\u001b[0m\u001b[1;33m)\u001b[0m\u001b[1;33m,\u001b[0m\u001b[0mshape\u001b[0m \u001b[1;33m=\u001b[0m \u001b[0mloader\u001b[0m\u001b[1;33m[\u001b[0m\u001b[1;34m'shape'\u001b[0m\u001b[1;33m]\u001b[0m\u001b[1;33m)\u001b[0m\u001b[1;33m\u001b[0m\u001b[0m\n",
      "\u001b[1;32mC:\\Users\\Simone\\Anaconda2\\lib\\site-packages\\numpy\\lib\\npyio.pyc\u001b[0m in \u001b[0;36mload\u001b[1;34m(file, mmap_mode, allow_pickle, fix_imports, encoding)\u001b[0m\n\u001b[0;32m    368\u001b[0m     \u001b[0mown_fid\u001b[0m \u001b[1;33m=\u001b[0m \u001b[0mFalse\u001b[0m\u001b[1;33m\u001b[0m\u001b[0m\n\u001b[0;32m    369\u001b[0m     \u001b[1;32mif\u001b[0m \u001b[0misinstance\u001b[0m\u001b[1;33m(\u001b[0m\u001b[0mfile\u001b[0m\u001b[1;33m,\u001b[0m \u001b[0mbasestring\u001b[0m\u001b[1;33m)\u001b[0m\u001b[1;33m:\u001b[0m\u001b[1;33m\u001b[0m\u001b[0m\n\u001b[1;32m--> 370\u001b[1;33m         \u001b[0mfid\u001b[0m \u001b[1;33m=\u001b[0m \u001b[0mopen\u001b[0m\u001b[1;33m(\u001b[0m\u001b[0mfile\u001b[0m\u001b[1;33m,\u001b[0m \u001b[1;34m\"rb\"\u001b[0m\u001b[1;33m)\u001b[0m\u001b[1;33m\u001b[0m\u001b[0m\n\u001b[0m\u001b[0;32m    371\u001b[0m         \u001b[0mown_fid\u001b[0m \u001b[1;33m=\u001b[0m \u001b[0mTrue\u001b[0m\u001b[1;33m\u001b[0m\u001b[0m\n\u001b[0;32m    372\u001b[0m     \u001b[1;32melif\u001b[0m \u001b[0mis_pathlib_path\u001b[0m\u001b[1;33m(\u001b[0m\u001b[0mfile\u001b[0m\u001b[1;33m)\u001b[0m\u001b[1;33m:\u001b[0m\u001b[1;33m\u001b[0m\u001b[0m\n",
      "\u001b[1;31mIOError\u001b[0m: [Errno 2] No such file or directory: './DumpData/sim_bpr_100e_100k_fulltrain.npz'"
     ]
    }
   ],
   "source": [
    "from DataReader import DataReaderChallangePolimi2017\n",
    "from CF_IB_asy import CF_IB_asymmetric_cosine\n",
    "from CF_UB_asy import CF_UB_asymmetric_cosine\n",
    "from CB_asy import CB_asymmetric_cosine\n",
    "import numpy as np\n",
    "import copy\n",
    "import  scipy.sparse as sps\n",
    "from sklearn.utils.sparsefuncs import inplace_row_scale\n",
    "from sklearn.utils.sparsefuncs import inplace_column_scale\n",
    "from sklearn.preprocessing import normalize\n",
    "\n",
    "evaluation = True\n",
    "rebuild = False\n",
    "dr = DataReaderChallangePolimi2017(evaluation=evaluation,rebuild=rebuild)\n",
    "\n",
    "urm = dr.getURM_csr()\n",
    "icm = dr.getICM_csr(albums=True,artists=True,tags=False)\n",
    "t_p = dr.target_playlists\n",
    "t_t = dr.target_tracks\n",
    "#slim bpr\n",
    "s_bpr = dr.load_sparse_csr(\"./DumpData/sim_bpr_20e_100k_fulltrain.npz\")"
   ]
  },
  {
   "cell_type": "code",
   "execution_count": 2,
   "metadata": {},
   "outputs": [
    {
     "name": "stdout",
     "output_type": "stream",
     "text": [
      "Start  CB asy model..\n",
      "Keep only k-similar item..\n",
      "Building sparse matrix..\n",
      "Start building rating matrix..\n",
      "Normalizing rating matrix..\n",
      "Model done\n",
      "User 0 of 10000\n",
      "User 2000 of 10000\n",
      "User 4000 of 10000\n",
      "User 6000 of 10000\n",
      "User 8000 of 10000\n",
      "Recommender performance is: MAP = 0.0642\n"
     ]
    }
   ],
   "source": [
    "#content based\n",
    "m_cb = CB_asymmetric_cosine(urm, icm, k=150, alpha=0.11, q=1, m=0)\n",
    "r_cb = m_cb.getRM_csr(targetPlaylists=t_p,targetTracks=t_t)\n",
    "if evaluation: dr.evaluateMAP(r_cb)"
   ]
  },
  {
   "cell_type": "code",
   "execution_count": 109,
   "metadata": {},
   "outputs": [
    {
     "name": "stdout",
     "output_type": "stream",
     "text": [
      "Start asymmetric cosine item-based model..\n",
      "Keep only k-similar item..\n",
      "Building sparse matrix..\n",
      "Start building rating matrix..\n",
      "Normalizing rating matrix..\n",
      "Model asymmetric cosine item-based done\n"
     ]
    }
   ],
   "source": [
    "#collaborative filterin item based\n",
    "m_cf_ib = CF_IB_asymmetric_cosine(urm, k=200, alpha=0.30, q=1, m=0)\n",
    "r_cf_ib = m_cf_ib.getRM_csr(targetPlaylists=t_p,targetTracks=t_t)\n",
    "if evaluation: dr.evaluateMAP(r_cf_ib)"
   ]
  },
  {
   "cell_type": "code",
   "execution_count": 110,
   "metadata": {},
   "outputs": [
    {
     "name": "stdout",
     "output_type": "stream",
     "text": [
      "Start asymmetric cosine item-based model..\n",
      "Keep only k-similar item..\n",
      "Building sparse matrix..\n",
      "Start building rating matrix..\n",
      "Normalizing rating matrix..\n",
      "Model asymmetric cosine item-based done\n"
     ]
    }
   ],
   "source": [
    "#collaborative filtering user based\n",
    "m_cf_ub = CF_IB_asymmetric_cosine(urm, k=200, alpha=0.45, q=1, m=0)\n",
    "r_cf_ub = m_cf_ub.getRM_csr(targetPlaylists=t_p,targetTracks=t_t)\n",
    "if evaluation: dr.evaluateMAP(r_cf_ub)"
   ]
  },
  {
   "cell_type": "code",
   "execution_count": 111,
   "metadata": {
    "collapsed": true
   },
   "outputs": [],
   "source": [
    "r_bpr = urm * s_bpr\n",
    "if evaluation: score = dr.evaluateMAP(r_bpr)"
   ]
  },
  {
   "cell_type": "code",
   "execution_count": 24,
   "metadata": {},
   "outputs": [
    {
     "name": "stdout",
     "output_type": "stream",
     "text": [
      "User 0 of 10000\n",
      "User 2000 of 10000\n",
      "User 4000 of 10000\n",
      "User 6000 of 10000\n",
      "User 8000 of 10000\n",
      "Recommender performance is: MAP = 0.0903\n"
     ]
    }
   ],
   "source": [
    "r = 1.1*r_cb + 2.55 * r_cf_ib + 1.1*r_cf_ub\n",
    "if evaluation: score = dr.evaluateMAP(r)"
   ]
  },
  {
   "cell_type": "code",
   "execution_count": 57,
   "metadata": {},
   "outputs": [
    {
     "name": "stdout",
     "output_type": "stream",
     "text": [
      "User 0 of 10000\n",
      "User 2000 of 10000\n",
      "User 4000 of 10000\n",
      "User 6000 of 10000\n",
      "User 8000 of 10000\n",
      "Recommender performance is: MAP = 0.0915\n"
     ]
    }
   ],
   "source": [
    "r = 1.1*r_cb + 2.55 * r_cf_ib + 2.55 * r_bpr  + 1.1*r_cf_ub \n",
    "if evaluation: score = dr.evaluateMAP(r)"
   ]
  },
  {
   "cell_type": "code",
   "execution_count": 330,
   "metadata": {},
   "outputs": [
    {
     "name": "stdout",
     "output_type": "stream",
     "text": [
      "User 0 of 10000\n",
      "User 2000 of 10000\n",
      "User 4000 of 10000\n",
      "User 6000 of 10000\n",
      "User 8000 of 10000\n",
      "Recommender performance is: MAP = 0.0621\n",
      "User 0 of 10000\n",
      "User 2000 of 10000\n",
      "User 4000 of 10000\n",
      "User 6000 of 10000\n",
      "User 8000 of 10000\n",
      "Recommender performance is: MAP = 0.0726\n",
      "User 0 of 10000\n",
      "User 2000 of 10000\n",
      "User 4000 of 10000\n",
      "User 6000 of 10000\n",
      "User 8000 of 10000\n",
      "Recommender performance is: MAP = 0.0661\n"
     ]
    }
   ],
   "source": [
    "maps1, n1 = dr.evaluateMAP(r_cb,allmaps=True)\n",
    "maps2, n2 = dr.evaluateMAP(r_cf_ib,allmaps=True)\n",
    "maps3, n3 = dr.evaluateMAP(r_cf_ub,allmaps=True)"
   ]
  },
  {
   "cell_type": "code",
   "execution_count": 332,
   "metadata": {},
   "outputs": [
    {
     "name": "stdout",
     "output_type": "stream",
     "text": [
      "User 0 of 10000\n",
      "User 2000 of 10000\n",
      "User 4000 of 10000\n",
      "User 6000 of 10000\n",
      "User 8000 of 10000\n",
      "Recommendations done\n",
      "User 0 of 10000\n",
      "User 2000 of 10000\n",
      "User 4000 of 10000\n",
      "User 6000 of 10000\n",
      "User 8000 of 10000\n",
      "Recommender performance is: MAP = 0.0883\n"
     ]
    },
    {
     "data": {
      "text/plain": [
       "0.088326000000000626"
      ]
     },
     "execution_count": 332,
     "metadata": {},
     "output_type": "execute_result"
    }
   ],
   "source": [
    "recs = dr.getAllRecommendations(r)\n",
    "dr.evaluateMAPfromRecommendations(recs)"
   ]
  },
  {
   "cell_type": "code",
   "execution_count": 333,
   "metadata": {},
   "outputs": [
    {
     "name": "stdout",
     "output_type": "stream",
     "text": [
      "cb: 10000\n",
      "cf: 10000\n"
     ]
    }
   ],
   "source": [
    "count = 0 \n",
    "p_cb = {}\n",
    "\n",
    "th = 0.0\n",
    "for row in maps1:\n",
    "    if(row[1]>=th):\n",
    "        count = count +1\n",
    "        p_cb[row[0]] = [row[1],row[2]]\n",
    "\n",
    "count2 = 0 \n",
    "p_cf_ib = {}\n",
    "for row in maps2:\n",
    "    if(row[1]>=th):\n",
    "        count2 = count2 +1\n",
    "        p_cf_ib[row[0]] = [row[1],row[2]]\n",
    "\n",
    "print \"cb: \" + str(count)\n",
    "print \"cf: \" + str(count2)"
   ]
  },
  {
   "cell_type": "code",
   "execution_count": 279,
   "metadata": {},
   "outputs": [
    {
     "name": "stdout",
     "output_type": "stream",
     "text": [
      "common: 10000\n",
      "new cb: 837\n",
      "new cf: 1140\n"
     ]
    }
   ],
   "source": [
    "join = 0 \n",
    "th2 = 0.15\n",
    "for p in p_cb.keys():\n",
    "    if p in p_cf_ib.keys():\n",
    "        join = join +1\n",
    "        m_cb = p_cb[p][0]\n",
    "        m_cf = p_cf_ib[p][0]\n",
    "        if m_cb - m_cf >th2:\n",
    "            p_cf_ib.pop(p, None)\n",
    "        elif m_cf - m_cb > th2:\n",
    "            p_cb.pop(p,None)\n",
    "        else:\n",
    "            p_cf_ib.pop(p, None)\n",
    "            p_cb.pop(p,None)\n",
    "print \"common: \" + str(join)\n",
    "print \"new cb: \" + str(len(p_cb))\n",
    "print \"new cf: \" + str(len (p_cf_ib))\n",
    "\n",
    "recs_c = copy.deepcopy(recs)\n",
    "for row in recs_c:\n",
    "    p = row[0]\n",
    "    if p in p_cb:\n",
    "        row[1] = p_cb[p][1]\n",
    "    if p in p_cf_ib:\n",
    "        row[1] = p_cf_ib[p][1]"
   ]
  },
  {
   "cell_type": "code",
   "execution_count": 280,
   "metadata": {},
   "outputs": [
    {
     "name": "stdout",
     "output_type": "stream",
     "text": [
      "User 0 of 10000\n",
      "User 2000 of 10000\n",
      "User 4000 of 10000\n",
      "User 6000 of 10000\n",
      "User 8000 of 10000\n",
      "Recommender performance is: MAP = 0.1101\n"
     ]
    },
    {
     "data": {
      "text/plain": [
       "0.11007050000000086"
      ]
     },
     "execution_count": 280,
     "metadata": {},
     "output_type": "execute_result"
    }
   ],
   "source": [
    "dr.evaluateMAPfromRecommendations(recs_c)"
   ]
  },
  {
   "cell_type": "code",
   "execution_count": 281,
   "metadata": {},
   "outputs": [
    {
     "name": "stdout",
     "output_type": "stream",
     "text": [
      "507\n",
      "674\n",
      "new cb: 330\n",
      "new cf: 466\n"
     ]
    }
   ],
   "source": [
    "join = 0\n",
    "for p in p_cb.keys():\n",
    "    if p not in p_cb_old.keys():\n",
    "        join = join +1\n",
    "        p_cb.pop(p,None)\n",
    "print join\n",
    "\n",
    "join = 0\n",
    "for p in p_cf_ib.keys():\n",
    "    if p not in p_cf_ib_old.keys():\n",
    "        join = join +1\n",
    "        p_cf_ib.pop(p, None)\n",
    "print join\n",
    "print \"new cb: \" + str(len(p_cb))\n",
    "print \"new cf: \" + str(len (p_cf_ib))"
   ]
  },
  {
   "cell_type": "code",
   "execution_count": 342,
   "metadata": {},
   "outputs": [
    {
     "name": "stdout",
     "output_type": "stream",
     "text": [
      "User 0 of 10000\n",
      "User 2000 of 10000\n",
      "User 4000 of 10000\n",
      "User 6000 of 10000\n",
      "User 8000 of 10000\n",
      "Recommender performance is: MAP = 0.0915\n"
     ]
    },
    {
     "data": {
      "text/plain": [
       "0.091484388888889448"
      ]
     },
     "execution_count": 342,
     "metadata": {},
     "output_type": "execute_result"
    }
   ],
   "source": [
    "recs_c = copy.deepcopy(recs)\n",
    "for row in recs_c:\n",
    "    p = row[0]\n",
    "    if p in p_cb_old_s1:############\n",
    "        row[1] = p_cb[p][1]\n",
    "    if p in p_cf_ib_old_s1:############\n",
    "        row[1] = p_cf_ib[p][1]\n",
    "dr.evaluateMAPfromRecommendations(recs_c)"
   ]
  },
  {
   "cell_type": "code",
   "execution_count": 253,
   "metadata": {
    "collapsed": true
   },
   "outputs": [],
   "source": [
    "p_cb_old_s1 #= copy.deepcopy(p_cb)\n",
    "p_cf_ib_old_s1 #= copy.deepcopy(p_cf_ib)"
   ]
  },
  {
   "cell_type": "code",
   "execution_count": 343,
   "metadata": {},
   "outputs": [
    {
     "name": "stdout",
     "output_type": "stream",
     "text": [
      "827\n",
      "1058\n",
      "327\n",
      "434\n",
      "196\n",
      "263\n",
      "130\n",
      "178\n"
     ]
    }
   ],
   "source": [
    "print len(p_cb_old)\n",
    "print len(p_cf_ib_old)\n",
    "print len(p_cb_old_s1)\n",
    "print len(p_cf_ib_old_s1)\n",
    "print len(p_cb_old_s)\n",
    "print len(p_cf_ib_old_s)\n",
    "print len(p_cb_old_s2)\n",
    "print len(p_cf_ib_old_s2)\n"
   ]
  },
  {
   "cell_type": "code",
   "execution_count": 114,
   "metadata": {
    "collapsed": true
   },
   "outputs": [],
   "source": [
    "import pickle\n",
    "\n",
    "#pickle.dump(p_cb_old_s1, open( \"./DumpData/top_playlists_cb\", \"wb\" ))\n",
    "#pickle.dump(p_cf_ib_old_s1, open( \"./DumpData/top_playlists_cf_ib\", \"wb\" ))\n",
    "\n",
    "l1=pickle.load(open( \"./DumpData/top_playlists_cb\", \"rb\" ))\n",
    "l2=pickle.load(open( \"./DumpData/top_playlists_cf_ib\", \"rb\" ))"
   ]
  },
  {
   "cell_type": "code",
   "execution_count": null,
   "metadata": {},
   "outputs": [
    {
     "name": "stdout",
     "output_type": "stream",
     "text": [
      "User 0 of 10000\n",
      "User 2000 of 10000\n",
      "User 4000 of 10000\n",
      "User 6000 of 10000\n",
      "User 8000 of 10000\n",
      "Recommendations done\n",
      "User 0 of 10000\n",
      "User 2000 of 10000\n",
      "User 4000 of 10000\n",
      "User 6000 of 10000\n",
      "User 8000 of 10000\n",
      "Recommendations done\n",
      "User 0 of 10000\n"
     ]
    }
   ],
   "source": [
    "rec = dr.getAllRecommendations(r_norm)\n",
    "rec1 = dr.getAllRecommendations(r_cb_norm)\n",
    "rec2 = dr.getAllRecommendations(r_cf_ib_norm)"
   ]
  },
  {
   "cell_type": "code",
   "execution_count": 118,
   "metadata": {},
   "outputs": [
    {
     "name": "stdout",
     "output_type": "stream",
     "text": [
      "cb: 10000\n",
      "cf: 10000\n"
     ]
    }
   ],
   "source": [
    "count = 0 \n",
    "p_cb = {}\n",
    "\n",
    "th = 0.0\n",
    "for row in rec1:\n",
    "    count = count +1\n",
    "    p_cb[row[0]] = row[1]\n",
    "\n",
    "count2 = 0 \n",
    "p_cf_ib = {}\n",
    "for row in rec2:\n",
    "    count2 = count2 +1\n",
    "    p_cf_ib[row[0]] = row[1]\n",
    "\n",
    "print \"cb: \" + str(count)\n",
    "print \"cf: \" + str(count2)\n",
    "\n",
    "for row in rec:\n",
    "    p = row[0]\n",
    "    if p in l1:############\n",
    "        row[1] = p_cb[p]\n",
    "    if p in l2:############\n",
    "        row[1] = p_cf_ib[p]\n",
    "if evaluation: dr.evaluateMAPfromRecommendations(rec)"
   ]
  },
  {
   "cell_type": "code",
   "execution_count": 112,
   "metadata": {
    "collapsed": true
   },
   "outputs": [],
   "source": [
    "r_cb_norm = normalize(r_cb,axis=1)\n",
    "r_cf_ib_norm = normalize(r_cf_ib,axis=1)\n",
    "r_cf_ub_norm = normalize(r_cf_ub,axis=1)\n",
    "r_bpr_norm = normalize (r_bpr,axis = 1)"
   ]
  },
  {
   "cell_type": "code",
   "execution_count": 113,
   "metadata": {
    "collapsed": true
   },
   "outputs": [],
   "source": [
    "r_norm = 0.85*r_cb_norm + r_cf_ib_norm  + 1.1*r_cf_ub_norm + 0.36 * r_bpr_norm\n",
    "r_norm = normalize(r_norm,axis=1)\n",
    "if evaluation: score = dr.evaluateMAP(r_norm)\n"
   ]
  },
  {
   "cell_type": "code",
   "execution_count": 58,
   "metadata": {},
   "outputs": [
    {
     "name": "stdout",
     "output_type": "stream",
     "text": [
      "User 0 of 10000\n",
      "User 2000 of 10000\n",
      "User 4000 of 10000\n",
      "User 6000 of 10000\n",
      "User 8000 of 10000\n",
      "Recommendations done\n",
      "User 0 of 10000\n",
      "User 2000 of 10000\n",
      "User 4000 of 10000\n",
      "User 6000 of 10000\n",
      "User 8000 of 10000\n",
      "Recommendations done\n",
      "User 0 of 10000\n",
      "User 2000 of 10000\n",
      "User 4000 of 10000\n",
      "User 6000 of 10000\n",
      "User 8000 of 10000\n",
      "Recommendations done\n",
      "User 0 of 10000\n",
      "User 2000 of 10000\n",
      "User 4000 of 10000\n",
      "User 6000 of 10000\n",
      "User 8000 of 10000\n",
      "Recommendations done\n",
      "User 0 of 10000\n",
      "User 2000 of 10000\n",
      "User 4000 of 10000\n",
      "User 6000 of 10000\n",
      "User 8000 of 10000\n",
      "Recommendations done\n"
     ]
    }
   ],
   "source": [
    "rec5 = dr.getAllRecommendations(r_norm)\n",
    "rec1 = dr.getAllRecommendations(r_cb)\n",
    "rec2 = dr.getAllRecommendations(r_cf_ib)\n",
    "rec3 = dr.getAllRecommendations(r_cf_ub)\n",
    "rec4 = dr.getAllRecommendations(r_bpr)"
   ]
  },
  {
   "cell_type": "code",
   "execution_count": 59,
   "metadata": {
    "collapsed": true
   },
   "outputs": [],
   "source": [
    "def mix2 (all_r1,all_r2, k = 1):\n",
    "    all_r = []\n",
    "    for i in range(len(all_r1)):\n",
    "        id_p = all_r1[i][0]\n",
    "        row1 = all_r1[i][1]\n",
    "        row2 = all_r2[i][1]\n",
    "        row = np.array(np.append(row1,row2))\n",
    "        sc1 = all_r1[i][2]\n",
    "        sc2 = all_r2[i][2]\n",
    "        sc2 = np.multiply(sc2,k)\n",
    "        #print \"1: \"+ str(sc1)\n",
    "        #print \"2: \" + str(sc2)\n",
    "        sc = np.array(np.append(sc1,sc2))\n",
    "        idxs = sc.argsort()[::-1]\n",
    "        rec = np.array(row[idxs])\n",
    "        sc = np.array(sc[idxs])\n",
    "        l = []\n",
    "        s = []\n",
    "        for j in range(10):\n",
    "            if np.asscalar(rec[j]) not in l:\n",
    "                l.append(rec[j])\n",
    "                s.append(sc[j])\n",
    "        l = np.array(l[:5])\n",
    "        s = np.array(s[:5])\n",
    "        all_r.append([id_p,l,s])\n",
    "        \n",
    "    return all_r"
   ]
  },
  {
   "cell_type": "code",
   "execution_count": 86,
   "metadata": {},
   "outputs": [
    {
     "name": "stdout",
     "output_type": "stream",
     "text": [
      "User 0 of 10000\n",
      "User 2000 of 10000\n",
      "User 4000 of 10000\n",
      "User 6000 of 10000\n",
      "User 8000 of 10000\n",
      "Recommender performance is: MAP = 0.0754\n",
      "User 0 of 10000\n",
      "User 2000 of 10000\n",
      "User 4000 of 10000\n",
      "User 6000 of 10000\n",
      "User 8000 of 10000\n",
      "Recommender performance is: MAP = 0.0757\n",
      "User 0 of 10000\n",
      "User 2000 of 10000\n",
      "User 4000 of 10000\n",
      "User 6000 of 10000\n",
      "User 8000 of 10000\n",
      "Recommender performance is: MAP = 0.0803\n",
      "User 0 of 10000\n",
      "User 2000 of 10000\n",
      "User 4000 of 10000\n",
      "User 6000 of 10000\n",
      "User 8000 of 10000\n",
      "Recommender performance is: MAP = 0.0800\n",
      "User 0 of 10000\n",
      "User 2000 of 10000\n",
      "User 4000 of 10000\n",
      "User 6000 of 10000\n",
      "User 8000 of 10000\n",
      "Recommender performance is: MAP = 0.0804\n"
     ]
    }
   ],
   "source": [
    "rec_t = rec2\n",
    "if evaluation: dr.evaluateMAPfromRecommendations(rec_t)\n",
    "rec_t = mix2(rec_t,rec4,0.6)\n",
    "if evaluation: dr.evaluateMAPfromRecommendations(rec_t)\n",
    "rec_t = mix2(rec_t,rec1,0.2)\n",
    "if evaluation: dr.evaluateMAPfromRecommendations(rec_t)\n",
    "rec_t = mix2(rec_t,rec3,0.7)\n",
    "if evaluation: dr.evaluateMAPfromRecommendations(rec_t)\n",
    "rec_t = mix2(rec_t,rec4,0.7)\n",
    "if evaluation: dr.evaluateMAPfromRecommendations(rec_t)"
   ]
  },
  {
   "cell_type": "code",
   "execution_count": 119,
   "metadata": {},
   "outputs": [
    {
     "name": "stdout",
     "output_type": "stream",
     "text": [
      "Creating submission file in: ./Submissions/cfib-cbaa-cfub-sslim\n",
      "Done\n"
     ]
    }
   ],
   "source": [
    "if not evaluation: dr.buildSubmissionFile(file_name=\"cfib-cbaa-cfub-sslim\",recommendation=rec)"
   ]
  },
  {
   "cell_type": "code",
   "execution_count": 4,
   "metadata": {
    "collapsed": true
   },
   "outputs": [],
   "source": [
    "def find_parameters():   \n",
    "    result = []\n",
    "    for k in range (225,301,5):\n",
    "        rec = CF_IB_asymmetric_cosine(urm, k=k, alpha=0.3, q=1, m=0)\n",
    "        r = rec.getRM_csr()\n",
    "        MAP = dr.evaluateMAP(r)\n",
    "        rec.MAP = MAP\n",
    "        result.append (rec.print_setting())\n",
    "    print (\"\\n\\nResults:\\n\\n\")\n",
    "    for r in result:\n",
    "        print (r)"
   ]
  }
 ],
 "metadata": {
  "kernelspec": {
   "display_name": "Python 2",
   "language": "python",
   "name": "python2"
  },
  "language_info": {
   "codemirror_mode": {
    "name": "ipython",
    "version": 2
   },
   "file_extension": ".py",
   "mimetype": "text/x-python",
   "name": "python",
   "nbconvert_exporter": "python",
   "pygments_lexer": "ipython2",
   "version": "2.7.13"
  }
 },
 "nbformat": 4,
 "nbformat_minor": 2
}
