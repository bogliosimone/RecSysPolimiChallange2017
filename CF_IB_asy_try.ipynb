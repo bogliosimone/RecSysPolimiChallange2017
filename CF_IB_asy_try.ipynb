{
 "cells": [
  {
   "cell_type": "code",
   "execution_count": 2,
   "metadata": {},
   "outputs": [
    {
     "name": "stdout",
     "output_type": "stream",
     "text": [
      "Date Reader Challange Polimi 2017\n",
      "Loading data from ./DumpData/DataReaderTrainTestDump\n",
      "Dataset train-test loaded\n"
     ]
    }
   ],
   "source": [
    "from DataReader import DataReaderChallangePolimi2017\n",
    "import implicit\n",
    "from CB_asy import CB_asymmetric_cosine\n",
    "from CF_IB_asy import CF_IB_asymmetric_cosine\n",
    "from CF_UB_asy import CF_UB_asymmetric_cosine\n",
    "from implicit.nearest_neighbours import all_pairs_knn\n",
    "from sklearn.preprocessing import normalize\n",
    "from sklearn.utils.sparsefuncs import (inplace_row_scale,inplace_column_scale)\n",
    "import numpy as np\n",
    "import scipy.sparse as sp\n",
    "import pickle\n",
    "\n",
    "evaluation = True\n",
    "rebuild = False\n",
    "dr = DataReaderChallangePolimi2017(evaluation=evaluation,rebuild=rebuild)\n",
    "\n",
    "urm = dr.getURM_csr()\n",
    "t_p = dr.target_playlists\n",
    "t_t = dr.target_tracks    "
   ]
  },
  {
   "cell_type": "code",
   "execution_count": 42,
   "metadata": {
    "collapsed": true
   },
   "outputs": [],
   "source": [
    "class CF_IB_asymmetric_cosine:\n",
    "    def __init__(self, urm, k=100, alpha=0.5, q=1, m=0):\n",
    "        urm = sps.csr_matrix(urm, dtype=np.float32)\n",
    "        #urm = dr.bm25_col(urm)\n",
    "        if m == 0:\n",
    "            m = 1e-6\n",
    "\n",
    "        self.urm = urm\n",
    "        self.k = k\n",
    "        self.alpha = alpha\n",
    "        self.q = q\n",
    "        self.m = m\n",
    "        self.MAP = 0.0\n",
    "\n",
    "        n_user = urm.shape[0]\n",
    "        n_item = urm.shape[1]\n",
    "        self.n_playlists = n_user\n",
    "        self.n_tracks = n_item\n",
    "\n",
    "        print(\"Start asymmetric cosine item-based model..\")\n",
    "        s = (urm.T * urm).tocsr()\n",
    "        s_diagonal = s.diagonal()\n",
    "        s = s - sps.dia_matrix((s.diagonal()[np.newaxis, :], [0]), shape=s.shape)\n",
    "        s.eliminate_zeros()\n",
    "        s_one = sp.csr_matrix((np.ones(s.data.shape[0]), s.indices, s.indptr), shape=(n_item, n_item),\n",
    "                               dtype=np.float32)\n",
    "        norm1 = s_diagonal ** (1 - alpha)\n",
    "        norm2 = s_diagonal ** alpha\n",
    "        inplace_row_scale(s_one, norm1)\n",
    "        inplace_column_scale(s_one, norm2)\n",
    "        s_one.data = (s_one.data + m)\n",
    "        s.data = s.data / s_one.data\n",
    "        assert sps.isspmatrix_csr(s)\n",
    "        data, rows, cols = [], [], []\n",
    "        for i_row in range(s.shape[0]):\n",
    "            if i_row%25000==0:\n",
    "                print i_row\n",
    "            row = s[i_row, :].toarray().ravel()\n",
    "            topk_idxs_values = np.argpartition(row, -(k))[-(k):]\n",
    "            #topk_idxs_values = np.argsort(row)[-(k):]\n",
    "            n = topk_idxs_values.shape[0]\n",
    "            # create incrementally the similarity matrix\n",
    "            data.extend(row[topk_idxs_values])\n",
    "            cols.extend(topk_idxs_values)\n",
    "            rows.extend(np.full(n, i_row))\n",
    "        s = sp.coo_matrix((data, (rows, cols)), shape=(s.shape[0], s.shape[0]), dtype=np.float32)\n",
    "        s.eliminate_zeros()\n",
    "        self.s = s.tocsr()\n",
    "        return"
   ]
  },
  {
   "cell_type": "code",
   "execution_count": 43,
   "metadata": {},
   "outputs": [
    {
     "name": "stdout",
     "output_type": "stream",
     "text": [
      "Start asymmetric cosine item-based model..\n",
      "0\n",
      "25000\n",
      "50000\n",
      "75000\n"
     ]
    }
   ],
   "source": [
    "m = CF_IB_asymmetric_cosine(urm,alpha=0.3)"
   ]
  },
  {
   "cell_type": "code",
   "execution_count": 45,
   "metadata": {},
   "outputs": [
    {
     "name": "stdout",
     "output_type": "stream",
     "text": [
      "User 0 of 10000\n",
      "User 2500 of 10000\n",
      "User 5000 of 10000\n",
      "User 7500 of 10000\n",
      "Recommender performance is: MAP = 0.0701\n"
     ]
    },
    {
     "data": {
      "text/plain": [
       "0.070104722222222721"
      ]
     },
     "execution_count": 45,
     "metadata": {},
     "output_type": "execute_result"
    }
   ],
   "source": [
    "s = m.s\n",
    "r = urm* s\n",
    "#r = normalize(r,axis=0)\n",
    "dr.evaluateMAP(r)"
   ]
  },
  {
   "cell_type": "code",
   "execution_count": null,
   "metadata": {
    "collapsed": true
   },
   "outputs": [],
   "source": []
  }
 ],
 "metadata": {
  "kernelspec": {
   "display_name": "Python 2",
   "language": "python",
   "name": "python2"
  },
  "language_info": {
   "codemirror_mode": {
    "name": "ipython",
    "version": 2
   },
   "file_extension": ".py",
   "mimetype": "text/x-python",
   "name": "python",
   "nbconvert_exporter": "python",
   "pygments_lexer": "ipython2",
   "version": "2.7.13"
  }
 },
 "nbformat": 4,
 "nbformat_minor": 2
}
