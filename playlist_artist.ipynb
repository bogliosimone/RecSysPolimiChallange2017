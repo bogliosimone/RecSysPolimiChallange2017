{
 "cells": [
  {
   "cell_type": "code",
   "execution_count": 1,
   "metadata": {},
   "outputs": [
    {
     "name": "stdout",
     "output_type": "stream",
     "text": [
      "Date Reader Challange Polimi 2017\n",
      "Loading data from ./DumpData/DataReaderTrainTestDump\n",
      "Dataset train-test loaded\n"
     ]
    }
   ],
   "source": [
    "from DataReader import DataReaderChallangePolimi2017\n",
    "import implicit\n",
    "from CB_asy import CB_asymmetric_cosine\n",
    "from CF_IB_asy import CF_IB_asymmetric_cosine\n",
    "from CF_UB_asy import CF_UB_asymmetric_cosine\n",
    "from implicit.nearest_neighbours import (BM25Recommender, CosineRecommender,TFIDFRecommender)\n",
    "from sklearn.preprocessing import normalize\n",
    "import numpy as np\n",
    "import scipy.sparse as sp\n",
    "import pickle\n",
    "\n",
    "evaluation = True\n",
    "rebuild = False\n",
    "dr = DataReaderChallangePolimi2017(evaluation=evaluation,rebuild=rebuild)\n",
    "\n",
    "urm = dr.getURM_csr()\n",
    "t_p = dr.target_playlists\n",
    "t_t = dr.target_tracks\n",
    "if evaluation:\n",
    "    filesslim = \"./DumpData/sim_bpr_10e_100k2.npz\" # or \"./DumpData/sim_bpr_10e_100k.npz\"\n",
    "else:\n",
    "    filesslim = \"./DumpData/sim_bpr_10e_100k_fulltrain.npz\""
   ]
  },
  {
   "cell_type": "code",
   "execution_count": 31,
   "metadata": {},
   "outputs": [
    {
     "name": "stdout",
     "output_type": "stream",
     "text": [
      "[[ 8890 22426 54743 ..., 32763 32763 32763]\n",
      " [71058 19741 71298 ..., 87949 62773 70493]]\n",
      "[[77187 69189 37833 ..., 64702 57834 68922]\n",
      " [    2     4     2 ...,   980 14291 17533]]\n",
      "[[ 8890 71058]\n",
      " [22426 19741]\n",
      " [54743 71298]\n",
      " ..., \n",
      " [32763 87949]\n",
      " [32763 62773]\n",
      " [32763 70493]]\n"
     ]
    }
   ],
   "source": [
    "print dr.train\n",
    "print dr.artists"
   ]
  },
  {
   "cell_type": "code",
   "execution_count": 98,
   "metadata": {},
   "outputs": [
    {
     "name": "stdout",
     "output_type": "stream",
     "text": [
      "77040\n",
      "57561\n"
     ]
    }
   ],
   "source": [
    "dic_ar = {}\n",
    "ar_tr = dr.artists.T\n",
    "for row in ar_tr:\n",
    "    dic_ar[row[0]] = row[1]\n",
    "\n",
    "n_playlists = dr.n_playlists\n",
    "n_attributes = dr.n_attributes\n",
    "\n",
    "print n_attributes\n",
    "print n_playlists\n",
    "\n",
    "train = dr.train.T\n",
    "r,c,v = [],[],[]\n",
    "for row in train:\n",
    "    r.append(row[0])\n",
    "    c.append(dic_ar[row[1]])\n",
    "    v.append(1)\n",
    "\n",
    "icm_ar = sp.coo_matrix((v, (r, c)), shape=(n_playlists, n_attributes),dtype=np.float).tocsr()"
   ]
  },
  {
   "cell_type": "code",
   "execution_count": 96,
   "metadata": {},
   "outputs": [
    {
     "name": "stdout",
     "output_type": "stream",
     "text": [
      "0.0581924444444\n"
     ]
    }
   ],
   "source": [
    "#playlist-artist\n",
    "model = BM25Recommender(K=55)\n",
    "model.fit(icm_ar)\n",
    "s = model.similarity\n",
    "rt = s*urm\n",
    "rt = normalize(rt, axis=0)\n",
    "if evaluation: print dr.evaluateMAP(rt,verbose=False)\n",
    "rt = dr.reduceRM(rt)"
   ]
  },
  {
   "cell_type": "code",
   "execution_count": 97,
   "metadata": {},
   "outputs": [
    {
     "name": "stdout",
     "output_type": "stream",
     "text": [
      "77040\n",
      "57561\n"
     ]
    }
   ],
   "source": [
    "dic_al = {}\n",
    "al_tr = dr.albums.T\n",
    "for row in al_tr:\n",
    "    dic_al[row[0]] = row[1]\n",
    "    \n",
    "n_playlists = dr.n_playlists\n",
    "n_attributes = dr.n_attributes\n",
    "\n",
    "print n_attributes\n",
    "print n_playlists\n",
    "\n",
    "train = dr.train.T\n",
    "r,c,v = [],[],[]\n",
    "for row in train:\n",
    "    if row[1] not in dic_al: continue\n",
    "    r.append(row[0])\n",
    "    c.append(dic_al[row[1]])\n",
    "    v.append(1)\n",
    "\n",
    "icm_al = sp.coo_matrix((v, (r, c)), shape=(n_playlists, n_attributes),dtype=np.float).tocsr()"
   ]
  },
  {
   "cell_type": "code",
   "execution_count": 109,
   "metadata": {},
   "outputs": [
    {
     "name": "stdout",
     "output_type": "stream",
     "text": [
      "0.0704124722222\n"
     ]
    }
   ],
   "source": [
    "#playtlist-album\n",
    "model = BM25Recommender(K=100)\n",
    "model.fit(icm_al)\n",
    "s = model.similarity\n",
    "rt = s*urm\n",
    "rt = normalize(rt, axis=0)\n",
    "if evaluation: print dr.evaluateMAP(rt,verbose=False)\n",
    "rt = dr.reduceRM(rt)"
   ]
  },
  {
   "cell_type": "code",
   "execution_count": 107,
   "metadata": {
    "collapsed": true
   },
   "outputs": [],
   "source": [
    "r,c,v = [],[],[]\n",
    "\n",
    "for row in train:\n",
    "    r.append(row[0])\n",
    "    c.append(dic_ar[row[1]])\n",
    "    v.append(1)\n",
    "\n",
    "for row in train:\n",
    "    if row[1] not in dic_al: continue\n",
    "    r.append(row[0])\n",
    "    c.append(dic_al[row[1]])\n",
    "    v.append(1)\n",
    "\n",
    "icm_al_ar = sp.coo_matrix((v, (r, c)), shape=(n_playlists, n_attributes),dtype=np.float).tocsr()"
   ]
  },
  {
   "cell_type": "code",
   "execution_count": 108,
   "metadata": {},
   "outputs": [
    {
     "name": "stdout",
     "output_type": "stream",
     "text": [
      "0.0716002777778\n"
     ]
    }
   ],
   "source": [
    "model = BM25Recommender(K=80)\n",
    "model.fit(icm_al_ar)\n",
    "s = model.similarity\n",
    "rt = s*urm\n",
    "rt = normalize(rt, axis=0)\n",
    "if evaluation: print dr.evaluateMAP(rt,verbose=False)\n",
    "rt = dr.reduceRM(rt)"
   ]
  },
  {
   "cell_type": "code",
   "execution_count": null,
   "metadata": {
    "collapsed": true
   },
   "outputs": [],
   "source": []
  }
 ],
 "metadata": {
  "kernelspec": {
   "display_name": "Python 2",
   "language": "python",
   "name": "python2"
  },
  "language_info": {
   "codemirror_mode": {
    "name": "ipython",
    "version": 2
   },
   "file_extension": ".py",
   "mimetype": "text/x-python",
   "name": "python",
   "nbconvert_exporter": "python",
   "pygments_lexer": "ipython2",
   "version": "2.7.13"
  }
 },
 "nbformat": 4,
 "nbformat_minor": 2
}
