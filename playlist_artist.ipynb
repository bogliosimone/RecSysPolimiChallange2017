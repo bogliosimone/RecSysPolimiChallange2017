{
 "cells": [
  {
   "cell_type": "code",
   "execution_count": 1,
   "metadata": {},
   "outputs": [
    {
     "name": "stdout",
     "output_type": "stream",
     "text": [
      "Date Reader Challange Polimi 2017\n",
      "Loading data from ./DumpData/DataReaderTrainTestDump\n",
      "Dataset train-test loaded\n"
     ]
    }
   ],
   "source": [
    "from DataReader import DataReaderChallangePolimi2017\n",
    "import implicit\n",
    "from CB_asy import CB_asymmetric_cosine\n",
    "from CF_IB_asy import CF_IB_asymmetric_cosine\n",
    "from CF_UB_asy import CF_UB_asymmetric_cosine\n",
    "from implicit.nearest_neighbours import (BM25Recommender, CosineRecommender,TFIDFRecommender)\n",
    "from sklearn.preprocessing import normalize\n",
    "import numpy as np\n",
    "import scipy.sparse as sp\n",
    "import pickle\n",
    "\n",
    "evaluation = True\n",
    "rebuild = False\n",
    "dr = DataReaderChallangePolimi2017(evaluation=evaluation,rebuild=rebuild)\n",
    "\n",
    "urm = dr.getURM_csr()\n",
    "t_p = dr.target_playlists\n",
    "t_t = dr.target_tracks\n",
    "if evaluation:\n",
    "    filesslim = \"./DumpData/sim_bpr_10e_100k2.npz\" # or \"./DumpData/sim_bpr_10e_100k.npz\"\n",
    "else:\n",
    "    filesslim = \"./DumpData/sim_bpr_10e_100k_fulltrain.npz\""
   ]
  },
  {
   "cell_type": "code",
   "execution_count": 2,
   "metadata": {},
   "outputs": [
    {
     "name": "stdout",
     "output_type": "stream",
     "text": [
      "[[ 8890 22426 54743 ..., 32763 32763 32763]\n",
      " [71058 19741 71298 ..., 87949 62773 70493]]\n",
      "[[77187 69189 37833 ..., 64702 57834 68922]\n",
      " [    2     4     2 ...,   980 14291 17533]]\n"
     ]
    }
   ],
   "source": [
    "print dr.train\n",
    "print dr.artists"
   ]
  },
  {
   "cell_type": "code",
   "execution_count": 98,
   "metadata": {},
   "outputs": [
    {
     "name": "stdout",
     "output_type": "stream",
     "text": [
      "77040\n",
      "57561\n"
     ]
    }
   ],
   "source": [
    "dic_ar = {}\n",
    "ar_tr = dr.artists.T\n",
    "for row in ar_tr:\n",
    "    dic_ar[row[0]] = row[1]\n",
    "\n",
    "n_playlists = dr.n_playlists\n",
    "n_attributes = dr.n_attributes\n",
    "\n",
    "print n_attributes\n",
    "print n_playlists\n",
    "\n",
    "train = dr.train.T\n",
    "r,c,v = [],[],[]\n",
    "for row in train:\n",
    "    r.append(row[0])\n",
    "    c.append(dic_ar[row[1]])\n",
    "    v.append(1)\n",
    "\n",
    "icm_ar = sp.coo_matrix((v, (r, c)), shape=(n_playlists, n_attributes),dtype=np.float).tocsr()"
   ]
  },
  {
   "cell_type": "code",
   "execution_count": 3,
   "metadata": {},
   "outputs": [
    {
     "ename": "NameError",
     "evalue": "name 'icm_ar' is not defined",
     "output_type": "error",
     "traceback": [
      "\u001b[1;31m---------------------------------------------------------------------------\u001b[0m",
      "\u001b[1;31mNameError\u001b[0m                                 Traceback (most recent call last)",
      "\u001b[1;32m<ipython-input-3-44b0dff2882b>\u001b[0m in \u001b[0;36m<module>\u001b[1;34m()\u001b[0m\n\u001b[0;32m      1\u001b[0m \u001b[1;31m#playlist-artist\u001b[0m\u001b[1;33m\u001b[0m\u001b[1;33m\u001b[0m\u001b[0m\n\u001b[0;32m      2\u001b[0m \u001b[0mmodel\u001b[0m \u001b[1;33m=\u001b[0m \u001b[0mBM25Recommender\u001b[0m\u001b[1;33m(\u001b[0m\u001b[0mK\u001b[0m\u001b[1;33m=\u001b[0m\u001b[1;36m55\u001b[0m\u001b[1;33m)\u001b[0m\u001b[1;33m\u001b[0m\u001b[0m\n\u001b[1;32m----> 3\u001b[1;33m \u001b[0mmodel\u001b[0m\u001b[1;33m.\u001b[0m\u001b[0mfit\u001b[0m\u001b[1;33m(\u001b[0m\u001b[0micm_ar\u001b[0m\u001b[1;33m)\u001b[0m\u001b[1;33m\u001b[0m\u001b[0m\n\u001b[0m\u001b[0;32m      4\u001b[0m \u001b[0ms\u001b[0m \u001b[1;33m=\u001b[0m \u001b[0mmodel\u001b[0m\u001b[1;33m.\u001b[0m\u001b[0msimilarity\u001b[0m\u001b[1;33m\u001b[0m\u001b[0m\n\u001b[0;32m      5\u001b[0m \u001b[0mrt\u001b[0m \u001b[1;33m=\u001b[0m \u001b[0ms\u001b[0m\u001b[1;33m*\u001b[0m\u001b[0murm\u001b[0m\u001b[1;33m\u001b[0m\u001b[0m\n",
      "\u001b[1;31mNameError\u001b[0m: name 'icm_ar' is not defined"
     ]
    }
   ],
   "source": [
    "#playlist-artist\n",
    "model = BM25Recommender(K=55)\n",
    "model.fit(icm_ar)\n",
    "s = model.similarity\n",
    "rt = s*urm\n",
    "rt = normalize(rt, axis=0)\n",
    "if evaluation: print dr.evaluateMAP(rt,verbose=False)\n",
    "rt = dr.reduceRM(rt)"
   ]
  },
  {
   "cell_type": "code",
   "execution_count": 97,
   "metadata": {},
   "outputs": [
    {
     "name": "stdout",
     "output_type": "stream",
     "text": [
      "77040\n",
      "57561\n"
     ]
    }
   ],
   "source": [
    "dic_al = {}\n",
    "al_tr = dr.albums.T\n",
    "for row in al_tr:\n",
    "    dic_al[row[0]] = row[1]\n",
    "    \n",
    "n_playlists = dr.n_playlists\n",
    "n_attributes = dr.n_attributes\n",
    "\n",
    "print n_attributes\n",
    "print n_playlists\n",
    "\n",
    "train = dr.train.T\n",
    "r,c,v = [],[],[]\n",
    "for row in train:\n",
    "    if row[1] not in dic_al: continue\n",
    "    r.append(row[0])\n",
    "    c.append(dic_al[row[1]])\n",
    "    v.append(1)\n",
    "\n",
    "icm_al = sp.coo_matrix((v, (r, c)), shape=(n_playlists, n_attributes),dtype=np.float).tocsr()"
   ]
  },
  {
   "cell_type": "code",
   "execution_count": 109,
   "metadata": {},
   "outputs": [
    {
     "name": "stdout",
     "output_type": "stream",
     "text": [
      "0.0704124722222\n"
     ]
    }
   ],
   "source": [
    "#playtlist-album\n",
    "model = BM25Recommender(K=100)\n",
    "model.fit(icm_al)\n",
    "s = model.similarity\n",
    "rt = s*urm\n",
    "rt = normalize(rt, axis=0)\n",
    "if evaluation: print dr.evaluateMAP(rt,verbose=False)\n",
    "rt = dr.reduceRM(rt)"
   ]
  },
  {
   "cell_type": "code",
   "execution_count": 107,
   "metadata": {
    "collapsed": true
   },
   "outputs": [],
   "source": [
    "r,c,v = [],[],[]\n",
    "\n",
    "for row in train:\n",
    "    r.append(row[0])\n",
    "    c.append(dic_ar[row[1]])\n",
    "    v.append(1)\n",
    "\n",
    "for row in train:\n",
    "    if row[1] not in dic_al: continue\n",
    "    r.append(row[0])\n",
    "    c.append(dic_al[row[1]])\n",
    "    v.append(1)\n",
    "\n",
    "icm_al_ar = sp.coo_matrix((v, (r, c)), shape=(n_playlists, n_attributes),dtype=np.float).tocsr()"
   ]
  },
  {
   "cell_type": "code",
   "execution_count": 108,
   "metadata": {},
   "outputs": [
    {
     "name": "stdout",
     "output_type": "stream",
     "text": [
      "0.0716002777778\n"
     ]
    }
   ],
   "source": [
    "model = BM25Recommender(K=80)\n",
    "model.fit(icm_al_ar)\n",
    "s = model.similarity\n",
    "rt = s*urm\n",
    "rt = normalize(rt, axis=0)\n",
    "if evaluation: print dr.evaluateMAP(rt,verbose=False)\n",
    "rt = dr.reduceRM(rt)"
   ]
  },
  {
   "cell_type": "code",
   "execution_count": 27,
   "metadata": {},
   "outputs": [
    {
     "name": "stdout",
     "output_type": "stream",
     "text": [
      "(57561, 77040)\n"
     ]
    }
   ],
   "source": [
    "ucm1 = dr.getUCM_csr(artists=True, albums=False)\n",
    "ucm1.data = np.ones(len(ucm1.data))\n",
    "ucm2 = dr.getUCM_csr(artists=True, albums=False)\n",
    "print ucm1.shape"
   ]
  },
  {
   "cell_type": "code",
   "execution_count": 15,
   "metadata": {},
   "outputs": [],
   "source": [
    "a = ucm1.sum(axis=1)\n",
    "b = ucm2.sum(axis=1)"
   ]
  },
  {
   "cell_type": "code",
   "execution_count": 53,
   "metadata": {},
   "outputs": [
    {
     "name": "stdout",
     "output_type": "stream",
     "text": [
      "374\n"
     ]
    }
   ],
   "source": [
    "count = 0\n",
    "p_target = []\n",
    "for i in range(len(a)):\n",
    "    if a[i]<=1 and b[i]>=5:\n",
    "        if i in dr.target_playlists:\n",
    "            p_target.append(i)\n",
    "            count +=1\n",
    "print count"
   ]
  },
  {
   "cell_type": "code",
   "execution_count": 37,
   "metadata": {},
   "outputs": [
    {
     "name": "stdout",
     "output_type": "stream",
     "text": [
      "(57561, 77040)\n"
     ]
    }
   ],
   "source": [
    "ucm3 = dr.getUCM_csr(artists=False, albums=True)\n",
    "ucm3.data = np.ones(len(ucm3.data))\n",
    "ucm4 = dr.getUCM_csr(artists=False, albums=True)\n",
    "print ucm3.shape"
   ]
  },
  {
   "cell_type": "code",
   "execution_count": 38,
   "metadata": {
    "collapsed": true
   },
   "outputs": [],
   "source": [
    "c = ucm3.sum(axis=1)\n",
    "d = ucm4.sum(axis=1)"
   ]
  },
  {
   "cell_type": "code",
   "execution_count": 43,
   "metadata": {},
   "outputs": [
    {
     "name": "stdout",
     "output_type": "stream",
     "text": [
      "15\n"
     ]
    }
   ],
   "source": [
    "count = 0\n",
    "for i in range(len(c)):\n",
    "    if c[i]<=1 and d[i]>=5:\n",
    "        if i in dr.target_playlists:\n",
    "            count +=1\n",
    "print count"
   ]
  },
  {
   "cell_type": "code",
   "execution_count": null,
   "metadata": {
    "collapsed": true
   },
   "outputs": [],
   "source": []
  }
 ],
 "metadata": {
  "kernelspec": {
   "display_name": "Python 2",
   "language": "python",
   "name": "python2"
  },
  "language_info": {
   "codemirror_mode": {
    "name": "ipython",
    "version": 2
   },
   "file_extension": ".py",
   "mimetype": "text/x-python",
   "name": "python",
   "nbconvert_exporter": "python",
   "pygments_lexer": "ipython2",
   "version": "2.7.13"
  }
 },
 "nbformat": 4,
 "nbformat_minor": 2
}
