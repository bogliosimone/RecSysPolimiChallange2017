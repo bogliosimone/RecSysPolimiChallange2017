{
 "cells": [
  {
   "cell_type": "code",
   "execution_count": 1,
   "metadata": {},
   "outputs": [
    {
     "name": "stdout",
     "output_type": "stream",
     "text": [
      "Date Reader Challange Polimi 2017\n",
      "Loading data from ./DumpData/DataReaderTrainTestDump\n",
      "Dataset train-test loaded\n"
     ]
    }
   ],
   "source": [
    "from DataReader import DataReaderChallangePolimi2017\n",
    "import implicit\n",
    "from CB_asy import CB_asymmetric_cosine\n",
    "from CF_IB_asy import CF_IB_asymmetric_cosine\n",
    "from CF_UB_asy import CF_UB_asymmetric_cosine\n",
    "from implicit.nearest_neighbours import (BM25Recommender, CosineRecommender,TFIDFRecommender)\n",
    "from sklearn.preprocessing import normalize\n",
    "import numpy as np\n",
    "import copy\n",
    "\n",
    "evaluation = True\n",
    "rebuild = False\n",
    "dr = DataReaderChallangePolimi2017(evaluation=evaluation,rebuild=rebuild)\n",
    "\n",
    "urm = dr.getURM_csr()\n",
    "t_p = dr.target_playlists\n",
    "t_t = dr.target_tracks"
   ]
  },
  {
   "cell_type": "code",
   "execution_count": 2,
   "metadata": {},
   "outputs": [
    {
     "name": "stdout",
     "output_type": "stream",
     "text": [
      "User 0 of 10000\n",
      "User 2000 of 10000\n",
      "User 4000 of 10000\n",
      "User 6000 of 10000\n",
      "User 8000 of 10000\n",
      "Recommender performance is: MAP = 0.0786\n"
     ]
    }
   ],
   "source": [
    "# album and artist\n",
    "icm = dr.getICM_csr(albums=True,artists=True,tags=False)\n",
    "icm = normalize(icm,axis=0)\n",
    "model = BM25Recommender()\n",
    "model.fit(icm)\n",
    "s = model.similarity\n",
    "r_al_ar = urm*s.T #or s\n",
    "r_al_ar = normalize(r_al_ar, axis=0)\n",
    "if evaluation: score = dr.evaluateMAP(r_al_ar)"
   ]
  },
  {
   "cell_type": "code",
   "execution_count": 3,
   "metadata": {},
   "outputs": [
    {
     "name": "stdout",
     "output_type": "stream",
     "text": [
      "User 0 of 10000\n",
      "User 2000 of 10000\n",
      "User 4000 of 10000\n",
      "User 6000 of 10000\n",
      "User 8000 of 10000\n",
      "Recommender performance is: MAP = 0.0370\n"
     ]
    }
   ],
   "source": [
    "# tags\n",
    "icm = dr.getICM_csr(albums=False,artists=False,tags=True)\n",
    "icm = normalize(icm,axis=1)   # little improvment? or just overfitting?\n",
    "model = BM25Recommender()\n",
    "model.fit(icm)\n",
    "s = model.similarity\n",
    "r_tag = urm*s #######wuuuut no urm\n",
    "r_tag = normalize(r_tag, axis=0)\n",
    "if evaluation: score = dr.evaluateMAP(r_tag)"
   ]
  },
  {
   "cell_type": "code",
   "execution_count": 4,
   "metadata": {},
   "outputs": [
    {
     "name": "stdout",
     "output_type": "stream",
     "text": [
      "User 0 of 10000\n",
      "User 2000 of 10000\n",
      "User 4000 of 10000\n",
      "User 6000 of 10000\n",
      "User 8000 of 10000\n",
      "Recommender performance is: MAP = 0.0627\n"
     ]
    }
   ],
   "source": [
    "#cf user based\n",
    "urm2 = urm.copy()\n",
    "model = BM25Recommender()\n",
    "model.fit(urm2)\n",
    "s = model.similarity\n",
    "r_cfub = s * urm2\n",
    "r_cfub = normalize(r_cfub, axis=1) \n",
    "if evaluation: score = dr.evaluateMAP(r_cfub)"
   ]
  },
  {
   "cell_type": "code",
   "execution_count": 5,
   "metadata": {},
   "outputs": [
    {
     "name": "stdout",
     "output_type": "stream",
     "text": [
      "Start asymmetric cosine item-based model..\n",
      "Keep only k-similar item..\n",
      "Building sparse matrix..\n",
      "Start building rating matrix..\n",
      "Normalizing rating matrix..\n",
      "Model asymmetric cosine item-based done\n",
      "User 0 of 10000\n",
      "User 2000 of 10000\n",
      "User 4000 of 10000\n",
      "User 6000 of 10000\n",
      "User 8000 of 10000\n",
      "Recommender performance is: MAP = 0.0721\n"
     ]
    }
   ],
   "source": [
    "#collaborative filtering item based\n",
    "m_cf_ib = CF_IB_asymmetric_cosine(urm, k=200, alpha=0.30, q=1, m=0)\n",
    "s = m_cf_ib.s\n",
    "r_cfib = urm*s\n",
    "\n",
    "if evaluation: score = dr.evaluateMAP(r_cfib)"
   ]
  },
  {
   "cell_type": "code",
   "execution_count": 6,
   "metadata": {
    "collapsed": true
   },
   "outputs": [],
   "source": [
    "# reduce matrix\n",
    "r_cfib_asy = normalize(r_cfib,axis=1) #4.75\n",
    "r_cfib_less = normalize(r_cfib,axis=0)#2.75 #######axis 0 better in sum\n",
    "\n",
    "r_al_ar = dr.reduceRM(r_al_ar) \n",
    "r_tag = dr.reduceRM(r_tag)\n",
    "r_cfib = dr.reduceRM(r_cfib) \n",
    "r_cfub = dr.reduceRM(r_cfub)\n"
   ]
  },
  {
   "cell_type": "code",
   "execution_count": 83,
   "metadata": {},
   "outputs": [
    {
     "name": "stdout",
     "output_type": "stream",
     "text": [
      "User 0 of 10000\n",
      "User 2000 of 10000\n",
      "User 4000 of 10000\n",
      "User 6000 of 10000\n",
      "User 8000 of 10000\n",
      "Recommender performance is: MAP = 0.0986\n"
     ]
    }
   ],
   "source": [
    "r_tot = r_al_ar + 0.3 * r_tag + 2.75 * r_cfib_less\n",
    "if evaluation: score = dr.evaluateMAP(r_tot) #2.75"
   ]
  },
  {
   "cell_type": "code",
   "execution_count": 84,
   "metadata": {},
   "outputs": [
    {
     "name": "stdout",
     "output_type": "stream",
     "text": [
      "User 0 of 10000\n",
      "User 2000 of 10000\n",
      "User 4000 of 10000\n",
      "User 6000 of 10000\n",
      "User 8000 of 10000\n",
      "Recommender performance is: MAP = 0.1018\n"
     ]
    }
   ],
   "source": [
    "r_tot2 = r_tot + 1.3 * r_cfub\n",
    "if evaluation: score = dr.evaluateMAP(r_tot2) "
   ]
  },
  {
   "cell_type": "code",
   "execution_count": 85,
   "metadata": {},
   "outputs": [
    {
     "name": "stdout",
     "output_type": "stream",
     "text": [
      "User 0 of 10000\n",
      "User 2000 of 10000\n",
      "User 4000 of 10000\n",
      "User 6000 of 10000\n",
      "User 8000 of 10000\n",
      "Recommender performance is: MAP = 0.0637\n"
     ]
    }
   ],
   "source": [
    "r_bpr = dr.reduceRM(urm * dr.load_sparse_csr(\"./DumpData/sim_bpr_10e_100k2.npz\"))\n",
    "\n",
    "if evaluation: score = dr.evaluateMAP(r_bpr)"
   ]
  },
  {
   "cell_type": "code",
   "execution_count": 86,
   "metadata": {},
   "outputs": [
    {
     "name": "stdout",
     "output_type": "stream",
     "text": [
      "User 0 of 10000\n",
      "User 2000 of 10000\n",
      "User 4000 of 10000\n",
      "User 6000 of 10000\n",
      "User 8000 of 10000\n",
      "Recommender performance is: MAP = 0.1032\n"
     ]
    }
   ],
   "source": [
    "r_tot3 = r_tot2 + 14*r_bpr\n",
    "\n",
    "if evaluation: score = dr.evaluateMAP(r_tot3)"
   ]
  },
  {
   "cell_type": "code",
   "execution_count": 87,
   "metadata": {},
   "outputs": [
    {
     "name": "stdout",
     "output_type": "stream",
     "text": [
      "User 0 of 10000\n",
      "User 2000 of 10000\n",
      "User 4000 of 10000\n",
      "User 6000 of 10000\n",
      "User 8000 of 10000\n",
      "Recommender performance is: MAP = 0.1035\n",
      "0.103478611111\n"
     ]
    }
   ],
   "source": [
    "r_tot4 =r_tot3 + 0.45*r_cfib_asy\n",
    "\n",
    "if evaluation: score = dr.evaluateMAP(r_tot4) #0.35 or 0.6\n",
    "print score"
   ]
  },
  {
   "cell_type": "code",
   "execution_count": 89,
   "metadata": {},
   "outputs": [
    {
     "name": "stdout",
     "output_type": "stream",
     "text": [
      "User 0 of 10000\n",
      "User 2000 of 10000\n",
      "User 4000 of 10000\n",
      "User 6000 of 10000\n",
      "User 8000 of 10000\n",
      "Recommendations done\n"
     ]
    }
   ],
   "source": [
    "rec = dr.getAllRecommendations(r_tot4)\n",
    "rec1 = dr.getAllRecommendations(r_al_ar + 0.3* r_tag)\n",
    "rec2 = dr.getAllRecommendations(r_cfib_asy)"
   ]
  },
  {
   "cell_type": "code",
   "execution_count": 107,
   "metadata": {},
   "outputs": [],
   "source": [
    "rec = dr.getAllRecommendations(r_tot4)\n",
    "rec1 = dr.getAllRecommendations(r_al_ar + 0.3* r_tag)\n",
    "rec2 = dr.getAllRecommendations(r_cfib_asy)\n",
    "\n",
    "\n",
    "l1=pickle.load(open( \"./DumpData/top_playlists_cb_2pass\", \"rb\" ))\n",
    "l2=pickle.load(open( \"./DumpData/top_playlists_cf_ib_2pass\", \"rb\" ))\n",
    "\n",
    "\n",
    "\n",
    "count = 0 \n",
    "p_cb = {}\n",
    "\n",
    "th = 0.0\n",
    "for row in rec1:\n",
    "    count = count +1\n",
    "    p_cb[row[0]] = row[1]\n",
    "\n",
    "count2 = 0 \n",
    "p_cf_ib = {}\n",
    "for row in rec2:\n",
    "    count2 = count2 +1\n",
    "    p_cf_ib[row[0]] = row[1]\n",
    "\n",
    "print \"cb: \" + str(count)\n",
    "print \"cf: \" + str(count2)\n",
    "\n",
    "\n",
    "\n",
    "rec_c = copy.deepcopy(rec)\n",
    "\n",
    "for row in rec_c:\n",
    "    p = row[0]\n",
    "    if p in l1:############\n",
    "        row[1] = p_cb[p]\n",
    "    if p in l2:############\n",
    "        row[1] = p_cf_ib[p]\n",
    "        \n"
   ]
  },
  {
   "cell_type": "code",
   "execution_count": 111,
   "metadata": {},
   "outputs": [
    {
     "name": "stdout",
     "output_type": "stream",
     "text": [
      "User 0 of 10000\n",
      "User 2000 of 10000\n",
      "User 4000 of 10000\n",
      "User 6000 of 10000\n",
      "User 8000 of 10000\n",
      "Recommender performance is: MAP = 0.1066\n"
     ]
    },
    {
     "data": {
      "text/plain": [
       "0.10664686111111187"
      ]
     },
     "execution_count": 111,
     "metadata": {},
     "output_type": "execute_result"
    }
   ],
   "source": [
    "dr.evaluateMAPfromRecommendations(rec_c)"
   ]
  },
  {
   "cell_type": "code",
   "execution_count": null,
   "metadata": {
    "collapsed": true
   },
   "outputs": [],
   "source": []
  },
  {
   "cell_type": "code",
   "execution_count": null,
   "metadata": {
    "collapsed": true
   },
   "outputs": [],
   "source": []
  },
  {
   "cell_type": "code",
   "execution_count": null,
   "metadata": {
    "collapsed": true
   },
   "outputs": [],
   "source": []
  },
  {
   "cell_type": "code",
   "execution_count": null,
   "metadata": {
    "collapsed": true
   },
   "outputs": [],
   "source": []
  },
  {
   "cell_type": "code",
   "execution_count": 15,
   "metadata": {},
   "outputs": [
    {
     "name": "stdout",
     "output_type": "stream",
     "text": [
      "User 0 of 10000\n",
      "User 2000 of 10000\n",
      "User 4000 of 10000\n",
      "User 6000 of 10000\n",
      "User 8000 of 10000\n",
      "Recommendations done\n",
      "Creating submission file in: ./Submissions/ci_si_prova\n",
      "Done\n"
     ]
    }
   ],
   "source": [
    "recs = dr.getAllRecommendations(r_tot4)\n",
    "dr.buildSubmissionFile(recommendation=recs, file_name=\"ci_si_prova\")"
   ]
  },
  {
   "cell_type": "code",
   "execution_count": null,
   "metadata": {
    "collapsed": true
   },
   "outputs": [],
   "source": []
  },
  {
   "cell_type": "code",
   "execution_count": null,
   "metadata": {
    "collapsed": true
   },
   "outputs": [],
   "source": []
  },
  {
   "cell_type": "code",
   "execution_count": null,
   "metadata": {
    "collapsed": true
   },
   "outputs": [],
   "source": []
  },
  {
   "cell_type": "code",
   "execution_count": 70,
   "metadata": {},
   "outputs": [
    {
     "name": "stdout",
     "output_type": "stream",
     "text": [
      "User 0 of 10000\n",
      "User 2000 of 10000\n",
      "User 4000 of 10000\n",
      "User 6000 of 10000\n",
      "User 8000 of 10000\n",
      "Recommender performance is: MAP = 0.0652\n",
      "0.06515375\n"
     ]
    }
   ],
   "source": [
    "urm2 = urm.copy()\n",
    "model = BM25Recommender()\n",
    "model.fit(urm2.T)\n",
    "s = model.similarity\n",
    "r = urm2*s.T\n",
    "r = normalize(r, axis=0)\n",
    "if evaluation: score = dr.evaluateMAP(r)\n",
    "print (score)"
   ]
  },
  {
   "cell_type": "code",
   "execution_count": 357,
   "metadata": {},
   "outputs": [
    {
     "name": "stdout",
     "output_type": "stream",
     "text": [
      "User 0 of 10000\n",
      "User 2000 of 10000\n",
      "User 4000 of 10000\n",
      "User 6000 of 10000\n",
      "User 8000 of 10000\n",
      "Recommender performance is: MAP = 0.0737\n"
     ]
    },
    {
     "data": {
      "text/plain": [
       "0.073743805555555889"
      ]
     },
     "execution_count": 357,
     "metadata": {},
     "output_type": "execute_result"
    }
   ],
   "source": [
    "r_totcf = r_cfub + r\n",
    "r_totcf = normalize(r_totcf, axis=1) \n",
    "dr.evaluateMAP(r_totcf)"
   ]
  }
 ],
 "metadata": {
  "kernelspec": {
   "display_name": "Python 2",
   "language": "python",
   "name": "python2"
  },
  "language_info": {
   "codemirror_mode": {
    "name": "ipython",
    "version": 2
   },
   "file_extension": ".py",
   "mimetype": "text/x-python",
   "name": "python",
   "nbconvert_exporter": "python",
   "pygments_lexer": "ipython2",
   "version": "2.7.13"
  }
 },
 "nbformat": 4,
 "nbformat_minor": 2
}
