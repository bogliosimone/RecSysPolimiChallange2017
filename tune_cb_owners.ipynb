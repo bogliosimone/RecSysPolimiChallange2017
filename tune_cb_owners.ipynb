{
 "cells": [
  {
   "cell_type": "code",
   "execution_count": 2,
   "metadata": {},
   "outputs": [
    {
     "name": "stdout",
     "output_type": "stream",
     "text": [
      "Date Reader Challange Polimi 2017\n",
      "Loading data from ./DumpData/DataReaderTrainTestDump\n",
      "Dataset train-test loaded\n"
     ]
    }
   ],
   "source": [
    "from DataReader import DataReaderChallangePolimi2017\n",
    "import implicit\n",
    "from CB_asy import CB_asymmetric_cosine\n",
    "from CF_IB_asy import CF_IB_asymmetric_cosine\n",
    "from CF_UB_asy import CF_UB_asymmetric_cosine\n",
    "from implicit.nearest_neighbours import (BM25Recommender, CosineRecommender,TFIDFRecommender)\n",
    "from sklearn.preprocessing import normalize\n",
    "import numpy as np\n",
    "import scipy.sparse as sp\n",
    "import pickle\n",
    "\n",
    "evaluation = True\n",
    "rebuild = False\n",
    "dr = DataReaderChallangePolimi2017(evaluation=evaluation,rebuild=rebuild)\n",
    "\n",
    "urm = dr.getURM_csr()\n",
    "t_p = dr.target_playlists\n",
    "t_t = dr.target_tracks\n",
    "if evaluation:\n",
    "    filesslim = \"./DumpData/sim_bpr_10e_100k2.npz\" # or \"./DumpData/sim_bpr_10e_100k.npz\"\n",
    "else:\n",
    "    filesslim = \"./DumpData/sim_bpr_10e_100k_fulltrain.npz\""
   ]
  },
  {
   "cell_type": "code",
   "execution_count": 3,
   "metadata": {},
   "outputs": [
    {
     "name": "stdout",
     "output_type": "stream",
     "text": [
      "0.0108685277778\n"
     ]
    }
   ],
   "source": [
    "#titles\n",
    "ucm_titles = dr.getTitlesUCM_csr()\n",
    "ucm = normalize(ucm_titles,axis=0)\n",
    "model = BM25Recommender(K=100)\n",
    "model.fit(ucm)\n",
    "s = model.similarity\n",
    "r_t = s.T*urm\n",
    "r_t = normalize(r_t, axis=1)\n",
    "if evaluation: print dr.evaluateMAP(r_t,verbose=False)\n",
    "r_t = dr.reduceRM(r_t)"
   ]
  },
  {
   "cell_type": "code",
   "execution_count": 12,
   "metadata": {},
   "outputs": [
    {
     "name": "stdout",
     "output_type": "stream",
     "text": [
      "0.0225329166667\n"
     ]
    }
   ],
   "source": [
    "#owners\n",
    "ucm_owners = dr.getOwnersUCM_csr()\n",
    "ucm = normalize(ucm_owners,axis=0)\n",
    "model = BM25Recommender(K=110)\n",
    "model.fit(ucm)\n",
    "s = model.similarity\n",
    "r_o = s.T*urm\n",
    "r_o = normalize(r_o, axis=0)\n",
    "if evaluation: print dr.evaluateMAP(r_o,verbose=False)\n",
    "r_o = dr.reduceRM(r_o)"
   ]
  },
  {
   "cell_type": "code",
   "execution_count": null,
   "metadata": {
    "collapsed": true
   },
   "outputs": [],
   "source": []
  },
  {
   "cell_type": "code",
   "execution_count": null,
   "metadata": {
    "collapsed": true
   },
   "outputs": [],
   "source": []
  },
  {
   "cell_type": "code",
   "execution_count": null,
   "metadata": {
    "collapsed": true
   },
   "outputs": [],
   "source": []
  },
  {
   "cell_type": "code",
   "execution_count": null,
   "metadata": {
    "collapsed": true
   },
   "outputs": [],
   "source": [
    "########## tuning ###########"
   ]
  },
  {
   "cell_type": "code",
   "execution_count": 7,
   "metadata": {
    "collapsed": true
   },
   "outputs": [],
   "source": [
    "# owners\n",
    "def cb_owners(urm,ucm,k):\n",
    "    ucm = normalize(ucm,axis=0)\n",
    "    model = BM25Recommender(K=k)\n",
    "    model.fit(ucm)\n",
    "    s = model.similarity\n",
    "    r_al = s.T*urm\n",
    "    r_al = normalize(r_al, axis=0)\n",
    "    return dr.evaluateMAP(r_al,verbose=False)"
   ]
  },
  {
   "cell_type": "code",
   "execution_count": null,
   "metadata": {
    "collapsed": true
   },
   "outputs": [],
   "source": [
    "#tune owners\n",
    "urm = dr.getURM_csr()\n",
    "ucm = dr.getOwnersUCM_csr()\n",
    "\n",
    "for i in range(100,120,1):\n",
    "    score= cb_owners(urm=urm,ucm=ucm,k=i)\n",
    "    print (\"k = {:3d} \\t\\tmap = {:1.5f}\").format(i,score)"
   ]
  }
 ],
 "metadata": {
  "kernelspec": {
   "display_name": "Python 2",
   "language": "python",
   "name": "python2"
  },
  "language_info": {
   "codemirror_mode": {
    "name": "ipython",
    "version": 2
   },
   "file_extension": ".py",
   "mimetype": "text/x-python",
   "name": "python",
   "nbconvert_exporter": "python",
   "pygments_lexer": "ipython2",
   "version": "2.7.13"
  }
 },
 "nbformat": 4,
 "nbformat_minor": 2
}
