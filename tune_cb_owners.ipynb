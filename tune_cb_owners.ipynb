{
 "cells": [
  {
   "cell_type": "code",
   "execution_count": 1,
   "metadata": {},
   "outputs": [
    {
     "name": "stdout",
     "output_type": "stream",
     "text": [
      "Date Reader Challange Polimi 2017\n",
      "Loading data from ./DumpData/DataReaderTrainTestDump\n",
      "Dataset train-test loaded\n"
     ]
    }
   ],
   "source": [
    "from DataReader import DataReaderChallangePolimi2017\n",
    "import implicit\n",
    "from CB_asy import CB_asymmetric_cosine\n",
    "from CF_IB_asy import CF_IB_asymmetric_cosine\n",
    "from CF_UB_asy import CF_UB_asymmetric_cosine\n",
    "from implicit.nearest_neighbours import (BM25Recommender, CosineRecommender,TFIDFRecommender)\n",
    "from sklearn.preprocessing import normalize\n",
    "import numpy as np\n",
    "import scipy.sparse as sp\n",
    "import pickle\n",
    "\n",
    "evaluation = True\n",
    "rebuild = False\n",
    "dr = DataReaderChallangePolimi2017(evaluation=evaluation,rebuild=rebuild)\n",
    "\n",
    "urm = dr.getURM_csr()\n",
    "t_p = dr.target_playlists\n",
    "t_t = dr.target_tracks\n",
    "if evaluation:\n",
    "    filesslim = \"./DumpData/sim_bpr_10e_100k2.npz\" # or \"./DumpData/sim_bpr_10e_100k.npz\"\n",
    "else:\n",
    "    filesslim = \"./DumpData/sim_bpr_10e_100k_fulltrain.npz\""
   ]
  },
  {
   "cell_type": "code",
   "execution_count": 3,
   "metadata": {},
   "outputs": [
    {
     "name": "stdout",
     "output_type": "stream",
     "text": [
      "0.0108685277778\n"
     ]
    }
   ],
   "source": [
    "#titles\n",
    "ucm_titles = dr.getTitlesUCM_csr()\n",
    "ucm = normalize(ucm_titles,axis=0)\n",
    "model = BM25Recommender(K=100)\n",
    "model.fit(ucm)\n",
    "s = model.similarity\n",
    "r_t = s.T*urm\n",
    "r_t = normalize(r_t, axis=1)\n",
    "if evaluation: print dr.evaluateMAP(r_t,verbose=False)\n",
    "r_t = dr.reduceRM(r_t)"
   ]
  },
  {
   "cell_type": "code",
   "execution_count": 9,
   "metadata": {},
   "outputs": [
    {
     "name": "stdout",
     "output_type": "stream",
     "text": [
      "0.0226321388889\n"
     ]
    }
   ],
   "source": [
    "#owners\n",
    "ucm = dr.getOwnersUCM_csr()\n",
    "ucm = normalize(ucm,axis=0)\n",
    "model = BM25Recommender(K=65)#110\n",
    "model.fit(ucm)\n",
    "s = model.similarity\n",
    "r_o = s*urm\n",
    "r_o = normalize(r_o, axis=0)\n",
    "if evaluation: print dr.evaluateMAP(r_o,verbose=False)\n",
    "r_o = dr.reduceRM(r_o)"
   ]
  },
  {
   "cell_type": "code",
   "execution_count": null,
   "metadata": {
    "collapsed": true
   },
   "outputs": [],
   "source": []
  },
  {
   "cell_type": "code",
   "execution_count": null,
   "metadata": {
    "collapsed": true
   },
   "outputs": [],
   "source": []
  },
  {
   "cell_type": "code",
   "execution_count": null,
   "metadata": {
    "collapsed": true
   },
   "outputs": [],
   "source": []
  },
  {
   "cell_type": "code",
   "execution_count": null,
   "metadata": {
    "collapsed": true
   },
   "outputs": [],
   "source": [
    "########## tuning ###########"
   ]
  },
  {
   "cell_type": "code",
   "execution_count": 4,
   "metadata": {
    "collapsed": true
   },
   "outputs": [],
   "source": [
    "# owners\n",
    "def cb_owners(urm,ucm,k):\n",
    "    ucm = normalize(ucm,axis=0)\n",
    "    model = BM25Recommender(K=k)#110\n",
    "    model.fit(ucm)\n",
    "    s = model.similarity\n",
    "    r_o = s*urm\n",
    "    r_o = normalize(r_o, axis=0)\n",
    "    r_o = dr.reduceRM(r_o)\n",
    "    return dr.evaluateMAP(r_o,verbose=False)"
   ]
  },
  {
   "cell_type": "code",
   "execution_count": 6,
   "metadata": {},
   "outputs": [
    {
     "name": "stdout",
     "output_type": "stream",
     "text": [
      "k =  60 \t\tmap = 0.02248\n",
      "k =  61 \t\tmap = 0.02253\n",
      "k =  62 \t\tmap = 0.02252\n",
      "k =  63 \t\tmap = 0.02264\n",
      "k =  64 \t\tmap = 0.02254\n",
      "k =  65 \t\tmap = 0.02263\n",
      "k =  66 \t\tmap = 0.02259\n",
      "k =  67 \t\tmap = 0.02261\n",
      "k =  68 \t\tmap = 0.02257\n",
      "k =  69 \t\tmap = 0.02250\n",
      "k =  70 \t\tmap = 0.02263\n",
      "k =  71 \t\tmap = 0.02248\n",
      "k =  72 \t\tmap = 0.02248\n",
      "k =  73 \t\tmap = 0.02253\n",
      "k =  74 \t\tmap = 0.02254\n"
     ]
    }
   ],
   "source": [
    "#tune owners\n",
    "urm = dr.getURM_csr()\n",
    "ucm = dr.getOwnersUCM_csr()\n",
    "\n",
    "for i in range(60,75,1):\n",
    "    score= cb_owners(urm=urm,ucm=ucm,k=i)\n",
    "    print (\"k = {:3d} \\t\\tmap = {:1.5f}\").format(i,score)"
   ]
  },
  {
   "cell_type": "code",
   "execution_count": null,
   "metadata": {
    "collapsed": true
   },
   "outputs": [],
   "source": []
  }
 ],
 "metadata": {
  "kernelspec": {
   "display_name": "Python 2",
   "language": "python",
   "name": "python2"
  },
  "language_info": {
   "codemirror_mode": {
    "name": "ipython",
    "version": 2
   },
   "file_extension": ".py",
   "mimetype": "text/x-python",
   "name": "python",
   "nbconvert_exporter": "python",
   "pygments_lexer": "ipython2",
   "version": "2.7.13"
  }
 },
 "nbformat": 4,
 "nbformat_minor": 2
}
