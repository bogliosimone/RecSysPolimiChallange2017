{
 "cells": [
  {
   "cell_type": "code",
   "execution_count": 1,
   "metadata": {},
   "outputs": [
    {
     "name": "stdout",
     "output_type": "stream",
     "text": [
      "Date Reader Challange Polimi 2017\n",
      "Loading data from ./DumpData/DataReaderTrainTestDump\n",
      "Dataset train-test loaded\n"
     ]
    }
   ],
   "source": [
    "from DataReader import DataReaderChallangePolimi2017\n",
    "import implicit\n",
    "from CB_asy import CB_asymmetric_cosine\n",
    "from CF_IB_asy import CF_IB_asymmetric_cosine\n",
    "from CF_UB_asy import CF_UB_asymmetric_cosine\n",
    "from implicit.nearest_neighbours import all_pairs_knn\n",
    "from sklearn.preprocessing import normalize\n",
    "from sklearn.utils.sparsefuncs import (inplace_row_scale,inplace_column_scale)\n",
    "import numpy as np\n",
    "import scipy.sparse as sp\n",
    "import pickle\n",
    "\n",
    "evaluation = True\n",
    "rebuild = False\n",
    "dr = DataReaderChallangePolimi2017(evaluation=evaluation,rebuild=rebuild)\n",
    "\n",
    "urm = dr.getURM_csr()\n",
    "t_p = dr.target_playlists\n",
    "t_t = dr.target_tracks    "
   ]
  },
  {
   "cell_type": "code",
   "execution_count": 10,
   "metadata": {},
   "outputs": [
    {
     "name": "stdout",
     "output_type": "stream",
     "text": [
      "0\n",
      "25000\n",
      "50000\n",
      "75000\n",
      "0.0712221111111\n"
     ]
    }
   ],
   "source": [
    "#track-album\n",
    "icm = dr.getICM_csr(albums=True,artists=False,tags=False)\n",
    "icm = dr.bm25_row(icm)\n",
    "s = dr.knn_slow1(icm,k=55)\n",
    "s.setdiag(0)\n",
    "r_al = urm*s.T\n",
    "r_al = normalize(r_al, axis=0)\n",
    "if evaluation: print dr.evaluateMAP(r_al,verbose=False)\n",
    "r_al = dr.reduceRM(r_al)"
   ]
  },
  {
   "cell_type": "code",
   "execution_count": 9,
   "metadata": {},
   "outputs": [
    {
     "name": "stdout",
     "output_type": "stream",
     "text": [
      "0\n",
      "25000\n",
      "50000\n",
      "75000\n",
      "0.0705229722222\n"
     ]
    }
   ],
   "source": [
    "#track-artist\n",
    "icm = dr.getICM_csr(albums=False,artists=True,tags=False)\n",
    "icm = dr.bm25_row(icm)\n",
    "s = dr.knn_slow1(icm,k=55)\n",
    "s.setdiag(0)\n",
    "r_ar = urm*s.T\n",
    "r_ar = normalize(r_ar, axis=0)\n",
    "if evaluation: print dr.evaluateMAP(r_ar,verbose=False)\n",
    "r_ar = dr.reduceRM(r_ar)"
   ]
  },
  {
   "cell_type": "code",
   "execution_count": 22,
   "metadata": {},
   "outputs": [
    {
     "name": "stdout",
     "output_type": "stream",
     "text": [
      "0\n",
      "25000\n",
      "50000\n",
      "75000\n",
      "0.0793113888889\n"
     ]
    }
   ],
   "source": [
    "#album and artist\n",
    "icm = dr.getICM_csr(albums=True,artists=True,tags=False)\n",
    "icm = normalize(icm,axis=0)\n",
    "icm = dr.bm25_row(icm)\n",
    "s = dr.knn_slow1(icm,k=55)\n",
    "r_al_ar = urm*s.T\n",
    "r_al_ar = normalize(r_al_ar, axis=0)\n",
    "if evaluation: print dr.evaluateMAP(r_al_ar,verbose=False)\n",
    "r_al_ar = dr.reduceRM(r_al_ar)"
   ]
  },
  {
   "cell_type": "code",
   "execution_count": 23,
   "metadata": {},
   "outputs": [
    {
     "name": "stdout",
     "output_type": "stream",
     "text": [
      "0\n",
      "10000\n",
      "20000\n",
      "30000\n",
      "40000\n",
      "50000\n",
      "60000\n",
      "70000\n",
      "80000\n",
      "90000\n",
      "0.0390162777778\n"
     ]
    }
   ],
   "source": [
    "#tags\n",
    "icm = dr.getICM_csr(albums=False,artists=False,tags=True)\n",
    "icm = dr.bm25_row(icm)\n",
    "s = dr.knn_slow2(icm,k=45)\n",
    "s.setdiag(0)\n",
    "r_tag = urm*s.T\n",
    "r_tag = normalize(r_tag, axis=0)\n",
    "if evaluation: print dr.evaluateMAP(r_tag, verbose = False)\n",
    "r_tag = dr.reduceRM(r_tag)"
   ]
  },
  {
   "cell_type": "code",
   "execution_count": 12,
   "metadata": {},
   "outputs": [
    {
     "name": "stdout",
     "output_type": "stream",
     "text": [
      "0\n",
      "25000\n",
      "50000\n",
      "0.0660521666667\n"
     ]
    }
   ],
   "source": [
    "#cf ub normal\n",
    "urm_c = urm.copy()\n",
    "urm_c = dr.bm25_row(urm_c)\n",
    "s = dr.knn_slow1(urm_c,k=60)\n",
    "r_cfub = s.T * urm\n",
    "r_cfub = normalize(r_cfub, axis=1)\n",
    "if evaluation: print dr.evaluateMAP(r_cfub, verbose = False)\n",
    "r_cfub = dr.reduceRM(r_cfub)"
   ]
  },
  {
   "cell_type": "code",
   "execution_count": 13,
   "metadata": {},
   "outputs": [
    {
     "name": "stdout",
     "output_type": "stream",
     "text": [
      "0\n",
      "25000\n",
      "50000\n",
      "75000\n",
      "0.0729281388889\n"
     ]
    }
   ],
   "source": [
    "#cf ib normal\n",
    "urm_c = urm.copy()\n",
    "urm_c = dr.bm25_col(urm_c)\n",
    "s = dr.knn_slow1(urm_c.T,k=100)\n",
    "r_cfib = urm * s.T\n",
    "r_cfib = normalize(r_cfib, axis=0)\n",
    "if evaluation: print dr.evaluateMAP(r_cfib, verbose = False)\n",
    "r_cfib = dr.reduceRM(r_cfib)"
   ]
  },
  {
   "cell_type": "code",
   "execution_count": 15,
   "metadata": {},
   "outputs": [
    {
     "name": "stdout",
     "output_type": "stream",
     "text": [
      "0\n",
      "25000\n",
      "50000\n",
      "0.0224808888889\n"
     ]
    }
   ],
   "source": [
    "#owners\n",
    "ucm = dr.getOwnersUCM_csr()\n",
    "ucm = normalize(ucm,axis=0)\n",
    "ucm = dr.bm25_row(ucm)\n",
    "s = dr.knn_slow1(ucm,k=65)\n",
    "r_o = s*urm\n",
    "r_o = normalize(r_o, axis=0)\n",
    "if evaluation: print dr.evaluateMAP(r_o,verbose=False)\n",
    "r_o = dr.reduceRM(r_o)"
   ]
  },
  {
   "cell_type": "code",
   "execution_count": 44,
   "metadata": {
    "collapsed": true
   },
   "outputs": [],
   "source": [
    "############################### Formula best score"
   ]
  },
  {
   "cell_type": "code",
   "execution_count": 24,
   "metadata": {},
   "outputs": [
    {
     "name": "stdout",
     "output_type": "stream",
     "text": [
      "0.109143722222\n"
     ]
    }
   ],
   "source": [
    "r_tot = 2.25 * r_cfib + 1.82 * r_cfub + 1.02*r_al_ar + 0.19* r_tag + 0.75 * r_o + 0.15*r_al + 0.12*r_ar\n",
    "if evaluation: print dr.evaluateMAP(r_tot,verbose = False)"
   ]
  },
  {
   "cell_type": "code",
   "execution_count": null,
   "metadata": {
    "collapsed": true
   },
   "outputs": [],
   "source": [
    "############################## Build submission file"
   ]
  },
  {
   "cell_type": "code",
   "execution_count": 16,
   "metadata": {},
   "outputs": [
    {
     "name": "stdout",
     "output_type": "stream",
     "text": [
      "User 0 of 10000\n",
      "User 2500 of 10000\n",
      "User 5000 of 10000\n",
      "User 7500 of 10000\n",
      "Recommendations done\n",
      "Creating submission file in: ./Submissions/a natale puoi boostarlo anche tuuuu 18\n",
      "Done\n"
     ]
    }
   ],
   "source": [
    "rec = dr.getAllRecommendations(r_tot)\n",
    "if not evaluation: dr.buildSubmissionFile(recommendation=rec, file_name=\"a natale puoi boostarlo anche tuuuu 18\") ####<------name"
   ]
  },
  {
   "cell_type": "code",
   "execution_count": null,
   "metadata": {
    "collapsed": true
   },
   "outputs": [],
   "source": [
    "############################# other things not used in the solution"
   ]
  },
  {
   "cell_type": "code",
   "execution_count": null,
   "metadata": {
    "collapsed": true
   },
   "outputs": [],
   "source": [
    "#tuning\n",
    "for p in np.arange(0.5,1.5,0.02):\n",
    "    r_totx = 1.809 * 1.250 * r_cfib + 1.820 * r_cfub + 1*r_al_ar + 0.19* r_tag + p * r_o + 0.150*r_al + 0.119*r_ar\n",
    "    score = dr.evaluateMAP(r_totx,verbose = False)\n",
    "    print (\"k = {:1.2f} \\t\\tmap = {:1.5f}\").format(p,score)"
   ]
  },
  {
   "cell_type": "code",
   "execution_count": 10,
   "metadata": {
    "collapsed": true
   },
   "outputs": [],
   "source": [
    "#sslim\n",
    "if evaluation:\n",
    "    filesslim = \"./DumpData/sim_bpr_10e_100k2.npz\" # or \"./DumpData/sim_bpr_10e_100k.npz\"\n",
    "else:\n",
    "    filesslim = \"./DumpData/sim_bpr_10e_100k_fulltrain.npz\"\n",
    "r_bpr = dr.reduceRM(urm * dr.load_sparse_csr(filesslim))\n",
    "if evaluation: print dr.evaluateMAP(r_bpr, verbose=False)"
   ]
  },
  {
   "cell_type": "code",
   "execution_count": 236,
   "metadata": {},
   "outputs": [
    {
     "name": "stdout",
     "output_type": "stream",
     "text": [
      "0.0685035277778\n"
     ]
    }
   ],
   "source": [
    "#playtlist-album\n",
    "icm_al = dr.getUCM_csr(albums=True,artists=False)\n",
    "icm_al = dr.bm25_row(icm_al)\n",
    "s = all_pairs_knn(icm_al,K=100)\n",
    "s.setdiag(0)\n",
    "r_pal = s*urm\n",
    "r_pal = normalize(r_pal, axis=0)\n",
    "if evaluation: print dr.evaluateMAP(r_pal,verbose=False)\n",
    "r_pal = dr.reduceRM(r_pal)"
   ]
  },
  {
   "cell_type": "code",
   "execution_count": 235,
   "metadata": {},
   "outputs": [
    {
     "name": "stdout",
     "output_type": "stream",
     "text": [
      "0.0607006666667\n"
     ]
    }
   ],
   "source": [
    "#playlist-artist\n",
    "icm_ar = dr.getUCM_csr(albums=False,artists=True)\n",
    "icm_ar = dr.bm25_row(icm_ar)\n",
    "s = all_pairs_knn(icm_ar,K=100)\n",
    "r_par = s.T*urm\n",
    "r_par = normalize(r_par, axis=0)\n",
    "if evaluation: print dr.evaluateMAP(r_par,verbose=False)\n",
    "r_par = dr.reduceRM(r_par)"
   ]
  },
  {
   "cell_type": "code",
   "execution_count": 205,
   "metadata": {},
   "outputs": [
    {
     "name": "stdout",
     "output_type": "stream",
     "text": [
      "0.0713711944444\n"
     ]
    }
   ],
   "source": [
    "#cf ub plus\n",
    "urm_c = urm.copy()\n",
    "urm_c = dr.bm25_row(urm_c)\n",
    "urm_c2 = dr.bm25_row(urm_c)\n",
    "s = all_pairs_knn(urm_c2,K=60)\n",
    "r_cfubp = s.T * urm_c2\n",
    "r_cfubp = normalize(r_cfubp, axis=1)\n",
    "if evaluation: print dr.evaluateMAP(r_cfubp, verbose = False)\n",
    "r_cfubp = dr.reduceRM(r_cfubp)"
   ]
  },
  {
   "cell_type": "code",
   "execution_count": 196,
   "metadata": {},
   "outputs": [
    {
     "name": "stdout",
     "output_type": "stream",
     "text": [
      "0.0751395277778\n"
     ]
    }
   ],
   "source": [
    "#cf ib plus\n",
    "urm_c = urm.copy()\n",
    "urm_c = dr.bm25_col(urm_c)\n",
    "urm_c2 = dr.bm25_col(urm_c)\n",
    "s = all_pairs_knn(urm_c.T,K=100)\n",
    "#s.setdiag(0)\n",
    "r_cfibp = urm_c2 * s.T\n",
    "r_cfibp = normalize(r_cfibp, axis=0)\n",
    "if evaluation: print dr.evaluateMAP(r_cfibp, verbose = False)\n",
    "r_cfibp = dr.reduceRM(r_cfibp)"
   ]
  }
 ],
 "metadata": {
  "kernelspec": {
   "display_name": "Python 2",
   "language": "python",
   "name": "python2"
  },
  "language_info": {
   "codemirror_mode": {
    "name": "ipython",
    "version": 2
   },
   "file_extension": ".py",
   "mimetype": "text/x-python",
   "name": "python",
   "nbconvert_exporter": "python",
   "pygments_lexer": "ipython2",
   "version": "2.7.13"
  }
 },
 "nbformat": 4,
 "nbformat_minor": 2
}
