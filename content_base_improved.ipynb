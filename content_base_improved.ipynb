{
 "cells": [
  {
   "cell_type": "code",
   "execution_count": 1,
   "metadata": {},
   "outputs": [
    {
     "name": "stdout",
     "output_type": "stream",
     "text": [
      "Date Reader Challange Polimi 2017\n",
      "Loading data from ./DumpData/DataReaderTrainTestDump\n",
      "Dataset train-test loaded\n"
     ]
    }
   ],
   "source": [
    "from DataReader import DataReaderChallangePolimi2017\n",
    "import implicit\n",
    "from CB_asy import CB_asymmetric_cosine\n",
    "from CF_IB_asy import CF_IB_asymmetric_cosine\n",
    "from CF_UB_asy import CF_UB_asymmetric_cosine\n",
    "from implicit.nearest_neighbours import (BM25Recommender, CosineRecommender,TFIDFRecommender)\n",
    "from sklearn.preprocessing import normalize\n",
    "import numpy as np\n",
    "import pickle\n",
    "\n",
    "evaluation = True\n",
    "rebuild = False\n",
    "dr = DataReaderChallangePolimi2017(evaluation=evaluation,rebuild=rebuild)\n",
    "\n",
    "urm = dr.getURM_csr()\n",
    "t_p = dr.target_playlists\n",
    "t_t = dr.target_tracks"
   ]
  },
  {
   "cell_type": "code",
   "execution_count": 2,
   "metadata": {},
   "outputs": [
    {
     "name": "stdout",
     "output_type": "stream",
     "text": [
      "User 0 of 10000\n",
      "User 2500 of 10000\n",
      "User 5000 of 10000\n",
      "User 7500 of 10000\n",
      "Recommender performance is: MAP = 0.0786\n"
     ]
    }
   ],
   "source": [
    "# album and artist\n",
    "icm = dr.getICM_csr(albums=True,artists=True,tags=False)\n",
    "icm = normalize(icm,axis=0)\n",
    "model = BM25Recommender()\n",
    "model.fit(icm)\n",
    "s = model.similarity\n",
    "r_al_ar = urm*s.T #or s\n",
    "r_al_ar = normalize(r_al_ar, axis=0)\n",
    "if evaluation: score = dr.evaluateMAP(r_al_ar)"
   ]
  },
  {
   "cell_type": "code",
   "execution_count": 3,
   "metadata": {},
   "outputs": [
    {
     "name": "stdout",
     "output_type": "stream",
     "text": [
      "User 0 of 10000\n",
      "User 2500 of 10000\n",
      "User 5000 of 10000\n",
      "User 7500 of 10000\n",
      "Recommender performance is: MAP = 0.0370\n"
     ]
    }
   ],
   "source": [
    "# tags\n",
    "icm = dr.getICM_csr(albums=False,artists=False,tags=True)\n",
    "icm = normalize(icm,axis=1)   # little improvment? or just overfitting?\n",
    "model = BM25Recommender()\n",
    "model.fit(icm)\n",
    "s = model.similarity\n",
    "r_tag = urm*s #######wuuuut no urm\n",
    "r_tag = normalize(r_tag, axis=0)\n",
    "if evaluation: score = dr.evaluateMAP(r_tag)"
   ]
  },
  {
   "cell_type": "code",
   "execution_count": 4,
   "metadata": {},
   "outputs": [
    {
     "name": "stdout",
     "output_type": "stream",
     "text": [
      "User 0 of 10000\n",
      "User 2500 of 10000\n",
      "User 5000 of 10000\n",
      "User 7500 of 10000\n",
      "Recommender performance is: MAP = 0.0627\n"
     ]
    }
   ],
   "source": [
    "#cf user based\n",
    "urm2 = urm.copy()\n",
    "model = BM25Recommender()\n",
    "model.fit(urm2)\n",
    "s = model.similarity\n",
    "r_cfub = s * urm2\n",
    "r_cfub = normalize(r_cfub, axis=1) \n",
    "if evaluation: score = dr.evaluateMAP(r_cfub)"
   ]
  },
  {
   "cell_type": "code",
   "execution_count": 5,
   "metadata": {},
   "outputs": [
    {
     "name": "stdout",
     "output_type": "stream",
     "text": [
      "Start asymmetric cosine item-based model..\n",
      "Keep only k-similar item..\n",
      "Building sparse matrix..\n",
      "Start building rating matrix..\n",
      "Normalizing rating matrix..\n",
      "Model asymmetric cosine item-based done\n",
      "User 0 of 10000\n",
      "User 2500 of 10000\n",
      "User 5000 of 10000\n",
      "User 7500 of 10000\n",
      "Recommender performance is: MAP = 0.0721\n"
     ]
    }
   ],
   "source": [
    "#collaborative filtering item based\n",
    "m_cf_ib = CF_IB_asymmetric_cosine(urm, k=200, alpha=0.30, q=1, m=0)\n",
    "s = m_cf_ib.s\n",
    "r_cfib = urm*s\n",
    "\n",
    "if evaluation: score = dr.evaluateMAP(r_cfib)"
   ]
  },
  {
   "cell_type": "code",
   "execution_count": 7,
   "metadata": {
    "collapsed": true
   },
   "outputs": [],
   "source": [
    "# reduce matrix\n",
    "r_cfib_asy = normalize(r_cfib,axis=1) #4.75\n",
    "r_cfib_less = normalize(r_cfib,axis=0)#2.75 #######axis 0 better in sum\n",
    "\n",
    "r_al_ar = dr.reduceRM(r_al_ar) \n",
    "r_tag = dr.reduceRM(r_tag)\n",
    "r_cfib = dr.reduceRM(r_cfib) \n",
    "r_cfub = dr.reduceRM(r_cfub)\n"
   ]
  },
  {
   "cell_type": "code",
   "execution_count": 9,
   "metadata": {},
   "outputs": [
    {
     "name": "stdout",
     "output_type": "stream",
     "text": [
      "User 0 of 10000\n",
      "User 2500 of 10000\n",
      "User 5000 of 10000\n",
      "User 7500 of 10000\n",
      "Recommender performance is: MAP = 0.0989\n"
     ]
    }
   ],
   "source": [
    "r_tot = r_al_ar + 2.75 * r_cfib_less + 0.4 * r_tag\n",
    "if evaluation: score = dr.evaluateMAP(r_tot) #2.75"
   ]
  },
  {
   "cell_type": "code",
   "execution_count": 15,
   "metadata": {},
   "outputs": [
    {
     "name": "stdout",
     "output_type": "stream",
     "text": [
      "User 0 of 10000\n",
      "User 2500 of 10000\n",
      "User 5000 of 10000\n",
      "User 7500 of 10000\n",
      "Recommender performance is: MAP = 0.0992\n"
     ]
    }
   ],
   "source": [
    "r_tot2 = r_tot + 1.3 * r_cfub\n",
    "if evaluation: score = dr.evaluateMAP(r_tot2) "
   ]
  },
  {
   "cell_type": "code",
   "execution_count": 19,
   "metadata": {},
   "outputs": [
    {
     "name": "stdout",
     "output_type": "stream",
     "text": [
      "User 0 of 10000\n",
      "User 2500 of 10000\n",
      "User 5000 of 10000\n",
      "User 7500 of 10000\n",
      "Recommender performance is: MAP = 0.0637\n"
     ]
    }
   ],
   "source": [
    "r_bpr = dr.reduceRM(urm * dr.load_sparse_csr(\"./DumpData/sim_bpr_10e_100k2.npz\"))\n",
    "\n",
    "if evaluation: score = dr.evaluateMAP(r_bpr)"
   ]
  },
  {
   "cell_type": "code",
   "execution_count": 20,
   "metadata": {},
   "outputs": [
    {
     "name": "stdout",
     "output_type": "stream",
     "text": [
      "User 0 of 10000\n",
      "User 2500 of 10000\n",
      "User 5000 of 10000\n",
      "User 7500 of 10000\n",
      "Recommender performance is: MAP = 0.0990\n"
     ]
    }
   ],
   "source": [
    "r_tot3 = r_tot2 + 14*r_bpr\n",
    "\n",
    "if evaluation: score = dr.evaluateMAP(r_tot3)"
   ]
  },
  {
   "cell_type": "code",
   "execution_count": 21,
   "metadata": {},
   "outputs": [
    {
     "name": "stdout",
     "output_type": "stream",
     "text": [
      "User 0 of 10000\n",
      "User 2500 of 10000\n",
      "User 5000 of 10000\n",
      "User 7500 of 10000\n",
      "Recommender performance is: MAP = 0.0985\n"
     ]
    }
   ],
   "source": [
    "r_tot4 =r_tot3 + 0.35*r_cfib_asy\n",
    "\n",
    "if evaluation: score = dr.evaluateMAP(r_tot4)"
   ]
  },
  {
   "cell_type": "code",
   "execution_count": null,
   "metadata": {
    "collapsed": true
   },
   "outputs": [],
   "source": []
  },
  {
   "cell_type": "code",
   "execution_count": null,
   "metadata": {
    "collapsed": true
   },
   "outputs": [],
   "source": []
  },
  {
   "cell_type": "code",
   "execution_count": 14,
   "metadata": {},
   "outputs": [
    {
     "name": "stdout",
     "output_type": "stream",
     "text": [
      "Creating submission file in: ./Submissions/ci_si_prova_with_trick\n",
      "Done\n"
     ]
    }
   ],
   "source": [
    "\n",
    "dr.buildSubmissionFile(recommendation=rec, file_name=\"ci_si_prova\")"
   ]
  },
  {
   "cell_type": "code",
   "execution_count": null,
   "metadata": {
    "collapsed": true
   },
   "outputs": [],
   "source": []
  },
  {
   "cell_type": "code",
   "execution_count": null,
   "metadata": {
    "collapsed": true
   },
   "outputs": [],
   "source": []
  },
  {
   "cell_type": "code",
   "execution_count": null,
   "metadata": {
    "collapsed": true
   },
   "outputs": [],
   "source": []
  },
  {
   "cell_type": "code",
   "execution_count": 355,
   "metadata": {},
   "outputs": [
    {
     "name": "stdout",
     "output_type": "stream",
     "text": [
      "User 0 of 10000\n",
      "User 2000 of 10000\n",
      "User 4000 of 10000\n",
      "User 6000 of 10000\n",
      "User 8000 of 10000\n",
      "Recommender performance is: MAP = 0.0673\n",
      "0.0673044166667\n"
     ]
    }
   ],
   "source": [
    "urm2 = urm.copy()\n",
    "model = BM25Recommender()\n",
    "model.fit(urm2.T)\n",
    "s = model.similarity\n",
    "r = urm2*s.T\n",
    "r = normalize(r, axis=1)\n",
    "if evaluation: score = dr.evaluateMAP(r)\n",
    "print (score)"
   ]
  },
  {
   "cell_type": "code",
   "execution_count": 357,
   "metadata": {},
   "outputs": [
    {
     "name": "stdout",
     "output_type": "stream",
     "text": [
      "User 0 of 10000\n",
      "User 2000 of 10000\n",
      "User 4000 of 10000\n",
      "User 6000 of 10000\n",
      "User 8000 of 10000\n",
      "Recommender performance is: MAP = 0.0737\n"
     ]
    },
    {
     "data": {
      "text/plain": [
       "0.073743805555555889"
      ]
     },
     "execution_count": 357,
     "metadata": {},
     "output_type": "execute_result"
    }
   ],
   "source": [
    "r_totcf = r_cfub + r\n",
    "r_totcf = normalize(r_totcf, axis=1) \n",
    "dr.evaluateMAP(r_totcf)"
   ]
  },
  {
   "cell_type": "code",
   "execution_count": 148,
   "metadata": {
    "collapsed": true
   },
   "outputs": [],
   "source": [
    "def norm1(m):\n",
    "    return normalize(m,axis=0)\n",
    "def norm2(m):\n",
    "    return normalize(m,axis=1)"
   ]
  },
  {
   "cell_type": "code",
   "execution_count": null,
   "metadata": {
    "collapsed": true
   },
   "outputs": [],
   "source": []
  }
 ],
 "metadata": {
  "kernelspec": {
   "display_name": "Python 2",
   "language": "python",
   "name": "python2"
  },
  "language_info": {
   "codemirror_mode": {
    "name": "ipython",
    "version": 2
   },
   "file_extension": ".py",
   "mimetype": "text/x-python",
   "name": "python",
   "nbconvert_exporter": "python",
   "pygments_lexer": "ipython2",
   "version": "2.7.13"
  }
 },
 "nbformat": 4,
 "nbformat_minor": 2
}
