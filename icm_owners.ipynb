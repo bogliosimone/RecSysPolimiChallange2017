{
 "cells": [
  {
   "cell_type": "code",
   "execution_count": 1,
   "metadata": {},
   "outputs": [
    {
     "name": "stdout",
     "output_type": "stream",
     "text": [
      "Date Reader Challange Polimi 2017\n",
      "Loading data from ./DumpData/DataReaderTrainTestDump\n",
      "Dataset train-test loaded\n"
     ]
    }
   ],
   "source": [
    "from DataReader import DataReaderChallangePolimi2017\n",
    "import implicit\n",
    "from CB_asy import CB_asymmetric_cosine\n",
    "from CF_IB_asy import CF_IB_asymmetric_cosine\n",
    "from CF_UB_asy import CF_UB_asymmetric_cosine\n",
    "from implicit.nearest_neighbours import (BM25Recommender, CosineRecommender,TFIDFRecommender)\n",
    "from sklearn.preprocessing import normalize\n",
    "import numpy as np\n",
    "import scipy.sparse as sp\n",
    "import pickle\n",
    "\n",
    "evaluation = True\n",
    "rebuild = False\n",
    "dr = DataReaderChallangePolimi2017(evaluation=evaluation,rebuild=rebuild)\n",
    "\n",
    "urm = dr.getURM_csr()\n",
    "t_p = dr.target_playlists\n",
    "t_t = dr.target_tracks\n",
    "if evaluation:\n",
    "    filesslim = \"./DumpData/sim_bpr_10e_100k2.npz\" # or \"./DumpData/sim_bpr_10e_100k.npz\"\n",
    "else:\n",
    "    filesslim = \"./DumpData/sim_bpr_10e_100k_fulltrain.npz\""
   ]
  },
  {
   "cell_type": "code",
   "execution_count": 2,
   "metadata": {
    "collapsed": true
   },
   "outputs": [],
   "source": [
    "owners, n_owners = dr.getOwners()\n",
    "n_tracks = dr.n_tracks"
   ]
  },
  {
   "cell_type": "code",
   "execution_count": 3,
   "metadata": {
    "collapsed": true
   },
   "outputs": [],
   "source": [
    "train = dr.train.T\n",
    "d = {}\n",
    "for row in train:\n",
    "    p = row[0]\n",
    "    t = row[1]\n",
    "    if p in d:\n",
    "        d[p].append(t)\n",
    "    else:\n",
    "        d[p] = []\n",
    "        d[p].append(t)"
   ]
  },
  {
   "cell_type": "code",
   "execution_count": 4,
   "metadata": {
    "collapsed": true
   },
   "outputs": [],
   "source": [
    "xxx = []\n",
    "for row in owners.T:\n",
    "    o = row[1]\n",
    "    p = row[0]\n",
    "    if p not in d:\n",
    "        continue #we don't have this playlist in train\n",
    "    t_p = d[p]\n",
    "    for t in t_p:\n",
    "        xxx.append([o,t])\n",
    "xxx = np.array(xxx)"
   ]
  },
  {
   "cell_type": "code",
   "execution_count": 5,
   "metadata": {
    "collapsed": true
   },
   "outputs": [],
   "source": [
    "#build xxx matrix\n",
    "\n",
    "r,c,v = [],[],[]\n",
    "for row in xxx:\n",
    "    r.append(row[0])\n",
    "    c.append(row[1])\n",
    "    v.append(1)\n",
    "\n",
    "xcm = sp.coo_matrix((v, (r, c)), shape=(n_owners, n_tracks ),dtype=np.float).tocsr().T\n",
    "xcm.data = np.ones(len(xcm.data))"
   ]
  },
  {
   "cell_type": "code",
   "execution_count": 3,
   "metadata": {},
   "outputs": [
    {
     "name": "stdout",
     "output_type": "stream",
     "text": [
      "0.0504691944444\n"
     ]
    }
   ],
   "source": [
    "model = BM25Recommender(K=100)\n",
    "model.fit(a)\n",
    "s = model.similarity\n",
    "r_x = urm*s.T\n",
    "r_x = normalize(r_x, axis=1)\n",
    "if evaluation: print dr.evaluateMAP(r_x,verbose=False)\n",
    "r_x = dr.reduceRM(r_x)"
   ]
  },
  {
   "cell_type": "code",
   "execution_count": 2,
   "metadata": {},
   "outputs": [],
   "source": [
    "a = dr.getOwnersICM_csr(ones=True)"
   ]
  },
  {
   "cell_type": "code",
   "execution_count": null,
   "metadata": {
    "collapsed": true
   },
   "outputs": [],
   "source": []
  }
 ],
 "metadata": {
  "kernelspec": {
   "display_name": "Python 2",
   "language": "python",
   "name": "python2"
  },
  "language_info": {
   "codemirror_mode": {
    "name": "ipython",
    "version": 2
   },
   "file_extension": ".py",
   "mimetype": "text/x-python",
   "name": "python",
   "nbconvert_exporter": "python",
   "pygments_lexer": "ipython2",
   "version": "2.7.13"
  }
 },
 "nbformat": 4,
 "nbformat_minor": 2
}
