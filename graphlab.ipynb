{
 "cells": [
  {
   "cell_type": "code",
   "execution_count": 10,
   "metadata": {},
   "outputs": [],
   "source": [
    "import graphlab as gl\n",
    "import graphlab.aggregate as agg\n",
    "import numpy as np\n",
    "import scipy.sparse as sps"
   ]
  },
  {
   "cell_type": "code",
   "execution_count": 5,
   "metadata": {},
   "outputs": [
    {
     "name": "stdout",
     "output_type": "stream",
     "text": [
      "Date Reader Challange Polimi 2017\n",
      "Loading data from ./DumpData/DataReaderTrainTestDump\n",
      "Dataset train-test loaded\n"
     ]
    }
   ],
   "source": [
    "from DataReader import DataReaderChallangePolimi2017\n",
    "dr = DataReaderChallangePolimi2017(evaluation=True, rebuild=False)"
   ]
  },
  {
   "cell_type": "code",
   "execution_count": 25,
   "metadata": {
    "collapsed": true
   },
   "outputs": [],
   "source": [
    "knn = 150\n",
    "n_rec = 5\n",
    "\n",
    "train = dr.train\n",
    "test = dr.test"
   ]
  },
  {
   "cell_type": "code",
   "execution_count": 29,
   "metadata": {},
   "outputs": [
    {
     "name": "stdout",
     "output_type": "stream",
     "text": [
      "[ 8890 22426 54743 ..., 32763 32763 32763]\n",
      "[71058 19741 71298 ..., 87949 62773 70493]\n",
      "<bound method DataReaderChallangePolimi2017.getTargetPlaylists of <DataReader.DataReaderChallangePolimi2017 instance at 0x000000000E5B8508>>\n"
     ]
    }
   ],
   "source": [
    "print train[0]\n",
    "print train[1]"
   ]
  },
  {
   "cell_type": "code",
   "execution_count": 30,
   "metadata": {},
   "outputs": [],
   "source": [
    "training_data = gl.SFrame({\"playlist_id\":train[0],\"track_id\":train[1]})\n",
    "test_data = gl.SFrame({\"playlist_id\":test[0],\"track_id\":test[1]})\n",
    "target_playlists=gl.SFrame({\"playlist_id\":dr.getTargetPlaylists()})\n",
    "target_tracks = gl.SFrame({\"track_id\":dr.getTargetTracks()})"
   ]
  },
  {
   "cell_type": "code",
   "execution_count": 23,
   "metadata": {},
   "outputs": [
    {
     "name": "stdout",
     "output_type": "stream",
     "text": [
      "+-------------+----------+\n",
      "| playlist_id | track_id |\n",
      "+-------------+----------+\n",
      "|     8890    |  71058   |\n",
      "|    22426    |  19741   |\n",
      "|    54743    |  71298   |\n",
      "|    11967    |  76310   |\n",
      "|    55587    |   7033   |\n",
      "|     3029    |  21794   |\n",
      "|     9492    |  87619   |\n",
      "|    11280    |   8962   |\n",
      "|    25219    |   743    |\n",
      "|    49010    |  55601   |\n",
      "+-------------+----------+\n",
      "[10 rows x 2 columns]\n",
      "\n",
      "+-------------+----------+\n",
      "| playlist_id | track_id |\n",
      "+-------------+----------+\n",
      "|      1      |  57342   |\n",
      "|      1      |  94876   |\n",
      "|      1      |  10624   |\n",
      "|      3      |  79298   |\n",
      "|      3      |  35334   |\n",
      "|      3      |  27007   |\n",
      "|      3      |  68162   |\n",
      "|      3      |  37016   |\n",
      "|      3      |   6956   |\n",
      "|      3      |  97791   |\n",
      "+-------------+----------+\n",
      "[10 rows x 2 columns]\n",
      "\n"
     ]
    }
   ],
   "source": [
    "print training_data.head()\n",
    "print test_data.head()"
   ]
  },
  {
   "cell_type": "code",
   "execution_count": null,
   "metadata": {},
   "outputs": [
    {
     "data": {
      "text/html": [
       "<pre>Recsys training: model = ranking_factorization_recommender</pre>"
      ],
      "text/plain": [
       "Recsys training: model = ranking_factorization_recommender"
      ]
     },
     "metadata": {},
     "output_type": "display_data"
    },
    {
     "data": {
      "text/html": [
       "<pre>Preparing data set.</pre>"
      ],
      "text/plain": [
       "Preparing data set."
      ]
     },
     "metadata": {},
     "output_type": "display_data"
    },
    {
     "data": {
      "text/html": [
       "<pre>    Data has 964012 observations with 45649 users and 99978 items.</pre>"
      ],
      "text/plain": [
       "    Data has 964012 observations with 45649 users and 99978 items."
      ]
     },
     "metadata": {},
     "output_type": "display_data"
    },
    {
     "data": {
      "text/html": [
       "<pre>    Data prepared in: 0.601131s</pre>"
      ],
      "text/plain": [
       "    Data prepared in: 0.601131s"
      ]
     },
     "metadata": {},
     "output_type": "display_data"
    },
    {
     "data": {
      "text/html": [
       "<pre>Training ranking_factorization_recommender for recommendations.</pre>"
      ],
      "text/plain": [
       "Training ranking_factorization_recommender for recommendations."
      ]
     },
     "metadata": {},
     "output_type": "display_data"
    },
    {
     "data": {
      "text/html": [
       "<pre>+--------------------------------+--------------------------------------------------+----------+</pre>"
      ],
      "text/plain": [
       "+--------------------------------+--------------------------------------------------+----------+"
      ]
     },
     "metadata": {},
     "output_type": "display_data"
    },
    {
     "data": {
      "text/html": [
       "<pre>| Parameter                      | Description                                      | Value    |</pre>"
      ],
      "text/plain": [
       "| Parameter                      | Description                                      | Value    |"
      ]
     },
     "metadata": {},
     "output_type": "display_data"
    },
    {
     "data": {
      "text/html": [
       "<pre>+--------------------------------+--------------------------------------------------+----------+</pre>"
      ],
      "text/plain": [
       "+--------------------------------+--------------------------------------------------+----------+"
      ]
     },
     "metadata": {},
     "output_type": "display_data"
    },
    {
     "data": {
      "text/html": [
       "<pre>| num_factors                    | Factor Dimension                                 | 25       |</pre>"
      ],
      "text/plain": [
       "| num_factors                    | Factor Dimension                                 | 25       |"
      ]
     },
     "metadata": {},
     "output_type": "display_data"
    },
    {
     "data": {
      "text/html": [
       "<pre>| regularization                 | L2 Regularization on Factors                     | 1e-012   |</pre>"
      ],
      "text/plain": [
       "| regularization                 | L2 Regularization on Factors                     | 1e-012   |"
      ]
     },
     "metadata": {},
     "output_type": "display_data"
    },
    {
     "data": {
      "text/html": [
       "<pre>| solver                         | Solver used for training                         | sgd      |</pre>"
      ],
      "text/plain": [
       "| solver                         | Solver used for training                         | sgd      |"
      ]
     },
     "metadata": {},
     "output_type": "display_data"
    },
    {
     "data": {
      "text/html": [
       "<pre>| linear_regularization          | L2 Regularization on Linear Coefficients         | 1e-012   |</pre>"
      ],
      "text/plain": [
       "| linear_regularization          | L2 Regularization on Linear Coefficients         | 1e-012   |"
      ]
     },
     "metadata": {},
     "output_type": "display_data"
    },
    {
     "data": {
      "text/html": [
       "<pre>| num_sampled_negative_examples  | # Negative Samples Considered per Observation    | 6        |</pre>"
      ],
      "text/plain": [
       "| num_sampled_negative_examples  | # Negative Samples Considered per Observation    | 6        |"
      ]
     },
     "metadata": {},
     "output_type": "display_data"
    },
    {
     "data": {
      "text/html": [
       "<pre>| binary_target                  | Assume Binary Targets                            | True     |</pre>"
      ],
      "text/plain": [
       "| binary_target                  | Assume Binary Targets                            | True     |"
      ]
     },
     "metadata": {},
     "output_type": "display_data"
    },
    {
     "data": {
      "text/html": [
       "<pre>| max_iterations                 | Maximum Number of Iterations                     | 50       |</pre>"
      ],
      "text/plain": [
       "| max_iterations                 | Maximum Number of Iterations                     | 50       |"
      ]
     },
     "metadata": {},
     "output_type": "display_data"
    },
    {
     "data": {
      "text/html": [
       "<pre>+--------------------------------+--------------------------------------------------+----------+</pre>"
      ],
      "text/plain": [
       "+--------------------------------+--------------------------------------------------+----------+"
      ]
     },
     "metadata": {},
     "output_type": "display_data"
    },
    {
     "data": {
      "text/html": [
       "<pre>  Optimizing model using SGD; tuning step size.</pre>"
      ],
      "text/plain": [
       "  Optimizing model using SGD; tuning step size."
      ]
     },
     "metadata": {},
     "output_type": "display_data"
    },
    {
     "data": {
      "text/html": [
       "<pre>  Using 120501 / 964012 points for tuning the step size.</pre>"
      ],
      "text/plain": [
       "  Using 120501 / 964012 points for tuning the step size."
      ]
     },
     "metadata": {},
     "output_type": "display_data"
    },
    {
     "data": {
      "text/html": [
       "<pre>+---------+-------------------+------------------------------------------+</pre>"
      ],
      "text/plain": [
       "+---------+-------------------+------------------------------------------+"
      ]
     },
     "metadata": {},
     "output_type": "display_data"
    },
    {
     "data": {
      "text/html": [
       "<pre>| Attempt | Initial Step Size | Estimated Objective Value                |</pre>"
      ],
      "text/plain": [
       "| Attempt | Initial Step Size | Estimated Objective Value                |"
      ]
     },
     "metadata": {},
     "output_type": "display_data"
    },
    {
     "data": {
      "text/html": [
       "<pre>+---------+-------------------+------------------------------------------+</pre>"
      ],
      "text/plain": [
       "+---------+-------------------+------------------------------------------+"
      ]
     },
     "metadata": {},
     "output_type": "display_data"
    },
    {
     "data": {
      "text/html": [
       "<pre>| 0       | 25                | No Decrease (6.3642 >= 1.38647)          |</pre>"
      ],
      "text/plain": [
       "| 0       | 25                | No Decrease (6.3642 >= 1.38647)          |"
      ]
     },
     "metadata": {},
     "output_type": "display_data"
    },
    {
     "data": {
      "text/html": [
       "<pre>| 1       | 6.25              | No Decrease (6.13804 >= 1.38647)         |</pre>"
      ],
      "text/plain": [
       "| 1       | 6.25              | No Decrease (6.13804 >= 1.38647)         |"
      ]
     },
     "metadata": {},
     "output_type": "display_data"
    },
    {
     "data": {
      "text/html": [
       "<pre>| 2       | 1.5625            | No Decrease (1.74313 >= 1.38647)         |</pre>"
      ],
      "text/plain": [
       "| 2       | 1.5625            | No Decrease (1.74313 >= 1.38647)         |"
      ]
     },
     "metadata": {},
     "output_type": "display_data"
    },
    {
     "data": {
      "text/html": [
       "<pre>| 3       | 0.390625          | 1.36692                                  |</pre>"
      ],
      "text/plain": [
       "| 3       | 0.390625          | 1.36692                                  |"
      ]
     },
     "metadata": {},
     "output_type": "display_data"
    },
    {
     "data": {
      "text/html": [
       "<pre>| 4       | 0.195312          | 1.36464                                  |</pre>"
      ],
      "text/plain": [
       "| 4       | 0.195312          | 1.36464                                  |"
      ]
     },
     "metadata": {},
     "output_type": "display_data"
    },
    {
     "data": {
      "text/html": [
       "<pre>| 5       | 0.0976562         | 1.36623                                  |</pre>"
      ],
      "text/plain": [
       "| 5       | 0.0976562         | 1.36623                                  |"
      ]
     },
     "metadata": {},
     "output_type": "display_data"
    },
    {
     "data": {
      "text/html": [
       "<pre>| 6       | 0.0488281         | 1.36944                                  |</pre>"
      ],
      "text/plain": [
       "| 6       | 0.0488281         | 1.36944                                  |"
      ]
     },
     "metadata": {},
     "output_type": "display_data"
    },
    {
     "data": {
      "text/html": [
       "<pre>| 7       | 0.0244141         | 1.37449                                  |</pre>"
      ],
      "text/plain": [
       "| 7       | 0.0244141         | 1.37449                                  |"
      ]
     },
     "metadata": {},
     "output_type": "display_data"
    },
    {
     "data": {
      "text/html": [
       "<pre>+---------+-------------------+------------------------------------------+</pre>"
      ],
      "text/plain": [
       "+---------+-------------------+------------------------------------------+"
      ]
     },
     "metadata": {},
     "output_type": "display_data"
    },
    {
     "data": {
      "text/html": [
       "<pre>| Final   | 0.195312          | 1.36464                                  |</pre>"
      ],
      "text/plain": [
       "| Final   | 0.195312          | 1.36464                                  |"
      ]
     },
     "metadata": {},
     "output_type": "display_data"
    },
    {
     "data": {
      "text/html": [
       "<pre>+---------+-------------------+------------------------------------------+</pre>"
      ],
      "text/plain": [
       "+---------+-------------------+------------------------------------------+"
      ]
     },
     "metadata": {},
     "output_type": "display_data"
    },
    {
     "data": {
      "text/html": [
       "<pre>Starting Optimization.</pre>"
      ],
      "text/plain": [
       "Starting Optimization."
      ]
     },
     "metadata": {},
     "output_type": "display_data"
    },
    {
     "data": {
      "text/html": [
       "<pre>+---------+--------------+-------------------+-----------------------------------+-------------+</pre>"
      ],
      "text/plain": [
       "+---------+--------------+-------------------+-----------------------------------+-------------+"
      ]
     },
     "metadata": {},
     "output_type": "display_data"
    },
    {
     "data": {
      "text/html": [
       "<pre>| Iter.   | Elapsed Time | Approx. Objective | Approx. Training Predictive Error | Step Size   |</pre>"
      ],
      "text/plain": [
       "| Iter.   | Elapsed Time | Approx. Objective | Approx. Training Predictive Error | Step Size   |"
      ]
     },
     "metadata": {},
     "output_type": "display_data"
    },
    {
     "data": {
      "text/html": [
       "<pre>+---------+--------------+-------------------+-----------------------------------+-------------+</pre>"
      ],
      "text/plain": [
       "+---------+--------------+-------------------+-----------------------------------+-------------+"
      ]
     },
     "metadata": {},
     "output_type": "display_data"
    },
    {
     "data": {
      "text/html": [
       "<pre>| Initial | 0us          | 1.38647           | 0.693149                          |             |</pre>"
      ],
      "text/plain": [
       "| Initial | 0us          | 1.38647           | 0.693149                          |             |"
      ]
     },
     "metadata": {},
     "output_type": "display_data"
    },
    {
     "data": {
      "text/html": [
       "<pre>+---------+--------------+-------------------+-----------------------------------+-------------+</pre>"
      ],
      "text/plain": [
       "+---------+--------------+-------------------+-----------------------------------+-------------+"
      ]
     },
     "metadata": {},
     "output_type": "display_data"
    },
    {
     "data": {
      "text/html": [
       "<pre>| 1       | 760.523ms    | 1.44616           | 0.724987                          | 0.195312    |</pre>"
      ],
      "text/plain": [
       "| 1       | 760.523ms    | 1.44616           | 0.724987                          | 0.195312    |"
      ]
     },
     "metadata": {},
     "output_type": "display_data"
    },
    {
     "data": {
      "text/html": [
       "<pre>| 2       | 1.52s        | 1.4248            | 0.71351                           | 0.116134    |</pre>"
      ],
      "text/plain": [
       "| 2       | 1.52s        | 1.4248            | 0.71351                           | 0.116134    |"
      ]
     },
     "metadata": {},
     "output_type": "display_data"
    },
    {
     "data": {
      "text/html": [
       "<pre>| 3       | 2.28s        | 1.40797           | 0.705211                          | 0.0856819   |</pre>"
      ],
      "text/plain": [
       "| 3       | 2.28s        | 1.40797           | 0.705211                          | 0.0856819   |"
      ]
     },
     "metadata": {},
     "output_type": "display_data"
    },
    {
     "data": {
      "text/html": [
       "<pre>| 4       | 3.05s        | 1.39601           | 0.699096                          | 0.0580668   |</pre>"
      ],
      "text/plain": [
       "| 4       | 3.05s        | 1.39601           | 0.699096                          | 0.0580668   |"
      ]
     },
     "metadata": {},
     "output_type": "display_data"
    },
    {
     "data": {
      "text/html": [
       "<pre>| 5       | 3.81s        | 1.3905            | 0.696236                          | 0.0491185   |</pre>"
      ],
      "text/plain": [
       "| 5       | 3.81s        | 1.3905            | 0.696236                          | 0.0491185   |"
      ]
     },
     "metadata": {},
     "output_type": "display_data"
    },
    {
     "data": {
      "text/html": [
       "<pre>| 6       | 4.53s        | 1.38638           | 0.694254                          | 0.042841    |</pre>"
      ],
      "text/plain": [
       "| 6       | 4.53s        | 1.38638           | 0.694254                          | 0.042841    |"
      ]
     },
     "metadata": {},
     "output_type": "display_data"
    },
    {
     "data": {
      "text/html": [
       "<pre>| 10      | 7.49s        | 1.36021           | 0.682457                          | 0.029206    |</pre>"
      ],
      "text/plain": [
       "| 10      | 7.49s        | 1.36021           | 0.682457                          | 0.029206    |"
      ]
     },
     "metadata": {},
     "output_type": "display_data"
    },
    {
     "data": {
      "text/html": [
       "<pre>| 11      | 8.26s        | 1.35151           | 0.678426                          | 0.0271912   |</pre>"
      ],
      "text/plain": [
       "| 11      | 8.26s        | 1.35151           | 0.678426                          | 0.0271912   |"
      ]
     },
     "metadata": {},
     "output_type": "display_data"
    },
    {
     "data": {
      "text/html": [
       "<pre>| 15      | 11.25s       | 1.31685           | 0.663189                          | 0.0215479   |</pre>"
      ],
      "text/plain": [
       "| 15      | 11.25s       | 1.31685           | 0.663189                          | 0.0215479   |"
      ]
     },
     "metadata": {},
     "output_type": "display_data"
    },
    {
     "data": {
      "text/html": [
       "<pre>| 20      | 15.10s       | 1.27869           | 0.645309                          | 0.017366    |</pre>"
      ],
      "text/plain": [
       "| 20      | 15.10s       | 1.27869           | 0.645309                          | 0.017366    |"
      ]
     },
     "metadata": {},
     "output_type": "display_data"
    },
    {
     "data": {
      "text/html": [
       "<pre>| 25      | 18.93s       | 1.2479            | 0.630651                          | 0.0146899   |</pre>"
      ],
      "text/plain": [
       "| 25      | 18.93s       | 1.2479            | 0.630651                          | 0.0146899   |"
      ]
     },
     "metadata": {},
     "output_type": "display_data"
    },
    {
     "data": {
      "text/html": [
       "<pre>| 30      | 22.76s       | 1.21913           | 0.616199                          | 0.0128124   |</pre>"
      ],
      "text/plain": [
       "| 30      | 22.76s       | 1.21913           | 0.616199                          | 0.0128124   |"
      ]
     },
     "metadata": {},
     "output_type": "display_data"
    },
    {
     "data": {
      "text/html": [
       "<pre>| 35      | 26.54s       | 1.1922            | 0.602203                          | 0.0114136   |</pre>"
      ],
      "text/plain": [
       "| 35      | 26.54s       | 1.1922            | 0.602203                          | 0.0114136   |"
      ]
     },
     "metadata": {},
     "output_type": "display_data"
    },
    {
     "data": {
      "text/html": [
       "<pre>| 40      | 30.37s       | 1.16574           | 0.588787                          | 0.0103259   |</pre>"
      ],
      "text/plain": [
       "| 40      | 30.37s       | 1.16574           | 0.588787                          | 0.0103259   |"
      ]
     },
     "metadata": {},
     "output_type": "display_data"
    },
    {
     "data": {
      "text/html": [
       "<pre>| 45      | 35.04s       | 1.13893           | 0.574807                          | 0.00945286  |</pre>"
      ],
      "text/plain": [
       "| 45      | 35.04s       | 1.13893           | 0.574807                          | 0.00945286  |"
      ]
     },
     "metadata": {},
     "output_type": "display_data"
    }
   ],
   "source": [
    "'''\n",
    "model = gl.item_similarity_recommender.create(training_data,user_id='playlist_id', item_id='track_id', \n",
    "                                              similarity_type='cosine', \n",
    "                                              training_method='dense',\n",
    "                                              only_top_k=knn,\n",
    "                                              verbose = True)\n",
    "'''\n",
    "\n",
    "model = gl.ranking_factorization_recommender.create(training_data,\n",
    "                                             user_id='playlist_id',\n",
    "                                             item_id='track_id',\n",
    "                                             num_factors = 25, #default 32\n",
    "                                             regularization = 1e-12, #1e-09\n",
    "                                             linear_regularization = 1e-12, #1e-09\n",
    "                                             num_sampled_negative_examples =6, #4\n",
    "                                             binary_target = False, #False\n",
    "                                             max_iterations = 50, #50\n",
    "                                             #sgd_step_size = 0, #0 sample auto\n",
    "                                             #random_seed = 0, #0\n",
    "                                             solver = \"auto\" #ials,adagrag,sgd,auto\n",
    "                                            )"
   ]
  },
  {
   "cell_type": "code",
   "execution_count": 105,
   "metadata": {},
   "outputs": [
    {
     "name": "stdout",
     "output_type": "stream",
     "text": [
      "User 0 of 10000\n",
      "User 2000 of 10000\n",
      "User 4000 of 10000\n",
      "User 6000 of 10000\n",
      "User 8000 of 10000\n",
      "Recommender performance is: MAP = 0.0168\n"
     ]
    }
   ],
   "source": [
    "recommendation = model.recommend(k=n_rec,exclude_known = True,users=target_playlists , items=target_tracks, verbose= False)\n",
    "dic = {}\n",
    "for rec in recommendation:\n",
    "    p = int(rec[\"playlist_id\"])\n",
    "    t = int(rec[\"track_id\"])\n",
    "    if p in dic:\n",
    "        dic[p].append(t)\n",
    "    else:\n",
    "        dic[p] = []\n",
    "        dic[p].append(t)\n",
    "rec = []\n",
    "for p in dic.keys():\n",
    "    rec.append([int(p),dic[p]])\n",
    "\n",
    "m=dr.evaluateMAPfromRecommendations(rec)"
   ]
  },
  {
   "cell_type": "code",
   "execution_count": 89,
   "metadata": {},
   "outputs": [
    {
     "name": "stdout",
     "output_type": "stream",
     "text": [
      "0.0188631111111\n"
     ]
    }
   ],
   "source": [
    "print m"
   ]
  },
  {
   "cell_type": "code",
   "execution_count": null,
   "metadata": {
    "collapsed": true
   },
   "outputs": [],
   "source": []
  }
 ],
 "metadata": {
  "kernelspec": {
   "display_name": "Python 2",
   "language": "python",
   "name": "python2"
  },
  "language_info": {
   "codemirror_mode": {
    "name": "ipython",
    "version": 2
   },
   "file_extension": ".py",
   "mimetype": "text/x-python",
   "name": "python",
   "nbconvert_exporter": "python",
   "pygments_lexer": "ipython2",
   "version": "2.7.13"
  }
 },
 "nbformat": 4,
 "nbformat_minor": 2
}
