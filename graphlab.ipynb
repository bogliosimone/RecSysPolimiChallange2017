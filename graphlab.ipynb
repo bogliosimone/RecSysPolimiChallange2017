{
 "cells": [
  {
   "cell_type": "code",
   "execution_count": 1,
   "metadata": {
    "collapsed": true
   },
   "outputs": [],
   "source": [
    "import graphlab as gl\n",
    "import graphlab.aggregate as agg\n",
    "import numpy as np\n",
    "import scipy.sparse as sps"
   ]
  },
  {
   "cell_type": "code",
   "execution_count": 2,
   "metadata": {},
   "outputs": [
    {
     "name": "stdout",
     "output_type": "stream",
     "text": [
      "Date Reader Challange Polimi 2017\n",
      "Loading data from ./DumpData/DataReaderTrainTestDump\n",
      "Dataset train-test loaded\n"
     ]
    }
   ],
   "source": [
    "from DataReader import DataReaderChallangePolimi2017\n",
    "dr = DataReaderChallangePolimi2017(evaluation=True, rebuild=False)"
   ]
  },
  {
   "cell_type": "code",
   "execution_count": 3,
   "metadata": {
    "collapsed": true
   },
   "outputs": [],
   "source": [
    "knn = 150\n",
    "n_rec = 5\n",
    "\n",
    "train = dr.train\n",
    "test = dr.test"
   ]
  },
  {
   "cell_type": "code",
   "execution_count": 4,
   "metadata": {},
   "outputs": [
    {
     "name": "stdout",
     "output_type": "stream",
     "text": [
      "[ 8890 22426 54743 ..., 32763 32763 32763]\n",
      "[71058 19741 71298 ..., 87949 62773 70493]\n"
     ]
    }
   ],
   "source": [
    "print train[0]\n",
    "print train[1]"
   ]
  },
  {
   "cell_type": "code",
   "execution_count": 9,
   "metadata": {},
   "outputs": [],
   "source": [
    "training_data = gl.SFrame({\"playlist_id\":train[0],\"track_id\":train[1]})\n",
    "test_data = gl.SFrame({\"playlist_id\":test[0],\"track_id\":test[1]})\n",
    "target_playlists=gl.SFrame({\"playlist_id\":dr.getTargetPlaylists()})\n",
    "target_tracks = gl.SFrame({\"track_id\":dr.getTargetTracks()})"
   ]
  },
  {
   "cell_type": "code",
   "execution_count": 34,
   "metadata": {},
   "outputs": [],
   "source": [
    "id_t = np.concatenate([dr.albums[0],dr.artists[0]])\n",
    "info_t = np.concatenate([dr.albums[1],dr.artists[1]])\n",
    "side_tracks = gl.SFrame({\"track_id\":dr.albums[0],\"album\":dr.albums[1]})\n",
    "#print side_tracks.head"
   ]
  },
  {
   "cell_type": "code",
   "execution_count": 35,
   "metadata": {},
   "outputs": [],
   "source": [
    "ow, n_o = dr.getOwners()\n",
    "side_playlists = gl.SFrame({\"playlist_id\":ow[0],\"owners\":ow[1]})\n",
    "#print side_playlists.head"
   ]
  },
  {
   "cell_type": "code",
   "execution_count": null,
   "metadata": {
    "collapsed": true
   },
   "outputs": [],
   "source": []
  },
  {
   "cell_type": "code",
   "execution_count": null,
   "metadata": {
    "collapsed": true
   },
   "outputs": [],
   "source": []
  },
  {
   "cell_type": "code",
   "execution_count": 36,
   "metadata": {},
   "outputs": [
    {
     "data": {
      "text/html": [
       "<pre>Recsys training: model = ranking_factorization_recommender</pre>"
      ],
      "text/plain": [
       "Recsys training: model = ranking_factorization_recommender"
      ]
     },
     "metadata": {},
     "output_type": "display_data"
    },
    {
     "data": {
      "text/html": [
       "<pre>Preparing data set.</pre>"
      ],
      "text/plain": [
       "Preparing data set."
      ]
     },
     "metadata": {},
     "output_type": "display_data"
    },
    {
     "data": {
      "text/html": [
       "<pre>    Data has 964012 observations with 57561 users and 99990 items.</pre>"
      ],
      "text/plain": [
       "    Data has 964012 observations with 57561 users and 99990 items."
      ]
     },
     "metadata": {},
     "output_type": "display_data"
    },
    {
     "data": {
      "text/html": [
       "<pre>    Data prepared in: 0.466772s</pre>"
      ],
      "text/plain": [
       "    Data prepared in: 0.466772s"
      ]
     },
     "metadata": {},
     "output_type": "display_data"
    },
    {
     "data": {
      "text/html": [
       "<pre>Training ranking_factorization_recommender for recommendations.</pre>"
      ],
      "text/plain": [
       "Training ranking_factorization_recommender for recommendations."
      ]
     },
     "metadata": {},
     "output_type": "display_data"
    },
    {
     "data": {
      "text/html": [
       "<pre>+--------------------------------+--------------------------------------------------+----------+</pre>"
      ],
      "text/plain": [
       "+--------------------------------+--------------------------------------------------+----------+"
      ]
     },
     "metadata": {},
     "output_type": "display_data"
    },
    {
     "data": {
      "text/html": [
       "<pre>| Parameter                      | Description                                      | Value    |</pre>"
      ],
      "text/plain": [
       "| Parameter                      | Description                                      | Value    |"
      ]
     },
     "metadata": {},
     "output_type": "display_data"
    },
    {
     "data": {
      "text/html": [
       "<pre>+--------------------------------+--------------------------------------------------+----------+</pre>"
      ],
      "text/plain": [
       "+--------------------------------+--------------------------------------------------+----------+"
      ]
     },
     "metadata": {},
     "output_type": "display_data"
    },
    {
     "data": {
      "text/html": [
       "<pre>| num_factors                    | Factor Dimension                                 | 25       |</pre>"
      ],
      "text/plain": [
       "| num_factors                    | Factor Dimension                                 | 25       |"
      ]
     },
     "metadata": {},
     "output_type": "display_data"
    },
    {
     "data": {
      "text/html": [
       "<pre>| regularization                 | L2 Regularization on Factors                     | 1e-006   |</pre>"
      ],
      "text/plain": [
       "| regularization                 | L2 Regularization on Factors                     | 1e-006   |"
      ]
     },
     "metadata": {},
     "output_type": "display_data"
    },
    {
     "data": {
      "text/html": [
       "<pre>| solver                         | Solver used for training                         | adagrad  |</pre>"
      ],
      "text/plain": [
       "| solver                         | Solver used for training                         | adagrad  |"
      ]
     },
     "metadata": {},
     "output_type": "display_data"
    },
    {
     "data": {
      "text/html": [
       "<pre>| linear_regularization          | L2 Regularization on Linear Coefficients         | 1e-006   |</pre>"
      ],
      "text/plain": [
       "| linear_regularization          | L2 Regularization on Linear Coefficients         | 1e-006   |"
      ]
     },
     "metadata": {},
     "output_type": "display_data"
    },
    {
     "data": {
      "text/html": [
       "<pre>| num_sampled_negative_examples  | # Negative Samples Considered per Observation    | 3        |</pre>"
      ],
      "text/plain": [
       "| num_sampled_negative_examples  | # Negative Samples Considered per Observation    | 3        |"
      ]
     },
     "metadata": {},
     "output_type": "display_data"
    },
    {
     "data": {
      "text/html": [
       "<pre>| binary_target                  | Assume Binary Targets                            | True     |</pre>"
      ],
      "text/plain": [
       "| binary_target                  | Assume Binary Targets                            | True     |"
      ]
     },
     "metadata": {},
     "output_type": "display_data"
    },
    {
     "data": {
      "text/html": [
       "<pre>| side_data_factorization        | Assign Factors for Side Data                     | True     |</pre>"
      ],
      "text/plain": [
       "| side_data_factorization        | Assign Factors for Side Data                     | True     |"
      ]
     },
     "metadata": {},
     "output_type": "display_data"
    },
    {
     "data": {
      "text/html": [
       "<pre>| max_iterations                 | Maximum Number of Iterations                     | 50       |</pre>"
      ],
      "text/plain": [
       "| max_iterations                 | Maximum Number of Iterations                     | 50       |"
      ]
     },
     "metadata": {},
     "output_type": "display_data"
    },
    {
     "data": {
      "text/html": [
       "<pre>+--------------------------------+--------------------------------------------------+----------+</pre>"
      ],
      "text/plain": [
       "+--------------------------------+--------------------------------------------------+----------+"
      ]
     },
     "metadata": {},
     "output_type": "display_data"
    },
    {
     "data": {
      "text/html": [
       "<pre>  Optimizing model using SGD; tuning step size.</pre>"
      ],
      "text/plain": [
       "  Optimizing model using SGD; tuning step size."
      ]
     },
     "metadata": {},
     "output_type": "display_data"
    },
    {
     "data": {
      "text/html": [
       "<pre>  Using 120501 / 964012 points for tuning the step size.</pre>"
      ],
      "text/plain": [
       "  Using 120501 / 964012 points for tuning the step size."
      ]
     },
     "metadata": {},
     "output_type": "display_data"
    },
    {
     "data": {
      "text/html": [
       "<pre>+---------+-------------------+------------------------------------------+</pre>"
      ],
      "text/plain": [
       "+---------+-------------------+------------------------------------------+"
      ]
     },
     "metadata": {},
     "output_type": "display_data"
    },
    {
     "data": {
      "text/html": [
       "<pre>| Attempt | Initial Step Size | Estimated Objective Value                |</pre>"
      ],
      "text/plain": [
       "| Attempt | Initial Step Size | Estimated Objective Value                |"
      ]
     },
     "metadata": {},
     "output_type": "display_data"
    },
    {
     "data": {
      "text/html": [
       "<pre>+---------+-------------------+------------------------------------------+</pre>"
      ],
      "text/plain": [
       "+---------+-------------------+------------------------------------------+"
      ]
     },
     "metadata": {},
     "output_type": "display_data"
    },
    {
     "data": {
      "text/html": [
       "<pre>| 0       | 12.5              | Not Viable                               |</pre>"
      ],
      "text/plain": [
       "| 0       | 12.5              | Not Viable                               |"
      ]
     },
     "metadata": {},
     "output_type": "display_data"
    },
    {
     "data": {
      "text/html": [
       "<pre>| 1       | 3.125             | Not Viable                               |</pre>"
      ],
      "text/plain": [
       "| 1       | 3.125             | Not Viable                               |"
      ]
     },
     "metadata": {},
     "output_type": "display_data"
    },
    {
     "data": {
      "text/html": [
       "<pre>| 2       | 0.78125           | Not Viable                               |</pre>"
      ],
      "text/plain": [
       "| 2       | 0.78125           | Not Viable                               |"
      ]
     },
     "metadata": {},
     "output_type": "display_data"
    },
    {
     "data": {
      "text/html": [
       "<pre>| 3       | 0.195312          | Not Viable                               |</pre>"
      ],
      "text/plain": [
       "| 3       | 0.195312          | Not Viable                               |"
      ]
     },
     "metadata": {},
     "output_type": "display_data"
    },
    {
     "data": {
      "text/html": [
       "<pre>| 4       | 0.0488281         | Not Viable                               |</pre>"
      ],
      "text/plain": [
       "| 4       | 0.0488281         | Not Viable                               |"
      ]
     },
     "metadata": {},
     "output_type": "display_data"
    },
    {
     "data": {
      "text/html": [
       "<pre>| 5       | 0.012207          | No Decrease (5.28981 >= 1.38647)         |</pre>"
      ],
      "text/plain": [
       "| 5       | 0.012207          | No Decrease (5.28981 >= 1.38647)         |"
      ]
     },
     "metadata": {},
     "output_type": "display_data"
    },
    {
     "data": {
      "text/html": [
       "<pre>| 6       | 0.00305176        | 1.38234                                  |</pre>"
      ],
      "text/plain": [
       "| 6       | 0.00305176        | 1.38234                                  |"
      ]
     },
     "metadata": {},
     "output_type": "display_data"
    },
    {
     "data": {
      "text/html": [
       "<pre>| 7       | 0.00152588        | 1.38519                                  |</pre>"
      ],
      "text/plain": [
       "| 7       | 0.00152588        | 1.38519                                  |"
      ]
     },
     "metadata": {},
     "output_type": "display_data"
    },
    {
     "data": {
      "text/html": [
       "<pre>| 8       | 0.000762939       | 1.38511                                  |</pre>"
      ],
      "text/plain": [
       "| 8       | 0.000762939       | 1.38511                                  |"
      ]
     },
     "metadata": {},
     "output_type": "display_data"
    },
    {
     "data": {
      "text/html": [
       "<pre>| 9       | 0.00038147        | 1.3859                                   |</pre>"
      ],
      "text/plain": [
       "| 9       | 0.00038147        | 1.3859                                   |"
      ]
     },
     "metadata": {},
     "output_type": "display_data"
    },
    {
     "data": {
      "text/html": [
       "<pre>+---------+-------------------+------------------------------------------+</pre>"
      ],
      "text/plain": [
       "+---------+-------------------+------------------------------------------+"
      ]
     },
     "metadata": {},
     "output_type": "display_data"
    },
    {
     "data": {
      "text/html": [
       "<pre>| Final   | 0.00305176        | 1.38234                                  |</pre>"
      ],
      "text/plain": [
       "| Final   | 0.00305176        | 1.38234                                  |"
      ]
     },
     "metadata": {},
     "output_type": "display_data"
    },
    {
     "data": {
      "text/html": [
       "<pre>+---------+-------------------+------------------------------------------+</pre>"
      ],
      "text/plain": [
       "+---------+-------------------+------------------------------------------+"
      ]
     },
     "metadata": {},
     "output_type": "display_data"
    },
    {
     "data": {
      "text/html": [
       "<pre>Starting Optimization.</pre>"
      ],
      "text/plain": [
       "Starting Optimization."
      ]
     },
     "metadata": {},
     "output_type": "display_data"
    },
    {
     "data": {
      "text/html": [
       "<pre>+---------+--------------+-------------------+-----------------------------------+-------------+</pre>"
      ],
      "text/plain": [
       "+---------+--------------+-------------------+-----------------------------------+-------------+"
      ]
     },
     "metadata": {},
     "output_type": "display_data"
    },
    {
     "data": {
      "text/html": [
       "<pre>| Iter.   | Elapsed Time | Approx. Objective | Approx. Training Predictive Error | Step Size   |</pre>"
      ],
      "text/plain": [
       "| Iter.   | Elapsed Time | Approx. Objective | Approx. Training Predictive Error | Step Size   |"
      ]
     },
     "metadata": {},
     "output_type": "display_data"
    },
    {
     "data": {
      "text/html": [
       "<pre>+---------+--------------+-------------------+-----------------------------------+-------------+</pre>"
      ],
      "text/plain": [
       "+---------+--------------+-------------------+-----------------------------------+-------------+"
      ]
     },
     "metadata": {},
     "output_type": "display_data"
    },
    {
     "data": {
      "text/html": [
       "<pre>| Initial | 0us          | 1.38647           | 0.693145                          |             |</pre>"
      ],
      "text/plain": [
       "| Initial | 0us          | 1.38647           | 0.693145                          |             |"
      ]
     },
     "metadata": {},
     "output_type": "display_data"
    },
    {
     "data": {
      "text/html": [
       "<pre>+---------+--------------+-------------------+-----------------------------------+-------------+</pre>"
      ],
      "text/plain": [
       "+---------+--------------+-------------------+-----------------------------------+-------------+"
      ]
     },
     "metadata": {},
     "output_type": "display_data"
    },
    {
     "data": {
      "text/html": [
       "<pre>| 1       | 1.38s        | 1.42234           | 0.698938                          | 0.00305176  |</pre>"
      ],
      "text/plain": [
       "| 1       | 1.38s        | 1.42234           | 0.698938                          | 0.00305176  |"
      ]
     },
     "metadata": {},
     "output_type": "display_data"
    },
    {
     "data": {
      "text/html": [
       "<pre>| 2       | 2.76s        | 1.7514            | 0.799674                          | 0.00305176  |</pre>"
      ],
      "text/plain": [
       "| 2       | 2.76s        | 1.7514            | 0.799674                          | 0.00305176  |"
      ]
     },
     "metadata": {},
     "output_type": "display_data"
    },
    {
     "data": {
      "text/html": [
       "<pre>| 3       | 4.18s        | 2.07917           | 0.94475                           | 0.00305176  |</pre>"
      ],
      "text/plain": [
       "| 3       | 4.18s        | 2.07917           | 0.94475                           | 0.00305176  |"
      ]
     },
     "metadata": {},
     "output_type": "display_data"
    },
    {
     "data": {
      "text/html": [
       "<pre>| 4       | 5.58s        | 2.29218           | 1.06831                           | 0.00305176  |</pre>"
      ],
      "text/plain": [
       "| 4       | 5.58s        | 2.29218           | 1.06831                           | 0.00305176  |"
      ]
     },
     "metadata": {},
     "output_type": "display_data"
    },
    {
     "data": {
      "text/html": [
       "<pre>| 5       | 7.51s        | DIVERGED          | DIVERGED                          | 0.00305176  |</pre>"
      ],
      "text/plain": [
       "| 5       | 7.51s        | DIVERGED          | DIVERGED                          | 0.00305176  |"
      ]
     },
     "metadata": {},
     "output_type": "display_data"
    },
    {
     "data": {
      "text/html": [
       "<pre>| RESET   | 8.19s        | 1.38643           | 0.693148                          |             |</pre>"
      ],
      "text/plain": [
       "| RESET   | 8.19s        | 1.38643           | 0.693148                          |             |"
      ]
     },
     "metadata": {},
     "output_type": "display_data"
    },
    {
     "data": {
      "text/html": [
       "<pre>| 1       | 9.66s        | 1.39263           | 0.693353                          | 0.00152588  |</pre>"
      ],
      "text/plain": [
       "| 1       | 9.66s        | 1.39263           | 0.693353                          | 0.00152588  |"
      ]
     },
     "metadata": {},
     "output_type": "display_data"
    },
    {
     "data": {
      "text/html": [
       "<pre>| 2       | 11.22s       | 1.39276           | 0.693195                          | 0.00152588  |</pre>"
      ],
      "text/plain": [
       "| 2       | 11.22s       | 1.39276           | 0.693195                          | 0.00152588  |"
      ]
     },
     "metadata": {},
     "output_type": "display_data"
    },
    {
     "data": {
      "text/html": [
       "<pre>| 3       | 12.77s       | 1.39293           | 0.693876                          | 0.00152588  |</pre>"
      ],
      "text/plain": [
       "| 3       | 12.77s       | 1.39293           | 0.693876                          | 0.00152588  |"
      ]
     },
     "metadata": {},
     "output_type": "display_data"
    },
    {
     "data": {
      "text/html": [
       "<pre>| 4       | 14.34s       | 1.39244           | 0.693963                          | 0.00152588  |</pre>"
      ],
      "text/plain": [
       "| 4       | 14.34s       | 1.39244           | 0.693963                          | 0.00152588  |"
      ]
     },
     "metadata": {},
     "output_type": "display_data"
    },
    {
     "data": {
      "text/html": [
       "<pre>| 5       | 15.99s       | 1.39427           | 0.694515                          | 0.00152588  |</pre>"
      ],
      "text/plain": [
       "| 5       | 15.99s       | 1.39427           | 0.694515                          | 0.00152588  |"
      ]
     },
     "metadata": {},
     "output_type": "display_data"
    },
    {
     "data": {
      "text/html": [
       "<pre>| 6       | 17.58s       | 1.3967            | 0.695373                          | 0.00152588  |</pre>"
      ],
      "text/plain": [
       "| 6       | 17.58s       | 1.3967            | 0.695373                          | 0.00152588  |"
      ]
     },
     "metadata": {},
     "output_type": "display_data"
    },
    {
     "data": {
      "text/html": [
       "<pre>| 7       | 19.06s       | 1.39893           | 0.696859                          | 0.00152588  |</pre>"
      ],
      "text/plain": [
       "| 7       | 19.06s       | 1.39893           | 0.696859                          | 0.00152588  |"
      ]
     },
     "metadata": {},
     "output_type": "display_data"
    },
    {
     "data": {
      "text/html": [
       "<pre>| 8       | 20.47s       | 1.40163           | 0.697576                          | 0.00152588  |</pre>"
      ],
      "text/plain": [
       "| 8       | 20.47s       | 1.40163           | 0.697576                          | 0.00152588  |"
      ]
     },
     "metadata": {},
     "output_type": "display_data"
    },
    {
     "data": {
      "text/html": [
       "<pre>| 9       | 22.45s       | DIVERGED          | DIVERGED                          | 0.00152588  |</pre>"
      ],
      "text/plain": [
       "| 9       | 22.45s       | DIVERGED          | DIVERGED                          | 0.00152588  |"
      ]
     },
     "metadata": {},
     "output_type": "display_data"
    },
    {
     "data": {
      "text/html": [
       "<pre>| RESET   | 23.14s       | 1.38642           | 0.693146                          |             |</pre>"
      ],
      "text/plain": [
       "| RESET   | 23.14s       | 1.38642           | 0.693146                          |             |"
      ]
     },
     "metadata": {},
     "output_type": "display_data"
    },
    {
     "data": {
      "text/html": [
       "<pre>| 1       | 24.57s       | 1.38642           | 0.692029                          | 0.000762939 |</pre>"
      ],
      "text/plain": [
       "| 1       | 24.57s       | 1.38642           | 0.692029                          | 0.000762939 |"
      ]
     },
     "metadata": {},
     "output_type": "display_data"
    },
    {
     "data": {
      "text/html": [
       "<pre>| 2       | 25.97s       | 1.39023           | 0.691676                          | 0.000762939 |</pre>"
      ],
      "text/plain": [
       "| 2       | 25.97s       | 1.39023           | 0.691676                          | 0.000762939 |"
      ]
     },
     "metadata": {},
     "output_type": "display_data"
    },
    {
     "data": {
      "text/html": [
       "<pre>| 3       | 27.39s       | 1.3942            | 0.691919                          | 0.000762939 |</pre>"
      ],
      "text/plain": [
       "| 3       | 27.39s       | 1.3942            | 0.691919                          | 0.000762939 |"
      ]
     },
     "metadata": {},
     "output_type": "display_data"
    },
    {
     "data": {
      "text/html": [
       "<pre>| 4       | 28.80s       | 1.39569           | 0.692297                          | 0.000762939 |</pre>"
      ],
      "text/plain": [
       "| 4       | 28.80s       | 1.39569           | 0.692297                          | 0.000762939 |"
      ]
     },
     "metadata": {},
     "output_type": "display_data"
    },
    {
     "data": {
      "text/html": [
       "<pre>| 5       | 30.20s       | 1.39933           | 0.692825                          | 0.000762939 |</pre>"
      ],
      "text/plain": [
       "| 5       | 30.20s       | 1.39933           | 0.692825                          | 0.000762939 |"
      ]
     },
     "metadata": {},
     "output_type": "display_data"
    },
    {
     "data": {
      "text/html": [
       "<pre>| 6       | 31.62s       | 1.4017            | 0.693517                          | 0.000762939 |</pre>"
      ],
      "text/plain": [
       "| 6       | 31.62s       | 1.4017            | 0.693517                          | 0.000762939 |"
      ]
     },
     "metadata": {},
     "output_type": "display_data"
    },
    {
     "data": {
      "text/html": [
       "<pre>| 7       | 33.57s       | DIVERGED          | DIVERGED                          | 0.000762939 |</pre>"
      ],
      "text/plain": [
       "| 7       | 33.57s       | DIVERGED          | DIVERGED                          | 0.000762939 |"
      ]
     },
     "metadata": {},
     "output_type": "display_data"
    },
    {
     "data": {
      "text/html": [
       "<pre>| RESET   | 34.23s       | 1.38643           | 0.693146                          |             |</pre>"
      ],
      "text/plain": [
       "| RESET   | 34.23s       | 1.38643           | 0.693146                          |             |"
      ]
     },
     "metadata": {},
     "output_type": "display_data"
    },
    {
     "data": {
      "text/html": [
       "<pre>| 1       | 35.64s       | 1.38601           | 0.692863                          | 0.00038147  |</pre>"
      ],
      "text/plain": [
       "| 1       | 35.64s       | 1.38601           | 0.692863                          | 0.00038147  |"
      ]
     },
     "metadata": {},
     "output_type": "display_data"
    },
    {
     "data": {
      "text/html": [
       "<pre>| 2       | 37.05s       | 1.38609           | 0.692402                          | 0.00038147  |</pre>"
      ],
      "text/plain": [
       "| 2       | 37.05s       | 1.38609           | 0.692402                          | 0.00038147  |"
      ]
     },
     "metadata": {},
     "output_type": "display_data"
    },
    {
     "data": {
      "text/html": [
       "<pre>| 3       | 38.48s       | 1.38683           | 0.692248                          | 0.00038147  |</pre>"
      ],
      "text/plain": [
       "| 3       | 38.48s       | 1.38683           | 0.692248                          | 0.00038147  |"
      ]
     },
     "metadata": {},
     "output_type": "display_data"
    },
    {
     "data": {
      "text/html": [
       "<pre>| 4       | 39.88s       | 1.38708           | 0.692166                          | 0.00038147  |</pre>"
      ],
      "text/plain": [
       "| 4       | 39.88s       | 1.38708           | 0.692166                          | 0.00038147  |"
      ]
     },
     "metadata": {},
     "output_type": "display_data"
    },
    {
     "data": {
      "text/html": [
       "<pre>| 5       | 41.28s       | 1.38761           | 0.692106                          | 0.00038147  |</pre>"
      ],
      "text/plain": [
       "| 5       | 41.28s       | 1.38761           | 0.692106                          | 0.00038147  |"
      ]
     },
     "metadata": {},
     "output_type": "display_data"
    },
    {
     "data": {
      "text/html": [
       "<pre>| 6       | 42.71s       | 1.38777           | 0.692067                          | 0.00038147  |</pre>"
      ],
      "text/plain": [
       "| 6       | 42.71s       | 1.38777           | 0.692067                          | 0.00038147  |"
      ]
     },
     "metadata": {},
     "output_type": "display_data"
    },
    {
     "data": {
      "text/html": [
       "<pre>| 7       | 44.12s       | 1.38786           | 0.692054                          | 0.00038147  |</pre>"
      ],
      "text/plain": [
       "| 7       | 44.12s       | 1.38786           | 0.692054                          | 0.00038147  |"
      ]
     },
     "metadata": {},
     "output_type": "display_data"
    },
    {
     "data": {
      "text/html": [
       "<pre>| 8       | 46.08s       | 1.38804           | 0.692023                          | 0.00038147  |</pre>"
      ],
      "text/plain": [
       "| 8       | 46.08s       | 1.38804           | 0.692023                          | 0.00038147  |"
      ]
     },
     "metadata": {},
     "output_type": "display_data"
    },
    {
     "data": {
      "text/html": [
       "<pre>| 9       | 48.06s       | 1.38856           | 0.692026                          | 0.00038147  |</pre>"
      ],
      "text/plain": [
       "| 9       | 48.06s       | 1.38856           | 0.692026                          | 0.00038147  |"
      ]
     },
     "metadata": {},
     "output_type": "display_data"
    },
    {
     "data": {
      "text/html": [
       "<pre>| 10      | 50.00s       | 1.38846           | 0.692016                          | 0.00038147  |</pre>"
      ],
      "text/plain": [
       "| 10      | 50.00s       | 1.38846           | 0.692016                          | 0.00038147  |"
      ]
     },
     "metadata": {},
     "output_type": "display_data"
    },
    {
     "data": {
      "text/html": [
       "<pre>| 11      | 51.42s       | 1.38854           | 0.692014                          | 0.00038147  |</pre>"
      ],
      "text/plain": [
       "| 11      | 51.42s       | 1.38854           | 0.692014                          | 0.00038147  |"
      ]
     },
     "metadata": {},
     "output_type": "display_data"
    },
    {
     "data": {
      "text/html": [
       "<pre>| 12      | 52.84s       | 1.38844           | 0.691996                          | 0.00038147  |</pre>"
      ],
      "text/plain": [
       "| 12      | 52.84s       | 1.38844           | 0.691996                          | 0.00038147  |"
      ]
     },
     "metadata": {},
     "output_type": "display_data"
    },
    {
     "data": {
      "text/html": [
       "<pre>| 13      | 54.25s       | 1.38881           | 0.692018                          | 0.00038147  |</pre>"
      ],
      "text/plain": [
       "| 13      | 54.25s       | 1.38881           | 0.692018                          | 0.00038147  |"
      ]
     },
     "metadata": {},
     "output_type": "display_data"
    },
    {
     "data": {
      "text/html": [
       "<pre>| 14      | 55.65s       | 1.3889            | 0.692018                          | 0.00038147  |</pre>"
      ],
      "text/plain": [
       "| 14      | 55.65s       | 1.3889            | 0.692018                          | 0.00038147  |"
      ]
     },
     "metadata": {},
     "output_type": "display_data"
    },
    {
     "data": {
      "text/html": [
       "<pre>| 15      | 57.06s       | 1.38899           | 0.692029                          | 0.00038147  |</pre>"
      ],
      "text/plain": [
       "| 15      | 57.06s       | 1.38899           | 0.692029                          | 0.00038147  |"
      ]
     },
     "metadata": {},
     "output_type": "display_data"
    },
    {
     "data": {
      "text/html": [
       "<pre>| 16      | 58.48s       | 1.38937           | 0.692054                          | 0.00038147  |</pre>"
      ],
      "text/plain": [
       "| 16      | 58.48s       | 1.38937           | 0.692054                          | 0.00038147  |"
      ]
     },
     "metadata": {},
     "output_type": "display_data"
    },
    {
     "data": {
      "text/html": [
       "<pre>| 17      | 1m 0s        | 1.38931           | 0.692052                          | 0.00038147  |</pre>"
      ],
      "text/plain": [
       "| 17      | 1m 0s        | 1.38931           | 0.692052                          | 0.00038147  |"
      ]
     },
     "metadata": {},
     "output_type": "display_data"
    },
    {
     "data": {
      "text/html": [
       "<pre>| 18      | 1m 1s        | 1.38921           | 0.692058                          | 0.00038147  |</pre>"
      ],
      "text/plain": [
       "| 18      | 1m 1s        | 1.38921           | 0.692058                          | 0.00038147  |"
      ]
     },
     "metadata": {},
     "output_type": "display_data"
    },
    {
     "data": {
      "text/html": [
       "<pre>| 19      | 1m 3s        | 1.39007           | 0.692148                          | 0.00038147  |</pre>"
      ],
      "text/plain": [
       "| 19      | 1m 3s        | 1.39007           | 0.692148                          | 0.00038147  |"
      ]
     },
     "metadata": {},
     "output_type": "display_data"
    },
    {
     "data": {
      "text/html": [
       "<pre>| 20      | 1m 4s        | 1.38971           | 0.692101                          | 0.00038147  |</pre>"
      ],
      "text/plain": [
       "| 20      | 1m 4s        | 1.38971           | 0.692101                          | 0.00038147  |"
      ]
     },
     "metadata": {},
     "output_type": "display_data"
    },
    {
     "data": {
      "text/html": [
       "<pre>| 21      | 1m 6s        | 1.3899            | 0.69213                           | 0.00038147  |</pre>"
      ],
      "text/plain": [
       "| 21      | 1m 6s        | 1.3899            | 0.69213                           | 0.00038147  |"
      ]
     },
     "metadata": {},
     "output_type": "display_data"
    },
    {
     "data": {
      "text/html": [
       "<pre>| 22      | 1m 7s        | 1.3898            | 0.692115                          | 0.00038147  |</pre>"
      ],
      "text/plain": [
       "| 22      | 1m 7s        | 1.3898            | 0.692115                          | 0.00038147  |"
      ]
     },
     "metadata": {},
     "output_type": "display_data"
    },
    {
     "data": {
      "text/html": [
       "<pre>| 23      | 1m 8s        | 1.39065           | 0.692245                          | 0.00038147  |</pre>"
      ],
      "text/plain": [
       "| 23      | 1m 8s        | 1.39065           | 0.692245                          | 0.00038147  |"
      ]
     },
     "metadata": {},
     "output_type": "display_data"
    },
    {
     "data": {
      "text/html": [
       "<pre>| 24      | 1m 10s       | 1.39022           | 0.692195                          | 0.00038147  |</pre>"
      ],
      "text/plain": [
       "| 24      | 1m 10s       | 1.39022           | 0.692195                          | 0.00038147  |"
      ]
     },
     "metadata": {},
     "output_type": "display_data"
    },
    {
     "data": {
      "text/html": [
       "<pre>| 25      | 1m 11s       | 1.39046           | 0.692225                          | 0.00038147  |</pre>"
      ],
      "text/plain": [
       "| 25      | 1m 11s       | 1.39046           | 0.692225                          | 0.00038147  |"
      ]
     },
     "metadata": {},
     "output_type": "display_data"
    },
    {
     "data": {
      "text/html": [
       "<pre>| 26      | 1m 13s       | 1.39094           | 0.692305                          | 0.00038147  |</pre>"
      ],
      "text/plain": [
       "| 26      | 1m 13s       | 1.39094           | 0.692305                          | 0.00038147  |"
      ]
     },
     "metadata": {},
     "output_type": "display_data"
    },
    {
     "data": {
      "text/html": [
       "<pre>| 27      | 1m 14s       | 1.39118           | 0.69236                           | 0.00038147  |</pre>"
      ],
      "text/plain": [
       "| 27      | 1m 14s       | 1.39118           | 0.69236                           | 0.00038147  |"
      ]
     },
     "metadata": {},
     "output_type": "display_data"
    },
    {
     "data": {
      "text/html": [
       "<pre>| 28      | 1m 15s       | 1.39085           | 0.692321                          | 0.00038147  |</pre>"
      ],
      "text/plain": [
       "| 28      | 1m 15s       | 1.39085           | 0.692321                          | 0.00038147  |"
      ]
     },
     "metadata": {},
     "output_type": "display_data"
    },
    {
     "data": {
      "text/html": [
       "<pre>| 29      | 1m 17s       | 1.39055           | 0.692281                          | 0.00038147  |</pre>"
      ],
      "text/plain": [
       "| 29      | 1m 17s       | 1.39055           | 0.692281                          | 0.00038147  |"
      ]
     },
     "metadata": {},
     "output_type": "display_data"
    },
    {
     "data": {
      "text/html": [
       "<pre>| 30      | 1m 18s       | 1.39182           | 0.692494                          | 0.00038147  |</pre>"
      ],
      "text/plain": [
       "| 30      | 1m 18s       | 1.39182           | 0.692494                          | 0.00038147  |"
      ]
     },
     "metadata": {},
     "output_type": "display_data"
    },
    {
     "data": {
      "text/html": [
       "<pre>| 31      | 1m 20s       | 1.3913            | 0.692413                          | 0.00038147  |</pre>"
      ],
      "text/plain": [
       "| 31      | 1m 20s       | 1.3913            | 0.692413                          | 0.00038147  |"
      ]
     },
     "metadata": {},
     "output_type": "display_data"
    },
    {
     "data": {
      "text/html": [
       "<pre>| 32      | 1m 21s       | 1.39178           | 0.692502                          | 0.00038147  |</pre>"
      ],
      "text/plain": [
       "| 32      | 1m 21s       | 1.39178           | 0.692502                          | 0.00038147  |"
      ]
     },
     "metadata": {},
     "output_type": "display_data"
    },
    {
     "data": {
      "text/html": [
       "<pre>| 33      | 1m 23s       | 1.39159           | 0.692485                          | 0.00038147  |</pre>"
      ],
      "text/plain": [
       "| 33      | 1m 23s       | 1.39159           | 0.692485                          | 0.00038147  |"
      ]
     },
     "metadata": {},
     "output_type": "display_data"
    },
    {
     "data": {
      "text/html": [
       "<pre>| 34      | 1m 24s       | 1.39221           | 0.692599                          | 0.00038147  |</pre>"
      ],
      "text/plain": [
       "| 34      | 1m 24s       | 1.39221           | 0.692599                          | 0.00038147  |"
      ]
     },
     "metadata": {},
     "output_type": "display_data"
    },
    {
     "data": {
      "text/html": [
       "<pre>+---------+--------------+-------------------+-----------------------------------+-------------+</pre>"
      ],
      "text/plain": [
       "+---------+--------------+-------------------+-----------------------------------+-------------+"
      ]
     },
     "metadata": {},
     "output_type": "display_data"
    },
    {
     "data": {
      "text/html": [
       "<pre>Optimization Complete: Maximum number of passes through the data reached (hard limit).</pre>"
      ],
      "text/plain": [
       "Optimization Complete: Maximum number of passes through the data reached (hard limit)."
      ]
     },
     "metadata": {},
     "output_type": "display_data"
    },
    {
     "data": {
      "text/html": [
       "<pre>Computing final objective value and training Predictive Error.</pre>"
      ],
      "text/plain": [
       "Computing final objective value and training Predictive Error."
      ]
     },
     "metadata": {},
     "output_type": "display_data"
    },
    {
     "data": {
      "text/html": [
       "<pre>       Final objective value: 1.39262</pre>"
      ],
      "text/plain": [
       "       Final objective value: 1.39262"
      ]
     },
     "metadata": {},
     "output_type": "display_data"
    },
    {
     "data": {
      "text/html": [
       "<pre>       Final training Predictive Error: 0.692672</pre>"
      ],
      "text/plain": [
       "       Final training Predictive Error: 0.692672"
      ]
     },
     "metadata": {},
     "output_type": "display_data"
    }
   ],
   "source": [
    "'''\n",
    "model = gl.item_similarity_recommender.create(training_data,user_id='playlist_id', item_id='track_id', \n",
    "                                              similarity_type='cosine', \n",
    "                                              training_method='dense',\n",
    "                                              only_top_k=knn,\n",
    "                                              verbose = True)\n",
    "'''\n",
    "\n",
    "model = gl.ranking_factorization_recommender.create(training_data,\n",
    "                                             user_id='playlist_id',\n",
    "                                             item_id='track_id',     \n",
    "                                             user_data = side_playlists,\n",
    "                                             item_data = side_tracks,\n",
    "                                             num_factors = 25, #default 32\n",
    "                                             regularization = 1e-6, #1e-09\n",
    "                                             linear_regularization = 1e-6, #1e-09\n",
    "                                             num_sampled_negative_examples =3, #4\n",
    "                                             binary_target = False, #False\n",
    "                                             max_iterations = 50, #50\n",
    "                                             #sgd_step_size = 0, #0 sample auto\n",
    "                                             #random_seed = 0, #0\n",
    "                                             solver = \"auto\" #ials,adagrag,sgd,auto\n",
    "                                            )"
   ]
  },
  {
   "cell_type": "code",
   "execution_count": 37,
   "metadata": {},
   "outputs": [
    {
     "name": "stdout",
     "output_type": "stream",
     "text": [
      "User 0 of 10000\n",
      "User 2500 of 10000\n",
      "User 5000 of 10000\n",
      "User 7500 of 10000\n",
      "Recommender performance is: MAP = 0.0012\n"
     ]
    }
   ],
   "source": [
    "recommendation = model.recommend(k=n_rec,exclude_known = True,users=target_playlists , items=target_tracks, verbose= False)\n",
    "dic = {}\n",
    "for rec in recommendation:\n",
    "    p = int(rec[\"playlist_id\"])\n",
    "    t = int(rec[\"track_id\"])\n",
    "    if p in dic:\n",
    "        dic[p].append(t)\n",
    "    else:\n",
    "        dic[p] = []\n",
    "        dic[p].append(t)\n",
    "rec = []\n",
    "for p in dic.keys():\n",
    "    rec.append([int(p),dic[p]])\n",
    "\n",
    "m=dr.evaluateMAPfromRecommendations(rec)"
   ]
  },
  {
   "cell_type": "code",
   "execution_count": 38,
   "metadata": {},
   "outputs": [
    {
     "name": "stdout",
     "output_type": "stream",
     "text": [
      "0.00121630555556\n"
     ]
    }
   ],
   "source": [
    "print m"
   ]
  },
  {
   "cell_type": "code",
   "execution_count": null,
   "metadata": {
    "collapsed": true
   },
   "outputs": [],
   "source": []
  }
 ],
 "metadata": {
  "kernelspec": {
   "display_name": "Python 2",
   "language": "python",
   "name": "python2"
  },
  "language_info": {
   "codemirror_mode": {
    "name": "ipython",
    "version": 2
   },
   "file_extension": ".py",
   "mimetype": "text/x-python",
   "name": "python",
   "nbconvert_exporter": "python",
   "pygments_lexer": "ipython2",
   "version": "2.7.13"
  }
 },
 "nbformat": 4,
 "nbformat_minor": 2
}
