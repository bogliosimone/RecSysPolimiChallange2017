{
 "cells": [
  {
   "cell_type": "code",
   "execution_count": 6,
   "metadata": {},
   "outputs": [
    {
     "name": "stdout",
     "output_type": "stream",
     "text": [
      "Date Reader Challange Polimi 2017\n",
      "Loading data from ./DumpData/DataReaderFullDump\n",
      "Dataset full loaded\n",
      "--- !!!Warning!!! There is not test set here! ---\n"
     ]
    }
   ],
   "source": [
    "from SLIM_BPR.Cython.SLIM_BPR_Cython import SLIM_BPR_Cython\n",
    "import numpy as np\n",
    "import scipy.sparse as sps\n",
    "from DataReader import DataReaderChallangePolimi2017\n",
    "dr = DataReaderChallangePolimi2017(evaluation = False, rebuild = False)\n",
    "\n",
    "urm = dr.getURM_csr()\n",
    "icm = dr.getICM_csr(albums=True,artists=True,tags=False)\n",
    "test = dr.getTestURM_csr()"
   ]
  },
  {
   "cell_type": "code",
   "execution_count": 7,
   "metadata": {
    "collapsed": true
   },
   "outputs": [],
   "source": [
    "urm_plus = sps.vstack([urm,icm.T]).tocsr()"
   ]
  },
  {
   "cell_type": "code",
   "execution_count": 8,
   "metadata": {},
   "outputs": [
    {
     "name": "stdout",
     "output_type": "stream",
     "text": [
      "Epoch 0 of 10 complete in 0.01 minutes\n",
      "Processed 500000 ( 41.19% ) in 12.92 seconds. Sample per second: 38706\n",
      "Processed 1000000 ( 82.39% ) in 10.12 seconds. Sample per second: 45200\n",
      "Processed 1213766 ( 100.00% ) in 3.68 seconds. Sample per second: 47267\n",
      "Return S matrix to python caller\n",
      "Epoch 1 of 10 complete in 0.52 minutes\n",
      "Processed 500000 ( 41.19% ) in 6.57 seconds. Sample per second: 76057\n",
      "Processed 1000000 ( 82.39% ) in 7.92 seconds. Sample per second: 71819\n",
      "Processed 1213766 ( 100.00% ) in 4.24 seconds. Sample per second: 70392\n",
      "Return S matrix to python caller\n",
      "Epoch 2 of 10 complete in 0.41 minutes\n",
      "Processed 500000 ( 41.19% ) in 7.75 seconds. Sample per second: 64541\n",
      "Processed 1000000 ( 82.39% ) in 8.75 seconds. Sample per second: 63488\n",
      "Processed 1213766 ( 100.00% ) in 4.19 seconds. Sample per second: 63233\n",
      "Return S matrix to python caller\n",
      "Epoch 3 of 10 complete in 0.44 minutes\n",
      "Processed 500000 ( 41.19% ) in 6.46 seconds. Sample per second: 77388\n",
      "Processed 1000000 ( 82.39% ) in 8.02 seconds. Sample per second: 71337\n",
      "Processed 1213766 ( 100.00% ) in 3.43 seconds. Sample per second: 69653\n",
      "Return S matrix to python caller\n",
      "Epoch 4 of 10 complete in 0.42 minutes\n",
      "Processed 500000 ( 41.19% ) in 6.72 seconds. Sample per second: 74449\n",
      "Processed 1000000 ( 82.39% ) in 8.22 seconds. Sample per second: 70329\n",
      "Processed 1213766 ( 100.00% ) in 3.64 seconds. Sample per second: 68788\n",
      "Return S matrix to python caller\n",
      "Epoch 5 of 10 complete in 0.42 minutes\n",
      "Processed 500000 ( 41.19% ) in 7.10 seconds. Sample per second: 70383\n",
      "Processed 1000000 ( 82.39% ) in 7.64 seconds. Sample per second: 68315\n",
      "Processed 1213766 ( 100.00% ) in 4.06 seconds. Sample per second: 67193\n",
      "Return S matrix to python caller\n",
      "Epoch 6 of 10 complete in 0.42 minutes\n",
      "Processed 500000 ( 41.19% ) in 6.86 seconds. Sample per second: 72886\n",
      "Processed 1000000 ( 82.39% ) in 8.49 seconds. Sample per second: 69023\n",
      "Processed 1213766 ( 100.00% ) in 4.00 seconds. Sample per second: 67432\n",
      "Return S matrix to python caller\n",
      "Epoch 7 of 10 complete in 0.43 minutes\n",
      "Processed 500000 ( 41.19% ) in 6.67 seconds. Sample per second: 74974\n",
      "Processed 1000000 ( 82.39% ) in 8.24 seconds. Sample per second: 70245\n",
      "Processed 1213766 ( 100.00% ) in 3.85 seconds. Sample per second: 68006\n",
      "Return S matrix to python caller\n",
      "Epoch 8 of 10 complete in 0.44 minutes\n",
      "Processed 500000 ( 41.19% ) in 6.94 seconds. Sample per second: 72025\n",
      "Processed 1000000 ( 82.39% ) in 8.78 seconds. Sample per second: 67641\n",
      "Processed 1213766 ( 100.00% ) in 4.16 seconds. Sample per second: 66819\n",
      "Return S matrix to python caller\n",
      "Epoch 9 of 10 complete in 0.44 minutes\n",
      "Fit completed in 3.95 minutes\n"
     ]
    }
   ],
   "source": [
    "recommender = SLIM_BPR_Cython(urm_plus, recompile_cython=False, positive_threshold=1, sparse_weights=True )\n",
    "logFile = open(\"SLIM_BPR_Cython2.txt\", \"a\")\n",
    "recommender.fit(epochs=10, validate_every_N_epochs= 1000, URM_test=test,topK=100,\n",
    "                logFile=logFile, batch_size=1, sgd_mode='adagrad', learning_rate=1e-4,\n",
    "                 start_validation_after_N_epochs = 1000,\n",
    "                 lambda_i = 0.0025, lambda_j = 0.0025,  # lambda_i = 0.0025, lambda_j = 0.00025,\n",
    "                )\n",
    "\n",
    "sim = recommender.getSimilarity()\n",
    "#dr.evaluateMAP(urm * sim)"
   ]
  },
  {
   "cell_type": "code",
   "execution_count": 9,
   "metadata": {
    "collapsed": true
   },
   "outputs": [],
   "source": [
    "sim = recommender.getSimilarity()"
   ]
  },
  {
   "cell_type": "code",
   "execution_count": 10,
   "metadata": {
    "collapsed": true
   },
   "outputs": [],
   "source": [
    "dr.save_sparse_csr(array=sim,filename=\"./DumpData/sim_bpr_10e_100k_fulltrain\")"
   ]
  },
  {
   "cell_type": "code",
   "execution_count": null,
   "metadata": {
    "collapsed": true
   },
   "outputs": [],
   "source": []
  }
 ],
 "metadata": {
  "kernelspec": {
   "display_name": "Python 2",
   "language": "python",
   "name": "python2"
  },
  "language_info": {
   "codemirror_mode": {
    "name": "ipython",
    "version": 2
   },
   "file_extension": ".py",
   "mimetype": "text/x-python",
   "name": "python",
   "nbconvert_exporter": "python",
   "pygments_lexer": "ipython2",
   "version": "2.7.13"
  }
 },
 "nbformat": 4,
 "nbformat_minor": 2
}
