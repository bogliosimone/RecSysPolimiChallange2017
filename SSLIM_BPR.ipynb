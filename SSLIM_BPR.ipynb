{
 "cells": [
  {
   "cell_type": "code",
   "execution_count": 1,
   "metadata": {},
   "outputs": [
    {
     "name": "stdout",
     "output_type": "stream",
     "text": [
      "Date Reader Challange Polimi 2017\n",
      "Loading data from ./DumpData/DataReaderTrainTestDump\n",
      "Dataset train-test loaded\n"
     ]
    }
   ],
   "source": [
    "from SLIM_BPR.Cython.SLIM_BPR_Cython import SLIM_BPR_Cython\n",
    "import numpy as np\n",
    "import scipy.sparse as sps\n",
    "from DataReader import DataReaderChallangePolimi2017\n",
    "dr = DataReaderChallangePolimi2017(evaluation = True, rebuild = False)\n",
    "\n",
    "urm = dr.getURM_csr()\n",
    "icm = dr.getICM_csr(albums=True,artists=True,tags=False)\n",
    "test = dr.getTestURM_csr()\n",
    "ucm = dr.getOwnersUCM_csr()"
   ]
  },
  {
   "cell_type": "code",
   "execution_count": 9,
   "metadata": {
    "collapsed": true
   },
   "outputs": [],
   "source": [
    "urm_plus = sps.vstack([urm,icm.T]).tocsr()"
   ]
  },
  {
   "cell_type": "code",
   "execution_count": 6,
   "metadata": {},
   "outputs": [],
   "source": [
    "ucm_plus = sps.vstack([urm.T,ucm.T]).tocsr()"
   ]
  },
  {
   "cell_type": "code",
   "execution_count": 12,
   "metadata": {},
   "outputs": [
    {
     "name": "stdout",
     "output_type": "stream",
     "text": [
      "(134601, 100000)\n",
      "(145170, 57561)\n"
     ]
    }
   ],
   "source": [
    "print urm_plus.shape\n",
    "print ucm_plus.shape"
   ]
  },
  {
   "cell_type": "code",
   "execution_count": null,
   "metadata": {
    "collapsed": true
   },
   "outputs": [],
   "source": []
  },
  {
   "cell_type": "code",
   "execution_count": 13,
   "metadata": {},
   "outputs": [
    {
     "name": "stdout",
     "output_type": "stream",
     "text": [
      "Epoch 0 of 10 complete in 0.00 minutes\n",
      "Processed 500000 ( 48.94% ) in 5.53 seconds. Sample per second: 90367\n",
      "Processed 1000000 ( 97.89% ) in 6.60 seconds. Sample per second: 86237\n",
      "Processed 1021573 ( 100.00% ) in 0.87 seconds. Sample per second: 86042\n",
      "Return S matrix to python caller\n",
      "Epoch 1 of 10 complete in 0.24 minutes\n",
      "Processed 500000 ( 48.94% ) in 5.73 seconds. Sample per second: 87199\n",
      "Processed 1000000 ( 97.89% ) in 6.72 seconds. Sample per second: 85302\n",
      "Processed 1021573 ( 100.00% ) in 1.01 seconds. Sample per second: 85082\n",
      "Return S matrix to python caller\n",
      "Epoch 2 of 10 complete in 0.26 minutes\n",
      "Processed 500000 ( 48.94% ) in 5.48 seconds. Sample per second: 91308\n",
      "Processed 1000000 ( 97.89% ) in 6.48 seconds. Sample per second: 87108\n",
      "Processed 1021573 ( 100.00% ) in 0.77 seconds. Sample per second: 86802\n",
      "Return S matrix to python caller\n",
      "Epoch 3 of 10 complete in 0.26 minutes\n",
      "Processed 500000 ( 48.94% ) in 6.23 seconds. Sample per second: 80283\n",
      "Processed 1000000 ( 97.89% ) in 6.34 seconds. Sample per second: 81044\n",
      "Processed 1021573 ( 100.00% ) in 0.62 seconds. Sample per second: 80981\n",
      "Return S matrix to python caller\n",
      "Epoch 4 of 10 complete in 0.26 minutes\n",
      "Processed 500000 ( 48.94% ) in 6.13 seconds. Sample per second: 81526\n",
      "Processed 1000000 ( 97.89% ) in 6.92 seconds. Sample per second: 77405\n",
      "Processed 1021573 ( 100.00% ) in 1.22 seconds. Sample per second: 77246\n",
      "Return S matrix to python caller\n",
      "Epoch 5 of 10 complete in 0.28 minutes\n",
      "Processed 500000 ( 48.94% ) in 5.65 seconds. Sample per second: 88496\n",
      "Processed 1000000 ( 97.89% ) in 6.81 seconds. Sample per second: 84660\n",
      "Processed 1021573 ( 100.00% ) in 1.11 seconds. Sample per second: 84393\n",
      "Return S matrix to python caller\n",
      "Epoch 6 of 10 complete in 0.26 minutes\n",
      "Processed 500000 ( 48.94% ) in 6.31 seconds. Sample per second: 79265\n",
      "Processed 1000000 ( 97.89% ) in 6.07 seconds. Sample per second: 82850\n",
      "Processed 1021573 ( 100.00% ) in 0.33 seconds. Sample per second: 82886\n",
      "Return S matrix to python caller\n",
      "Epoch 7 of 10 complete in 0.26 minutes\n",
      "Processed 500000 ( 48.94% ) in 5.54 seconds. Sample per second: 90269\n",
      "Processed 1000000 ( 97.89% ) in 6.58 seconds. Sample per second: 86386\n",
      "Processed 1021573 ( 100.00% ) in 0.85 seconds. Sample per second: 86238\n",
      "Return S matrix to python caller\n",
      "Epoch 8 of 10 complete in 0.26 minutes\n",
      "Processed 500000 ( 48.94% ) in 5.60 seconds. Sample per second: 89254\n",
      "Processed 1000000 ( 97.89% ) in 6.41 seconds. Sample per second: 87650\n",
      "Processed 1021573 ( 100.00% ) in 0.69 seconds. Sample per second: 87404\n",
      "Return S matrix to python caller\n",
      "Epoch 9 of 10 complete in 0.27 minutes\n",
      "Fit completed in 2.35 minutes\n"
     ]
    }
   ],
   "source": [
    "recommender = SLIM_BPR_Cython(urm_plus, recompile_cython=False, positive_threshold=1, sparse_weights=True )\n",
    "logFile = open(\"SLIM_BPR_Cython2.txt\", \"a\")\n",
    "recommender.fit(epochs=10, validate_every_N_epochs= 1000, URM_test=test,topK=100,\n",
    "                logFile=logFile, batch_size=1, sgd_mode='adagrad', learning_rate=1e-4,\n",
    "                 start_validation_after_N_epochs = 1000,\n",
    "                 lambda_i = 0.0025, lambda_j = 0.0025,  # lambda_i = 0.0025, lambda_j = 0.00025,\n",
    "                )"
   ]
  },
  {
   "cell_type": "code",
   "execution_count": 14,
   "metadata": {},
   "outputs": [
    {
     "name": "stdout",
     "output_type": "stream",
     "text": [
      "User 0 of 10000\n",
      "User 2500 of 10000\n",
      "User 5000 of 10000\n",
      "User 7500 of 10000\n",
      "Recommender performance is: MAP = 0.0371\n"
     ]
    },
    {
     "data": {
      "text/plain": [
       "0.037139972222222289"
      ]
     },
     "execution_count": 14,
     "metadata": {},
     "output_type": "execute_result"
    }
   ],
   "source": [
    "sim = recommender.getSimilarity()\n",
    "#dr.evaluateMAP(urm*sim) #urmplus\n",
    "#dr.evaluateMAP(sim*urm) #ucmplus"
   ]
  },
  {
   "cell_type": "code",
   "execution_count": 10,
   "metadata": {
    "collapsed": true
   },
   "outputs": [],
   "source": [
    "dr.save_sparse_csr(array=sim,filename=\"./DumpData/sim_bpr_10e_100k_fulltrain\")"
   ]
  },
  {
   "cell_type": "code",
   "execution_count": null,
   "metadata": {
    "collapsed": true
   },
   "outputs": [],
   "source": []
  }
 ],
 "metadata": {
  "kernelspec": {
   "display_name": "Python 2",
   "language": "python",
   "name": "python2"
  },
  "language_info": {
   "codemirror_mode": {
    "name": "ipython",
    "version": 2
   },
   "file_extension": ".py",
   "mimetype": "text/x-python",
   "name": "python",
   "nbconvert_exporter": "python",
   "pygments_lexer": "ipython2",
   "version": "2.7.13"
  }
 },
 "nbformat": 4,
 "nbformat_minor": 2
}
