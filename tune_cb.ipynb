{
 "cells": [
  {
   "cell_type": "code",
   "execution_count": 3,
   "metadata": {},
   "outputs": [
    {
     "name": "stdout",
     "output_type": "stream",
     "text": [
      "Date Reader Challange Polimi 2017\n",
      "Loading data from ./DumpData/DataReaderTrainTestDump\n",
      "Dataset train-test loaded\n"
     ]
    }
   ],
   "source": [
    "from DataReader import DataReaderChallangePolimi2017\n",
    "import implicit\n",
    "from CB_asy import CB_asymmetric_cosine\n",
    "from CF_IB_asy import CF_IB_asymmetric_cosine\n",
    "from CF_UB_asy import CF_UB_asymmetric_cosine\n",
    "from implicit.nearest_neighbours import (BM25Recommender, CosineRecommender,TFIDFRecommender,bm25_weight)\n",
    "from sklearn.preprocessing import normalize\n",
    "import numpy as np\n",
    "import pickle\n",
    "import scipy.sparse as sp\n",
    "\n",
    "evaluation = True\n",
    "rebuild = False\n",
    "dr = DataReaderChallangePolimi2017(evaluation=evaluation,rebuild=rebuild)\n",
    "\n",
    "urm = dr.getURM_csr()\n",
    "t_p = dr.target_playlists\n",
    "t_t = dr.target_tracks"
   ]
  },
  {
   "cell_type": "code",
   "execution_count": 100,
   "metadata": {},
   "outputs": [
    {
     "name": "stdout",
     "output_type": "stream",
     "text": [
      "0.0702706944444\n"
     ]
    }
   ],
   "source": [
    "#artist\n",
    "icm = dr.getICM_csr(albums=False,artists=True,tags=False)\n",
    "icm = normalize(icm,axis=0)\n",
    "model = BM25Recommender(K=55)\n",
    "model.fit(icm)\n",
    "s = model.similarity\n",
    "s.setdiag(0)\n",
    "r_ar = urm*s.T\n",
    "r_ar = normalize(r_ar, axis=0)\n",
    "if evaluation: print dr.evaluateMAP(r_ar,verbose=False)\n",
    "r_ar = dr.reduceRM(r_ar)"
   ]
  },
  {
   "cell_type": "code",
   "execution_count": 22,
   "metadata": {},
   "outputs": [
    {
     "name": "stdout",
     "output_type": "stream",
     "text": [
      "0.0711872222222\n"
     ]
    }
   ],
   "source": [
    "#album\n",
    "icm = dr.getICM_csr(albums=True,artists=False,tags=False)\n",
    "icm = normalize(icm,axis=0)\n",
    "model = BM25Recommender(K=55)\n",
    "model.fit(icm)\n",
    "s = model.similarity\n",
    "s.setdiag(0)\n",
    "r_al = urm*s.T\n",
    "r_al = normalize(r_al, axis=0)\n",
    "#r_al = bm25_weight(r_al)\n",
    "if evaluation: print dr.evaluateMAP(r_al,verbose=False)\n",
    "r_al = dr.reduceRM(r_al)"
   ]
  },
  {
   "cell_type": "code",
   "execution_count": 15,
   "metadata": {},
   "outputs": [
    {
     "name": "stdout",
     "output_type": "stream",
     "text": [
      "0.0832627777778\n"
     ]
    }
   ],
   "source": [
    "#album and artist\n",
    "icm = dr.getICM_csr(albums=True,artists=True,tags=False)\n",
    "icm = normalize(icm,axis=0)\n",
    "model = BM25Recommender(K=55)\n",
    "model.fit(icm)\n",
    "s = model.similarity\n",
    "s.setdiag(0)\n",
    "r_al_ar = urm*s.T #or s\n",
    "#r_al_ar = normalize(r_al_ar, axis=0)\n",
    "r_al_ar = bm25_weight(r_al_ar)\n",
    "if evaluation: print dr.evaluateMAP(r_al_ar,verbose=False)\n",
    "r_al_ar = dr.reduceRM(r_al_ar)"
   ]
  },
  {
   "cell_type": "code",
   "execution_count": null,
   "metadata": {
    "collapsed": true
   },
   "outputs": [],
   "source": [
    "0.0807190277778"
   ]
  },
  {
   "cell_type": "code",
   "execution_count": 13,
   "metadata": {},
   "outputs": [
    {
     "name": "stdout",
     "output_type": "stream",
     "text": [
      "0.0406716666667\n"
     ]
    }
   ],
   "source": [
    "#tags\n",
    "icm = dr.getICM_csr(albums=False,artists=False,tags=True)\n",
    "#icm = normalize(icm,axis=1)   # little improvment\n",
    "model = BM25Recommender(K = 15)\n",
    "model.fit(icm)\n",
    "s = model.similarity\n",
    "#s.setdiag(0)\n",
    "r_tag = urm*s\n",
    "#r_tag = normalize(r_tag, axis=0)\n",
    "r_tag = bm25_weight(r_tag)\n",
    "if evaluation: print dr.evaluateMAP(r_tag, verbose = False)\n",
    "r_tag = dr.reduceRM(r_tag)"
   ]
  },
  {
   "cell_type": "code",
   "execution_count": 25,
   "metadata": {},
   "outputs": [
    {
     "name": "stdout",
     "output_type": "stream",
     "text": [
      "0.0841366666667\n"
     ]
    }
   ],
   "source": [
    "r_tot = 50*r_al_ar + r_tag \n",
    "print dr.evaluateMAP(r_tot, verbose = False)"
   ]
  },
  {
   "cell_type": "code",
   "execution_count": 56,
   "metadata": {},
   "outputs": [
    {
     "name": "stdout",
     "output_type": "stream",
     "text": [
      "0.08434775\n"
     ]
    }
   ],
   "source": [
    "r_tot2 = normalize(r_tot,axis=1) + 0.30* r_al + 0.30 * r_ar\n",
    "print dr.evaluateMAP(r_tot2, verbose = False)"
   ]
  },
  {
   "cell_type": "code",
   "execution_count": 120,
   "metadata": {},
   "outputs": [
    {
     "name": "stdout",
     "output_type": "stream",
     "text": [
      "0.0838819722222\n"
     ]
    }
   ],
   "source": [
    "r_tot3 = 0.80* r_al + 1 * r_ar + 0.10*r_tag \n",
    "print dr.evaluateMAP(r_tot3, verbose = False)"
   ]
  },
  {
   "cell_type": "code",
   "execution_count": null,
   "metadata": {
    "collapsed": true
   },
   "outputs": [],
   "source": []
  },
  {
   "cell_type": "code",
   "execution_count": null,
   "metadata": {
    "collapsed": true
   },
   "outputs": [],
   "source": []
  },
  {
   "cell_type": "code",
   "execution_count": null,
   "metadata": {
    "collapsed": true
   },
   "outputs": [],
   "source": []
  },
  {
   "cell_type": "code",
   "execution_count": null,
   "metadata": {
    "collapsed": true
   },
   "outputs": [],
   "source": [
    "#####TUNING#####"
   ]
  },
  {
   "cell_type": "code",
   "execution_count": 25,
   "metadata": {
    "collapsed": true
   },
   "outputs": [],
   "source": [
    "# album and artist\n",
    "def cb_albums_artists(urm,icm,k):\n",
    "    icm = normalize(icm,axis=0)\n",
    "    model = BM25Recommender(K=k)\n",
    "    model.fit(icm)\n",
    "    s = model.similarity\n",
    "    r_al_ar = urm*s.T #or s\n",
    "    r_al_ar = normalize(r_al_ar, axis=0)\n",
    "    return dr.evaluateMAP(r_al_ar,verbose=False)"
   ]
  },
  {
   "cell_type": "code",
   "execution_count": 23,
   "metadata": {
    "collapsed": true
   },
   "outputs": [],
   "source": [
    "#tags\n",
    "def cb_tags(urm,icm,k):\n",
    "    icm = normalize(icm,axis=1)   # little improvment? or just overfitting?\n",
    "    model = TFIDFRecommender(K = k)\n",
    "    model.fit(icm)\n",
    "    s = model.similarity\n",
    "    r_tag = urm*s #######wuuuut no urm\n",
    "    r_tag = normalize(r_tag, axis=0)\n",
    "    return dr.evaluateMAP(r_tag, verbose = False)"
   ]
  },
  {
   "cell_type": "code",
   "execution_count": null,
   "metadata": {
    "collapsed": true
   },
   "outputs": [],
   "source": [
    "#tune tags\n",
    "urm = dr.getURM_csr()\n",
    "icm = dr.getICM_csr(albums=False,artists=False,tags=True)\n",
    "\n",
    "for i in range(5,250,5):\n",
    "    score= cb_tags(urm=urm,icm=icm,k=i)\n",
    "    print (\"k = {:3d} \\t\\tmap = {:1.4f}\").format(i,score)"
   ]
  },
  {
   "cell_type": "code",
   "execution_count": null,
   "metadata": {
    "collapsed": true
   },
   "outputs": [],
   "source": [
    "#tune album artist\n",
    "urm = dr.getURM_csr()\n",
    "icm = dr.getICM_csr(albums=True,artists=True,tags=False)\n",
    "\n",
    "for i in range(5,250,5):\n",
    "    score= cb_albums_artists(urm=urm,icm=icm,k=i)\n",
    "    print (\"k = {:3d} \\t\\tmap = {:1.4f}\").format(i,score)"
   ]
  },
  {
   "cell_type": "code",
   "execution_count": 24,
   "metadata": {},
   "outputs": [
    {
     "name": "stdout",
     "output_type": "stream",
     "text": [
      "k = 0.000 \t\tmap = 0.08072\n",
      "k = 0.025 \t\tmap = 0.08129\n",
      "k = 0.050 \t\tmap = 0.08157\n",
      "k = 0.075 \t\tmap = 0.08175\n",
      "k = 0.100 \t\tmap = 0.08220\n",
      "k = 0.125 \t\tmap = 0.08198\n",
      "k = 0.150 \t\tmap = 0.08205\n",
      "k = 0.175 \t\tmap = 0.08216\n",
      "k = 0.200 \t\tmap = 0.08221\n",
      "k = 0.225 \t\tmap = 0.08206\n",
      "k = 0.250 \t\tmap = 0.08192\n",
      "k = 0.275 \t\tmap = 0.08189\n",
      "k = 0.300 \t\tmap = 0.08178\n",
      "k = 0.325 \t\tmap = 0.08162\n",
      "k = 0.350 \t\tmap = 0.08175\n",
      "k = 0.375 \t\tmap = 0.08172\n",
      "k = 0.400 \t\tmap = 0.08167\n",
      "k = 0.425 \t\tmap = 0.08159\n",
      "k = 0.450 \t\tmap = 0.08150\n",
      "k = 0.475 \t\tmap = 0.08143\n"
     ]
    }
   ],
   "source": [
    "#tune total\n",
    "for p in np.arange(0.00, 0.50, 0.025):\n",
    "    r_tot = p*r_tag + r_al_ar\n",
    "    score = dr.evaluateMAP(r_tot, verbose = False)\n",
    "    print (\"k = {:1.3f} \\t\\tmap = {:1.5f}\").format(p,score)"
   ]
  },
  {
   "cell_type": "code",
   "execution_count": null,
   "metadata": {
    "collapsed": true
   },
   "outputs": [],
   "source": []
  }
 ],
 "metadata": {
  "kernelspec": {
   "display_name": "Python 2",
   "language": "python",
   "name": "python2"
  },
  "language_info": {
   "codemirror_mode": {
    "name": "ipython",
    "version": 2
   },
   "file_extension": ".py",
   "mimetype": "text/x-python",
   "name": "python",
   "nbconvert_exporter": "python",
   "pygments_lexer": "ipython2",
   "version": "2.7.13"
  }
 },
 "nbformat": 4,
 "nbformat_minor": 2
}
